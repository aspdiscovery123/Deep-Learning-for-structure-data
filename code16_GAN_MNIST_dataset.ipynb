{
  "nbformat": 4,
  "nbformat_minor": 0,
  "metadata": {
    "colab": {
      "name": "code16_GAN-MNIST_dataset.ipynb",
      "provenance": []
    },
    "kernelspec": {
      "name": "python3",
      "display_name": "Python 3"
    },
    "language_info": {
      "name": "python"
    },
    "accelerator": "GPU"
  },
  "cells": [
    {
      "cell_type": "markdown",
      "metadata": {
        "id": "1iPUfJfjPkCJ"
      },
      "source": [
        "# GAN - generating fake handwritten digits"
      ]
    },
    {
      "cell_type": "code",
      "metadata": {
        "colab": {
          "base_uri": "https://localhost:8080/"
        },
        "id": "3L8MZCUcPVqa",
        "outputId": "1a5ea4d4-cd8d-4e3b-d7ad-eae4e856bffe"
      },
      "source": [
        "from tensorflow.keras.datasets import mnist\n",
        "(xtrain,ytrain),(xtest,ytest) = mnist.load_data()\n",
        "print(xtrain.shape,ytrain.shape,xtest.shape,ytest.shape)"
      ],
      "execution_count": 1,
      "outputs": [
        {
          "output_type": "stream",
          "name": "stdout",
          "text": [
            "Downloading data from https://storage.googleapis.com/tensorflow/tf-keras-datasets/mnist.npz\n",
            "11493376/11490434 [==============================] - 0s 0us/step\n",
            "11501568/11490434 [==============================] - 0s 0us/step\n",
            "(60000, 28, 28) (60000,) (10000, 28, 28) (10000,)\n"
          ]
        }
      ]
    },
    {
      "cell_type": "markdown",
      "metadata": {
        "id": "jSs6P90MP-Xc"
      },
      "source": [
        "### Generator Model"
      ]
    },
    {
      "cell_type": "code",
      "metadata": {
        "id": "62jOkTqCP9fy"
      },
      "source": [
        "from tensorflow.keras import models,layers"
      ],
      "execution_count": 2,
      "outputs": []
    },
    {
      "cell_type": "code",
      "metadata": {
        "colab": {
          "base_uri": "https://localhost:8080/"
        },
        "id": "RXOuXB6dP0nW",
        "outputId": "65755220-61e8-4c7b-f2b7-a7d13bc39478"
      },
      "source": [
        "# Generator\n",
        "gen_input = layers.Input(shape=(100,),name='generator_input')\n",
        "x = layers.Dense(128*7*7,activation='tanh')(gen_input)\n",
        "x = layers.BatchNormalization()(x)\n",
        "x = layers.Reshape((7,7,128))(x)\n",
        "\n",
        "x = layers.UpSampling2D()(x)\n",
        "x = layers.Conv2D(64,(5,5),padding='same')(x)\n",
        "x = layers.BatchNormalization()(x)\n",
        "x = layers.Activation(activation='tanh')(x)\n",
        "\n",
        "x = layers.UpSampling2D()(x)\n",
        "x = layers.Conv2D(128,(5,5),padding='same')(x)\n",
        "x = layers.BatchNormalization()(x)\n",
        "x = layers.Activation(activation='tanh')(x)\n",
        "\n",
        "gen_op = layers.Conv2D(1,(5,5),activation='tanh',padding='same',name='generator_output')(x)\n",
        "\n",
        "gen_model = models.Model(gen_input,gen_op,name='generator')\n",
        "gen_model.compile(loss='binary_crossentropy',optimizer='adam')\n",
        "gen_model.summary()"
      ],
      "execution_count": 3,
      "outputs": [
        {
          "output_type": "stream",
          "name": "stdout",
          "text": [
            "Model: \"generator\"\n",
            "_________________________________________________________________\n",
            "Layer (type)                 Output Shape              Param #   \n",
            "=================================================================\n",
            "generator_input (InputLayer) [(None, 100)]             0         \n",
            "_________________________________________________________________\n",
            "dense (Dense)                (None, 6272)              633472    \n",
            "_________________________________________________________________\n",
            "batch_normalization (BatchNo (None, 6272)              25088     \n",
            "_________________________________________________________________\n",
            "reshape (Reshape)            (None, 7, 7, 128)         0         \n",
            "_________________________________________________________________\n",
            "up_sampling2d (UpSampling2D) (None, 14, 14, 128)       0         \n",
            "_________________________________________________________________\n",
            "conv2d (Conv2D)              (None, 14, 14, 64)        204864    \n",
            "_________________________________________________________________\n",
            "batch_normalization_1 (Batch (None, 14, 14, 64)        256       \n",
            "_________________________________________________________________\n",
            "activation (Activation)      (None, 14, 14, 64)        0         \n",
            "_________________________________________________________________\n",
            "up_sampling2d_1 (UpSampling2 (None, 28, 28, 64)        0         \n",
            "_________________________________________________________________\n",
            "conv2d_1 (Conv2D)            (None, 28, 28, 128)       204928    \n",
            "_________________________________________________________________\n",
            "batch_normalization_2 (Batch (None, 28, 28, 128)       512       \n",
            "_________________________________________________________________\n",
            "activation_1 (Activation)    (None, 28, 28, 128)       0         \n",
            "_________________________________________________________________\n",
            "generator_output (Conv2D)    (None, 28, 28, 1)         3201      \n",
            "=================================================================\n",
            "Total params: 1,072,321\n",
            "Trainable params: 1,059,393\n",
            "Non-trainable params: 12,928\n",
            "_________________________________________________________________\n"
          ]
        }
      ]
    },
    {
      "cell_type": "markdown",
      "metadata": {
        "id": "X6W31nsSSv8R"
      },
      "source": [
        "### Discriminator Model"
      ]
    },
    {
      "cell_type": "code",
      "metadata": {
        "colab": {
          "base_uri": "https://localhost:8080/"
        },
        "id": "4YP3qLKMRfjb",
        "outputId": "f0e82284-7b58-4b82-ac53-e472949352e5"
      },
      "source": [
        "# Discriminator model\n",
        "dis_input = layers.Input(shape=(28,28,1),name='discriminator_input')\n",
        "\n",
        "x = layers.Conv2D(64,(5,5),padding='same')(dis_input)\n",
        "x = layers.BatchNormalization()(x)\n",
        "x = layers.Activation(activation='relu')(x)\n",
        "x = layers.MaxPooling2D()(x)\n",
        "\n",
        "x = layers.Conv2D(128,(5,5),padding='same')(x)\n",
        "x = layers.BatchNormalization()(x)\n",
        "x = layers.Activation(activation='relu')(x)\n",
        "x = layers.Dropout(0.3)(x)\n",
        "x = layers.MaxPooling2D()(x)\n",
        "\n",
        "x = layers.Flatten()(x)\n",
        "\n",
        "dis_op = layers.Dense(1,activation='sigmoid',name='discriminator_output')(x)\n",
        "\n",
        "dis_model = models.Model(dis_input,dis_op,name='discriminator')\n",
        "dis_model.compile(loss='binary_crossentropy',optimizer='adam')\n",
        "\n",
        "dis_model.summary()"
      ],
      "execution_count": 4,
      "outputs": [
        {
          "output_type": "stream",
          "name": "stdout",
          "text": [
            "Model: \"discriminator\"\n",
            "_________________________________________________________________\n",
            "Layer (type)                 Output Shape              Param #   \n",
            "=================================================================\n",
            "discriminator_input (InputLa [(None, 28, 28, 1)]       0         \n",
            "_________________________________________________________________\n",
            "conv2d_2 (Conv2D)            (None, 28, 28, 64)        1664      \n",
            "_________________________________________________________________\n",
            "batch_normalization_3 (Batch (None, 28, 28, 64)        256       \n",
            "_________________________________________________________________\n",
            "activation_2 (Activation)    (None, 28, 28, 64)        0         \n",
            "_________________________________________________________________\n",
            "max_pooling2d (MaxPooling2D) (None, 14, 14, 64)        0         \n",
            "_________________________________________________________________\n",
            "conv2d_3 (Conv2D)            (None, 14, 14, 128)       204928    \n",
            "_________________________________________________________________\n",
            "batch_normalization_4 (Batch (None, 14, 14, 128)       512       \n",
            "_________________________________________________________________\n",
            "activation_3 (Activation)    (None, 14, 14, 128)       0         \n",
            "_________________________________________________________________\n",
            "dropout (Dropout)            (None, 14, 14, 128)       0         \n",
            "_________________________________________________________________\n",
            "max_pooling2d_1 (MaxPooling2 (None, 7, 7, 128)         0         \n",
            "_________________________________________________________________\n",
            "flatten (Flatten)            (None, 6272)              0         \n",
            "_________________________________________________________________\n",
            "discriminator_output (Dense) (None, 1)                 6273      \n",
            "=================================================================\n",
            "Total params: 213,633\n",
            "Trainable params: 213,249\n",
            "Non-trainable params: 384\n",
            "_________________________________________________________________\n"
          ]
        }
      ]
    },
    {
      "cell_type": "code",
      "metadata": {
        "colab": {
          "base_uri": "https://localhost:8080/"
        },
        "id": "F5-0ISbNUCKk",
        "outputId": "e23b2c26-e87c-451b-8e70-0656b2bf1013"
      },
      "source": [
        "# creating a GAN model\n",
        "dis_model.trainable = False\n",
        "\n",
        "gan_input = layers.Input(shape=(100,))\n",
        "x = gen_model(gan_input)\n",
        "gan_output = dis_model(x)\n",
        "\n",
        "gan = models.Model(gan_input,gan_output)\n",
        "gan.compile(loss='binary_crossentropy',optimizer='adam')\n",
        "gan.summary()"
      ],
      "execution_count": 5,
      "outputs": [
        {
          "output_type": "stream",
          "name": "stdout",
          "text": [
            "Model: \"model\"\n",
            "_________________________________________________________________\n",
            "Layer (type)                 Output Shape              Param #   \n",
            "=================================================================\n",
            "input_1 (InputLayer)         [(None, 100)]             0         \n",
            "_________________________________________________________________\n",
            "generator (Functional)       (None, 28, 28, 1)         1072321   \n",
            "_________________________________________________________________\n",
            "discriminator (Functional)   (None, 1)                 213633    \n",
            "=================================================================\n",
            "Total params: 1,285,954\n",
            "Trainable params: 1,059,393\n",
            "Non-trainable params: 226,561\n",
            "_________________________________________________________________\n"
          ]
        }
      ]
    },
    {
      "cell_type": "code",
      "metadata": {
        "colab": {
          "base_uri": "https://localhost:8080/"
        },
        "id": "xXKq7a8NU7Ru",
        "outputId": "791a7deb-a672-4311-dc1d-2ab369613cc0"
      },
      "source": [
        "xtrain.shape,xtest.shape"
      ],
      "execution_count": 6,
      "outputs": [
        {
          "output_type": "execute_result",
          "data": {
            "text/plain": [
              "((60000, 28, 28), (10000, 28, 28))"
            ]
          },
          "metadata": {},
          "execution_count": 6
        }
      ]
    },
    {
      "cell_type": "code",
      "metadata": {
        "id": "r6Yr0XDxXrs1"
      },
      "source": [
        "xtrain = xtrain.reshape(60000,28,28,1)\n",
        "xtest = xtest.reshape(10000,28,28,1)"
      ],
      "execution_count": 7,
      "outputs": []
    },
    {
      "cell_type": "code",
      "metadata": {
        "id": "fknJhh11XxWE"
      },
      "source": [
        "xtrain = (xtrain - 127.5)/127.5\n",
        "xtest = (xtest - 127.5)/127.5"
      ],
      "execution_count": 8,
      "outputs": []
    },
    {
      "cell_type": "code",
      "metadata": {
        "id": "i-YeMjoiX2jA"
      },
      "source": [
        "import numpy as np\n",
        "import matplotlib.pyplot as plt"
      ],
      "execution_count": 9,
      "outputs": []
    },
    {
      "cell_type": "code",
      "metadata": {
        "colab": {
          "base_uri": "https://localhost:8080/"
        },
        "id": "jIy14c43X68x",
        "outputId": "708fb33f-d814-495a-dec1-74a6713ba60a"
      },
      "source": [
        "epochs = 20\n",
        "batch_size = 100\n",
        "batch_counts = xtrain.shape[0]/batch_size\n",
        "\n",
        "\n",
        "for i in range(epochs):\n",
        "  loss = []\n",
        "  for j in range(int(batch_counts)):\n",
        "    # step 1 - train discriminator\n",
        "    # step 2 - train generators\n",
        "\n",
        "    # Step 1 - train discriminator\n",
        "    # feed noise to generator to get fake images\n",
        "    # label fake images as 0\n",
        "    # load real images, label real images as 1\n",
        "    # combine both\n",
        "    # train dis, update parameters of dis\n",
        "    noise_input = np.random.rand(batch_size,100)\n",
        "    # getting predictions from generator\n",
        "    gen_pred = gen_model.predict(noise_input,batch_size=batch_size)\n",
        "    # loading batch_size = 150, 150 random real images\n",
        "    real_images = xtrain[np.random.randint(0,60000,batch_size)]\n",
        "    # combining the two - fake and real to create x for discriminator\n",
        "    xdis = np.concatenate([gen_pred,real_images])\n",
        "    # creating labels - 0 for fake, 1 for real\n",
        "    ydis = np.array([0]*batch_size+[1]*batch_size).reshape(-1,1)\n",
        "    ######################################################################\n",
        "    ########################## Train the discriminator model##############\n",
        "    dis_model.trainable = True\n",
        "    dis_model.train_on_batch(xdis,ydis)\n",
        "\n",
        "    # Step 2 - train the generator - achivied by trainig the GAN model and keeping discriminator non trainable\n",
        "    noise_input = np.random.rand(batch_size,100)\n",
        "    ygen = np.array([1]*batch_size).reshape(-1,1)\n",
        "    dis_model.trainable = False\n",
        "    model_loss = gan.train_on_batch(noise_input,ygen)\n",
        "    loss.append(model_loss)\n",
        "  print('Epoch - ', i, \"  Loss of GAN is \",sum(loss)/len(loss))"
      ],
      "execution_count": 11,
      "outputs": [
        {
          "output_type": "stream",
          "name": "stdout",
          "text": [
            "Epoch -  0   Loss of GAN is  4.213434473103376\n",
            "Epoch -  1   Loss of GAN is  2.6751740926651473\n",
            "Epoch -  2   Loss of GAN is  12.519653651428984\n",
            "Epoch -  3   Loss of GAN is  4.790466432287928\n",
            "Epoch -  4   Loss of GAN is  13.891214858846118\n",
            "Epoch -  5   Loss of GAN is  4.948753514867858\n",
            "Epoch -  6   Loss of GAN is  5.202219316431232\n",
            "Epoch -  7   Loss of GAN is  8.029342457760503\n",
            "Epoch -  8   Loss of GAN is  7.228511672240711\n",
            "Epoch -  9   Loss of GAN is  6.031135808565645\n",
            "Epoch -  10   Loss of GAN is  17.868574018478395\n",
            "Epoch -  11   Loss of GAN is  16.537114156087238\n",
            "Epoch -  12   Loss of GAN is  16.201140305201214\n",
            "Epoch -  13   Loss of GAN is  16.075815858840944\n",
            "Epoch -  14   Loss of GAN is  15.918771114349365\n",
            "Epoch -  15   Loss of GAN is  15.815136774381001\n",
            "Epoch -  16   Loss of GAN is  15.698369067509969\n",
            "Epoch -  17   Loss of GAN is  15.6129052623113\n",
            "Epoch -  18   Loss of GAN is  15.559041530291239\n",
            "Epoch -  19   Loss of GAN is  15.476981952985128\n"
          ]
        }
      ]
    },
    {
      "cell_type": "code",
      "metadata": {
        "colab": {
          "base_uri": "https://localhost:8080/"
        },
        "id": "N1k6ui9AapA9",
        "outputId": "791d2c11-d93c-4987-8000-be56996931fd"
      },
      "source": [
        "noise_input = np.random.rand(50,100)\n",
        "predictions = gen_model.predict(noise_input)\n",
        "\n",
        "print(predictions.shape)"
      ],
      "execution_count": 17,
      "outputs": [
        {
          "output_type": "stream",
          "name": "stdout",
          "text": [
            "(50, 28, 28, 1)\n"
          ]
        }
      ]
    },
    {
      "cell_type": "code",
      "metadata": {
        "colab": {
          "base_uri": "https://localhost:8080/",
          "height": 1000
        },
        "id": "wKCh-367izgR",
        "outputId": "757dda5b-212a-44b8-9eaa-8c3042eb0dbe"
      },
      "source": [
        "plt.figure(figsize=(15,20))\n",
        "for i in range(50):\n",
        "  plt.subplot(10,5,i+1)\n",
        "  plt.imshow(predictions[i].reshape(28,28),cmap='gray')\n",
        "  plt.axis('off')\n",
        "plt.show()\n"
      ],
      "execution_count": 18,
      "outputs": [
        {
          "output_type": "display_data",
          "data": {
            "image/png": "[encoded data removed]",
            "text/plain": [
              "<Figure size 1080x1440 with 50 Axes>"
            ]
          },
          "metadata": {
            "needs_background": "light"
          }
        }
      ]
    },
    {
      "cell_type": "code",
      "metadata": {
        "id": "iW9qUlbMjKA6"
      },
      "source": [
        ""
      ],
      "execution_count": null,
      "outputs": []
    }
  ]
}