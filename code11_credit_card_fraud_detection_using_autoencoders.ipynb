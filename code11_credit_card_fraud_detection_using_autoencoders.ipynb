{
  "nbformat": 4,
  "nbformat_minor": 0,
  "metadata": {
    "colab": {
      "name": "code11_credit_card_fraud_detection_using_autoencoders.ipynb",
      "provenance": []
    },
    "kernelspec": {
      "name": "python3",
      "display_name": "Python 3"
    },
    "language_info": {
      "name": "python"
    }
  },
  "cells": [
    {
      "cell_type": "markdown",
      "metadata": {
        "id": "FPwhBgkmK1zP"
      },
      "source": [
        "# Credit Card fraud detection"
      ]
    },
    {
      "cell_type": "markdown",
      "metadata": {
        "id": "6lcwGxMbJ4Q6"
      },
      "source": [
        "\n",
        "\n",
        "```\n",
        "The dataset contains transactions made by credit cards in September 2013 by European cardholders.\n",
        "This dataset presents transactions that occurred in two days, where we have 492 frauds out of 284,807 transactions. The dataset is highly unbalanced, the positive class (frauds) account for 0.172% of all transactions.\n",
        "\n",
        "It contains only numerical input variables which are the result of a PCA transformation. Unfortunately, due to confidentiality issues, we cannot provide the original features and more background information about the data. Features V1, V2, … V28 are the principal components obtained with PCA, the only features which have not been transformed with PCA are  - \n",
        "*  Time -  contains the seconds elapsed between each transaction and the first transaction in the dataset.\n",
        "*  Amount - transaction Amount, this feature can be used for example-dependant cost-sensitive learning.\n",
        "*  Class - the response variable and it takes value 1 in case of fraud and 0 otherwise.\n",
        "```\n",
        "\n"
      ]
    },
    {
      "cell_type": "markdown",
      "metadata": {
        "id": "GJ0AWktWK4zl"
      },
      "source": [
        "## Data collection"
      ]
    },
    {
      "cell_type": "code",
      "metadata": {
        "colab": {
          "base_uri": "https://localhost:8080/"
        },
        "id": "5VJMBkN7JQY1",
        "outputId": "40544066-8211-43ea-89b2-d960556ee7f4"
      },
      "source": [
        "!wget -q https://raw.githubusercontent.com/aspdiscovery123/Deep-Learning-for-structure-data/master/creditcard.zip\n",
        "!unzip \"creditcard.zip\""
      ],
      "execution_count": 1,
      "outputs": [
        {
          "output_type": "stream",
          "name": "stdout",
          "text": [
            "Archive:  creditcard.zip\n",
            "  inflating: creditcard.csv          \n"
          ]
        }
      ]
    },
    {
      "cell_type": "code",
      "metadata": {
        "id": "-GlWFT-sK_rI"
      },
      "source": [
        "import pandas as pd\n",
        "import numpy as np\n",
        "import matplotlib.pyplot as plt"
      ],
      "execution_count": 2,
      "outputs": []
    },
    {
      "cell_type": "code",
      "metadata": {
        "colab": {
          "base_uri": "https://localhost:8080/"
        },
        "id": "4kUr3vyQLDxR",
        "outputId": "82174332-b004-4b1c-f52a-40d603f27a38"
      },
      "source": [
        "df = pd.read_csv(\"creditcard.csv\")\n",
        "df.shape"
      ],
      "execution_count": 3,
      "outputs": [
        {
          "output_type": "execute_result",
          "data": {
            "text/plain": [
              "(284807, 31)"
            ]
          },
          "metadata": {},
          "execution_count": 3
        }
      ]
    },
    {
      "cell_type": "code",
      "metadata": {
        "colab": {
          "base_uri": "https://localhost:8080/",
          "height": 226
        },
        "id": "zPJtYedqLPCS",
        "outputId": "c5227f16-79d5-489c-d07f-12804fed85a6"
      },
      "source": [
        "df.head()"
      ],
      "execution_count": 4,
      "outputs": [
        {
          "output_type": "execute_result",
          "data": {
            "text/html": [
              "<div>\n",
              "<style scoped>\n",
              "    .dataframe tbody tr th:only-of-type {\n",
              "        vertical-align: middle;\n",
              "    }\n",
              "\n",
              "    .dataframe tbody tr th {\n",
              "        vertical-align: top;\n",
              "    }\n",
              "\n",
              "    .dataframe thead th {\n",
              "        text-align: right;\n",
              "    }\n",
              "</style>\n",
              "<table border=\"1\" class=\"dataframe\">\n",
              "  <thead>\n",
              "    <tr style=\"text-align: right;\">\n",
              "      <th></th>\n",
              "      <th>Time</th>\n",
              "      <th>V1</th>\n",
              "      <th>V2</th>\n",
              "      <th>V3</th>\n",
              "      <th>V4</th>\n",
              "      <th>V5</th>\n",
              "      <th>V6</th>\n",
              "      <th>V7</th>\n",
              "      <th>V8</th>\n",
              "      <th>V9</th>\n",
              "      <th>V10</th>\n",
              "      <th>V11</th>\n",
              "      <th>V12</th>\n",
              "      <th>V13</th>\n",
              "      <th>V14</th>\n",
              "      <th>V15</th>\n",
              "      <th>V16</th>\n",
              "      <th>V17</th>\n",
              "      <th>V18</th>\n",
              "      <th>V19</th>\n",
              "      <th>V20</th>\n",
              "      <th>V21</th>\n",
              "      <th>V22</th>\n",
              "      <th>V23</th>\n",
              "      <th>V24</th>\n",
              "      <th>V25</th>\n",
              "      <th>V26</th>\n",
              "      <th>V27</th>\n",
              "      <th>V28</th>\n",
              "      <th>Amount</th>\n",
              "      <th>Class</th>\n",
              "    </tr>\n",
              "  </thead>\n",
              "  <tbody>\n",
              "    <tr>\n",
              "      <th>0</th>\n",
              "      <td>0.0</td>\n",
              "      <td>-1.359807</td>\n",
              "      <td>-0.072781</td>\n",
              "      <td>2.536347</td>\n",
              "      <td>1.378155</td>\n",
              "      <td>-0.338321</td>\n",
              "      <td>0.462388</td>\n",
              "      <td>0.239599</td>\n",
              "      <td>0.098698</td>\n",
              "      <td>0.363787</td>\n",
              "      <td>0.090794</td>\n",
              "      <td>-0.551600</td>\n",
              "      <td>-0.617801</td>\n",
              "      <td>-0.991390</td>\n",
              "      <td>-0.311169</td>\n",
              "      <td>1.468177</td>\n",
              "      <td>-0.470401</td>\n",
              "      <td>0.207971</td>\n",
              "      <td>0.025791</td>\n",
              "      <td>0.403993</td>\n",
              "      <td>0.251412</td>\n",
              "      <td>-0.018307</td>\n",
              "      <td>0.277838</td>\n",
              "      <td>-0.110474</td>\n",
              "      <td>0.066928</td>\n",
              "      <td>0.128539</td>\n",
              "      <td>-0.189115</td>\n",
              "      <td>0.133558</td>\n",
              "      <td>-0.021053</td>\n",
              "      <td>149.62</td>\n",
              "      <td>0</td>\n",
              "    </tr>\n",
              "    <tr>\n",
              "      <th>1</th>\n",
              "      <td>0.0</td>\n",
              "      <td>1.191857</td>\n",
              "      <td>0.266151</td>\n",
              "      <td>0.166480</td>\n",
              "      <td>0.448154</td>\n",
              "      <td>0.060018</td>\n",
              "      <td>-0.082361</td>\n",
              "      <td>-0.078803</td>\n",
              "      <td>0.085102</td>\n",
              "      <td>-0.255425</td>\n",
              "      <td>-0.166974</td>\n",
              "      <td>1.612727</td>\n",
              "      <td>1.065235</td>\n",
              "      <td>0.489095</td>\n",
              "      <td>-0.143772</td>\n",
              "      <td>0.635558</td>\n",
              "      <td>0.463917</td>\n",
              "      <td>-0.114805</td>\n",
              "      <td>-0.183361</td>\n",
              "      <td>-0.145783</td>\n",
              "      <td>-0.069083</td>\n",
              "      <td>-0.225775</td>\n",
              "      <td>-0.638672</td>\n",
              "      <td>0.101288</td>\n",
              "      <td>-0.339846</td>\n",
              "      <td>0.167170</td>\n",
              "      <td>0.125895</td>\n",
              "      <td>-0.008983</td>\n",
              "      <td>0.014724</td>\n",
              "      <td>2.69</td>\n",
              "      <td>0</td>\n",
              "    </tr>\n",
              "    <tr>\n",
              "      <th>2</th>\n",
              "      <td>1.0</td>\n",
              "      <td>-1.358354</td>\n",
              "      <td>-1.340163</td>\n",
              "      <td>1.773209</td>\n",
              "      <td>0.379780</td>\n",
              "      <td>-0.503198</td>\n",
              "      <td>1.800499</td>\n",
              "      <td>0.791461</td>\n",
              "      <td>0.247676</td>\n",
              "      <td>-1.514654</td>\n",
              "      <td>0.207643</td>\n",
              "      <td>0.624501</td>\n",
              "      <td>0.066084</td>\n",
              "      <td>0.717293</td>\n",
              "      <td>-0.165946</td>\n",
              "      <td>2.345865</td>\n",
              "      <td>-2.890083</td>\n",
              "      <td>1.109969</td>\n",
              "      <td>-0.121359</td>\n",
              "      <td>-2.261857</td>\n",
              "      <td>0.524980</td>\n",
              "      <td>0.247998</td>\n",
              "      <td>0.771679</td>\n",
              "      <td>0.909412</td>\n",
              "      <td>-0.689281</td>\n",
              "      <td>-0.327642</td>\n",
              "      <td>-0.139097</td>\n",
              "      <td>-0.055353</td>\n",
              "      <td>-0.059752</td>\n",
              "      <td>378.66</td>\n",
              "      <td>0</td>\n",
              "    </tr>\n",
              "    <tr>\n",
              "      <th>3</th>\n",
              "      <td>1.0</td>\n",
              "      <td>-0.966272</td>\n",
              "      <td>-0.185226</td>\n",
              "      <td>1.792993</td>\n",
              "      <td>-0.863291</td>\n",
              "      <td>-0.010309</td>\n",
              "      <td>1.247203</td>\n",
              "      <td>0.237609</td>\n",
              "      <td>0.377436</td>\n",
              "      <td>-1.387024</td>\n",
              "      <td>-0.054952</td>\n",
              "      <td>-0.226487</td>\n",
              "      <td>0.178228</td>\n",
              "      <td>0.507757</td>\n",
              "      <td>-0.287924</td>\n",
              "      <td>-0.631418</td>\n",
              "      <td>-1.059647</td>\n",
              "      <td>-0.684093</td>\n",
              "      <td>1.965775</td>\n",
              "      <td>-1.232622</td>\n",
              "      <td>-0.208038</td>\n",
              "      <td>-0.108300</td>\n",
              "      <td>0.005274</td>\n",
              "      <td>-0.190321</td>\n",
              "      <td>-1.175575</td>\n",
              "      <td>0.647376</td>\n",
              "      <td>-0.221929</td>\n",
              "      <td>0.062723</td>\n",
              "      <td>0.061458</td>\n",
              "      <td>123.50</td>\n",
              "      <td>0</td>\n",
              "    </tr>\n",
              "    <tr>\n",
              "      <th>4</th>\n",
              "      <td>2.0</td>\n",
              "      <td>-1.158233</td>\n",
              "      <td>0.877737</td>\n",
              "      <td>1.548718</td>\n",
              "      <td>0.403034</td>\n",
              "      <td>-0.407193</td>\n",
              "      <td>0.095921</td>\n",
              "      <td>0.592941</td>\n",
              "      <td>-0.270533</td>\n",
              "      <td>0.817739</td>\n",
              "      <td>0.753074</td>\n",
              "      <td>-0.822843</td>\n",
              "      <td>0.538196</td>\n",
              "      <td>1.345852</td>\n",
              "      <td>-1.119670</td>\n",
              "      <td>0.175121</td>\n",
              "      <td>-0.451449</td>\n",
              "      <td>-0.237033</td>\n",
              "      <td>-0.038195</td>\n",
              "      <td>0.803487</td>\n",
              "      <td>0.408542</td>\n",
              "      <td>-0.009431</td>\n",
              "      <td>0.798278</td>\n",
              "      <td>-0.137458</td>\n",
              "      <td>0.141267</td>\n",
              "      <td>-0.206010</td>\n",
              "      <td>0.502292</td>\n",
              "      <td>0.219422</td>\n",
              "      <td>0.215153</td>\n",
              "      <td>69.99</td>\n",
              "      <td>0</td>\n",
              "    </tr>\n",
              "  </tbody>\n",
              "</table>\n",
              "</div>"
            ],
            "text/plain": [
              "   Time        V1        V2        V3  ...       V27       V28  Amount  Class\n",
              "0   0.0 -1.359807 -0.072781  2.536347  ...  0.133558 -0.021053  149.62      0\n",
              "1   0.0  1.191857  0.266151  0.166480  ... -0.008983  0.014724    2.69      0\n",
              "2   1.0 -1.358354 -1.340163  1.773209  ... -0.055353 -0.059752  378.66      0\n",
              "3   1.0 -0.966272 -0.185226  1.792993  ...  0.062723  0.061458  123.50      0\n",
              "4   2.0 -1.158233  0.877737  1.548718  ...  0.219422  0.215153   69.99      0\n",
              "\n",
              "[5 rows x 31 columns]"
            ]
          },
          "metadata": {},
          "execution_count": 4
        }
      ]
    },
    {
      "cell_type": "code",
      "metadata": {
        "colab": {
          "base_uri": "https://localhost:8080/"
        },
        "id": "aF6xAAddLXdE",
        "outputId": "b2f073c4-d8fb-40b8-c0e0-d717dfc59d5c"
      },
      "source": [
        "df.Class.value_counts()"
      ],
      "execution_count": 5,
      "outputs": [
        {
          "output_type": "execute_result",
          "data": {
            "text/plain": [
              "0    284315\n",
              "1       492\n",
              "Name: Class, dtype: int64"
            ]
          },
          "metadata": {},
          "execution_count": 5
        }
      ]
    },
    {
      "cell_type": "code",
      "metadata": {
        "colab": {
          "base_uri": "https://localhost:8080/"
        },
        "id": "y9GYr3CaLk_I",
        "outputId": "cf75e369-23c4-42d0-9aca-0f7c2b2514f3"
      },
      "source": [
        "df.Amount.describe()"
      ],
      "execution_count": 6,
      "outputs": [
        {
          "output_type": "execute_result",
          "data": {
            "text/plain": [
              "count    284807.000000\n",
              "mean         88.349619\n",
              "std         250.120109\n",
              "min           0.000000\n",
              "25%           5.600000\n",
              "50%          22.000000\n",
              "75%          77.165000\n",
              "max       25691.160000\n",
              "Name: Amount, dtype: float64"
            ]
          },
          "metadata": {},
          "execution_count": 6
        }
      ]
    },
    {
      "cell_type": "code",
      "metadata": {
        "colab": {
          "base_uri": "https://localhost:8080/"
        },
        "id": "b_n40sUfLyKL",
        "outputId": "4eea093b-3960-43c5-f4f7-2caddb26205a"
      },
      "source": [
        "# drop the time columns\n",
        "# scale the amount\n",
        "df.drop(columns=['Time'],inplace=True)\n",
        "from sklearn.preprocessing import MinMaxScaler\n",
        "mm = MinMaxScaler()\n",
        "df['Amount'] = mm.fit_transform(df.Amount.values.reshape(-1,1))\n",
        "df.shape"
      ],
      "execution_count": 7,
      "outputs": [
        {
          "output_type": "execute_result",
          "data": {
            "text/plain": [
              "(284807, 30)"
            ]
          },
          "metadata": {},
          "execution_count": 7
        }
      ]
    },
    {
      "cell_type": "code",
      "metadata": {
        "colab": {
          "base_uri": "https://localhost:8080/",
          "height": 226
        },
        "id": "21n7zXRXMebJ",
        "outputId": "d2a222f9-5e55-469d-90f5-3806af607768"
      },
      "source": [
        "df.head()"
      ],
      "execution_count": 8,
      "outputs": [
        {
          "output_type": "execute_result",
          "data": {
            "text/html": [
              "<div>\n",
              "<style scoped>\n",
              "    .dataframe tbody tr th:only-of-type {\n",
              "        vertical-align: middle;\n",
              "    }\n",
              "\n",
              "    .dataframe tbody tr th {\n",
              "        vertical-align: top;\n",
              "    }\n",
              "\n",
              "    .dataframe thead th {\n",
              "        text-align: right;\n",
              "    }\n",
              "</style>\n",
              "<table border=\"1\" class=\"dataframe\">\n",
              "  <thead>\n",
              "    <tr style=\"text-align: right;\">\n",
              "      <th></th>\n",
              "      <th>V1</th>\n",
              "      <th>V2</th>\n",
              "      <th>V3</th>\n",
              "      <th>V4</th>\n",
              "      <th>V5</th>\n",
              "      <th>V6</th>\n",
              "      <th>V7</th>\n",
              "      <th>V8</th>\n",
              "      <th>V9</th>\n",
              "      <th>V10</th>\n",
              "      <th>V11</th>\n",
              "      <th>V12</th>\n",
              "      <th>V13</th>\n",
              "      <th>V14</th>\n",
              "      <th>V15</th>\n",
              "      <th>V16</th>\n",
              "      <th>V17</th>\n",
              "      <th>V18</th>\n",
              "      <th>V19</th>\n",
              "      <th>V20</th>\n",
              "      <th>V21</th>\n",
              "      <th>V22</th>\n",
              "      <th>V23</th>\n",
              "      <th>V24</th>\n",
              "      <th>V25</th>\n",
              "      <th>V26</th>\n",
              "      <th>V27</th>\n",
              "      <th>V28</th>\n",
              "      <th>Amount</th>\n",
              "      <th>Class</th>\n",
              "    </tr>\n",
              "  </thead>\n",
              "  <tbody>\n",
              "    <tr>\n",
              "      <th>0</th>\n",
              "      <td>-1.359807</td>\n",
              "      <td>-0.072781</td>\n",
              "      <td>2.536347</td>\n",
              "      <td>1.378155</td>\n",
              "      <td>-0.338321</td>\n",
              "      <td>0.462388</td>\n",
              "      <td>0.239599</td>\n",
              "      <td>0.098698</td>\n",
              "      <td>0.363787</td>\n",
              "      <td>0.090794</td>\n",
              "      <td>-0.551600</td>\n",
              "      <td>-0.617801</td>\n",
              "      <td>-0.991390</td>\n",
              "      <td>-0.311169</td>\n",
              "      <td>1.468177</td>\n",
              "      <td>-0.470401</td>\n",
              "      <td>0.207971</td>\n",
              "      <td>0.025791</td>\n",
              "      <td>0.403993</td>\n",
              "      <td>0.251412</td>\n",
              "      <td>-0.018307</td>\n",
              "      <td>0.277838</td>\n",
              "      <td>-0.110474</td>\n",
              "      <td>0.066928</td>\n",
              "      <td>0.128539</td>\n",
              "      <td>-0.189115</td>\n",
              "      <td>0.133558</td>\n",
              "      <td>-0.021053</td>\n",
              "      <td>0.005824</td>\n",
              "      <td>0</td>\n",
              "    </tr>\n",
              "    <tr>\n",
              "      <th>1</th>\n",
              "      <td>1.191857</td>\n",
              "      <td>0.266151</td>\n",
              "      <td>0.166480</td>\n",
              "      <td>0.448154</td>\n",
              "      <td>0.060018</td>\n",
              "      <td>-0.082361</td>\n",
              "      <td>-0.078803</td>\n",
              "      <td>0.085102</td>\n",
              "      <td>-0.255425</td>\n",
              "      <td>-0.166974</td>\n",
              "      <td>1.612727</td>\n",
              "      <td>1.065235</td>\n",
              "      <td>0.489095</td>\n",
              "      <td>-0.143772</td>\n",
              "      <td>0.635558</td>\n",
              "      <td>0.463917</td>\n",
              "      <td>-0.114805</td>\n",
              "      <td>-0.183361</td>\n",
              "      <td>-0.145783</td>\n",
              "      <td>-0.069083</td>\n",
              "      <td>-0.225775</td>\n",
              "      <td>-0.638672</td>\n",
              "      <td>0.101288</td>\n",
              "      <td>-0.339846</td>\n",
              "      <td>0.167170</td>\n",
              "      <td>0.125895</td>\n",
              "      <td>-0.008983</td>\n",
              "      <td>0.014724</td>\n",
              "      <td>0.000105</td>\n",
              "      <td>0</td>\n",
              "    </tr>\n",
              "    <tr>\n",
              "      <th>2</th>\n",
              "      <td>-1.358354</td>\n",
              "      <td>-1.340163</td>\n",
              "      <td>1.773209</td>\n",
              "      <td>0.379780</td>\n",
              "      <td>-0.503198</td>\n",
              "      <td>1.800499</td>\n",
              "      <td>0.791461</td>\n",
              "      <td>0.247676</td>\n",
              "      <td>-1.514654</td>\n",
              "      <td>0.207643</td>\n",
              "      <td>0.624501</td>\n",
              "      <td>0.066084</td>\n",
              "      <td>0.717293</td>\n",
              "      <td>-0.165946</td>\n",
              "      <td>2.345865</td>\n",
              "      <td>-2.890083</td>\n",
              "      <td>1.109969</td>\n",
              "      <td>-0.121359</td>\n",
              "      <td>-2.261857</td>\n",
              "      <td>0.524980</td>\n",
              "      <td>0.247998</td>\n",
              "      <td>0.771679</td>\n",
              "      <td>0.909412</td>\n",
              "      <td>-0.689281</td>\n",
              "      <td>-0.327642</td>\n",
              "      <td>-0.139097</td>\n",
              "      <td>-0.055353</td>\n",
              "      <td>-0.059752</td>\n",
              "      <td>0.014739</td>\n",
              "      <td>0</td>\n",
              "    </tr>\n",
              "    <tr>\n",
              "      <th>3</th>\n",
              "      <td>-0.966272</td>\n",
              "      <td>-0.185226</td>\n",
              "      <td>1.792993</td>\n",
              "      <td>-0.863291</td>\n",
              "      <td>-0.010309</td>\n",
              "      <td>1.247203</td>\n",
              "      <td>0.237609</td>\n",
              "      <td>0.377436</td>\n",
              "      <td>-1.387024</td>\n",
              "      <td>-0.054952</td>\n",
              "      <td>-0.226487</td>\n",
              "      <td>0.178228</td>\n",
              "      <td>0.507757</td>\n",
              "      <td>-0.287924</td>\n",
              "      <td>-0.631418</td>\n",
              "      <td>-1.059647</td>\n",
              "      <td>-0.684093</td>\n",
              "      <td>1.965775</td>\n",
              "      <td>-1.232622</td>\n",
              "      <td>-0.208038</td>\n",
              "      <td>-0.108300</td>\n",
              "      <td>0.005274</td>\n",
              "      <td>-0.190321</td>\n",
              "      <td>-1.175575</td>\n",
              "      <td>0.647376</td>\n",
              "      <td>-0.221929</td>\n",
              "      <td>0.062723</td>\n",
              "      <td>0.061458</td>\n",
              "      <td>0.004807</td>\n",
              "      <td>0</td>\n",
              "    </tr>\n",
              "    <tr>\n",
              "      <th>4</th>\n",
              "      <td>-1.158233</td>\n",
              "      <td>0.877737</td>\n",
              "      <td>1.548718</td>\n",
              "      <td>0.403034</td>\n",
              "      <td>-0.407193</td>\n",
              "      <td>0.095921</td>\n",
              "      <td>0.592941</td>\n",
              "      <td>-0.270533</td>\n",
              "      <td>0.817739</td>\n",
              "      <td>0.753074</td>\n",
              "      <td>-0.822843</td>\n",
              "      <td>0.538196</td>\n",
              "      <td>1.345852</td>\n",
              "      <td>-1.119670</td>\n",
              "      <td>0.175121</td>\n",
              "      <td>-0.451449</td>\n",
              "      <td>-0.237033</td>\n",
              "      <td>-0.038195</td>\n",
              "      <td>0.803487</td>\n",
              "      <td>0.408542</td>\n",
              "      <td>-0.009431</td>\n",
              "      <td>0.798278</td>\n",
              "      <td>-0.137458</td>\n",
              "      <td>0.141267</td>\n",
              "      <td>-0.206010</td>\n",
              "      <td>0.502292</td>\n",
              "      <td>0.219422</td>\n",
              "      <td>0.215153</td>\n",
              "      <td>0.002724</td>\n",
              "      <td>0</td>\n",
              "    </tr>\n",
              "  </tbody>\n",
              "</table>\n",
              "</div>"
            ],
            "text/plain": [
              "         V1        V2        V3        V4  ...       V27       V28    Amount  Class\n",
              "0 -1.359807 -0.072781  2.536347  1.378155  ...  0.133558 -0.021053  0.005824      0\n",
              "1  1.191857  0.266151  0.166480  0.448154  ... -0.008983  0.014724  0.000105      0\n",
              "2 -1.358354 -1.340163  1.773209  0.379780  ... -0.055353 -0.059752  0.014739      0\n",
              "3 -0.966272 -0.185226  1.792993 -0.863291  ...  0.062723  0.061458  0.004807      0\n",
              "4 -1.158233  0.877737  1.548718  0.403034  ...  0.219422  0.215153  0.002724      0\n",
              "\n",
              "[5 rows x 30 columns]"
            ]
          },
          "metadata": {},
          "execution_count": 8
        }
      ]
    },
    {
      "cell_type": "code",
      "metadata": {
        "colab": {
          "base_uri": "https://localhost:8080/"
        },
        "id": "K-EwNFnhMfDj",
        "outputId": "f73dd507-fe6e-4377-b47b-dc4c4d6abea9"
      },
      "source": [
        "# split into train and test\n",
        "from sklearn.model_selection import train_test_split\n",
        "xtrain, xtest = train_test_split(df,test_size=0.25,random_state=5)\n",
        "\n",
        "# keeping only genuine transaction in train data\n",
        "xtrain = xtrain[xtrain.Class==0]\n",
        "xtrain.drop(columns=['Class'],inplace=True)\n",
        "\n",
        "ytest = xtest['Class']\n",
        "xtest.drop(columns=['Class'],inplace=True)\n",
        "\n",
        "print(xtrain.shape,xtest.shape,ytest.shape)"
      ],
      "execution_count": 9,
      "outputs": [
        {
          "output_type": "stream",
          "name": "stdout",
          "text": [
            "(213234, 29) (71202, 29) (71202,)\n"
          ]
        },
        {
          "output_type": "stream",
          "name": "stderr",
          "text": [
            "/usr/local/lib/python3.7/dist-packages/pandas/core/frame.py:4174: SettingWithCopyWarning: \n",
            "A value is trying to be set on a copy of a slice from a DataFrame\n",
            "\n",
            "See the caveats in the documentation: https://pandas.pydata.org/pandas-docs/stable/user_guide/indexing.html#returning-a-view-versus-a-copy\n",
            "  errors=errors,\n"
          ]
        }
      ]
    },
    {
      "cell_type": "markdown",
      "metadata": {
        "id": "EEgGuLPgOYLj"
      },
      "source": [
        "## Modelling the network - Autoencoder"
      ]
    },
    {
      "cell_type": "code",
      "metadata": {
        "id": "hkyicxHpNkBN"
      },
      "source": [
        "from tensorflow.keras import layers,models\n",
        "from tensorflow.keras import regularizers"
      ],
      "execution_count": 10,
      "outputs": []
    },
    {
      "cell_type": "code",
      "metadata": {
        "colab": {
          "base_uri": "https://localhost:8080/"
        },
        "id": "9kZ_K_7oOd5c",
        "outputId": "b909b945-473d-4985-cf09-f7a58c4876c0"
      },
      "source": [
        "ip = layers.Input(shape=(29,))\n",
        "\n",
        "# encoder section\n",
        "en = layers.Dense(18,activation='tanh',activity_regularizer=regularizers.l1(1e-5))(ip)\n",
        "en = layers.Dense(12,activation='relu')(en)\n",
        "\n",
        "# Decoder section\n",
        "de = layers.Dense(12,activation='relu')(en)\n",
        "de = layers.Dense(18,activation='tanh',activity_regularizer=regularizers.l1(1e-5))(de)\n",
        "\n",
        "# outputlayer\n",
        "op = layers.Dense(29)(de)\n",
        "\n",
        "autoencoder = models.Model(inputs=ip,outputs=op)\n",
        "autoencoder.summary()"
      ],
      "execution_count": 11,
      "outputs": [
        {
          "output_type": "stream",
          "name": "stdout",
          "text": [
            "Model: \"model\"\n",
            "_________________________________________________________________\n",
            "Layer (type)                 Output Shape              Param #   \n",
            "=================================================================\n",
            "input_1 (InputLayer)         [(None, 29)]              0         \n",
            "_________________________________________________________________\n",
            "dense (Dense)                (None, 18)                540       \n",
            "_________________________________________________________________\n",
            "dense_1 (Dense)              (None, 12)                228       \n",
            "_________________________________________________________________\n",
            "dense_2 (Dense)              (None, 12)                156       \n",
            "_________________________________________________________________\n",
            "dense_3 (Dense)              (None, 18)                234       \n",
            "_________________________________________________________________\n",
            "dense_4 (Dense)              (None, 29)                551       \n",
            "=================================================================\n",
            "Total params: 1,709\n",
            "Trainable params: 1,709\n",
            "Non-trainable params: 0\n",
            "_________________________________________________________________\n"
          ]
        }
      ]
    },
    {
      "cell_type": "code",
      "metadata": {
        "colab": {
          "base_uri": "https://localhost:8080/"
        },
        "id": "WN4XNq7dPqBg",
        "outputId": "1a271fe8-33bc-4e4f-f3bd-554d716a4cc0"
      },
      "source": [
        "autoencoder.compile(optimizer='adam',loss='mse')\n",
        "autoencoder.fit(xtrain,xtrain,epochs=50,batch_size=64,validation_data=(xtest,xtest))"
      ],
      "execution_count": 12,
      "outputs": [
        {
          "output_type": "stream",
          "name": "stdout",
          "text": [
            "Epoch 1/50\n",
            "3332/3332 [==============================] - 8s 2ms/step - loss: 0.4683 - val_loss: 0.3770\n",
            "Epoch 2/50\n",
            "3332/3332 [==============================] - 7s 2ms/step - loss: 0.3029 - val_loss: 0.3141\n",
            "Epoch 3/50\n",
            "3332/3332 [==============================] - 7s 2ms/step - loss: 0.2589 - val_loss: 0.2790\n",
            "Epoch 4/50\n",
            "3332/3332 [==============================] - 7s 2ms/step - loss: 0.2382 - val_loss: 0.2673\n",
            "Epoch 5/50\n",
            "3332/3332 [==============================] - 7s 2ms/step - loss: 0.2285 - val_loss: 0.2567\n",
            "Epoch 6/50\n",
            "3332/3332 [==============================] - 7s 2ms/step - loss: 0.2223 - val_loss: 0.2513\n",
            "Epoch 7/50\n",
            "3332/3332 [==============================] - 7s 2ms/step - loss: 0.2177 - val_loss: 0.2448\n",
            "Epoch 8/50\n",
            "3332/3332 [==============================] - 7s 2ms/step - loss: 0.2139 - val_loss: 0.2442\n",
            "Epoch 9/50\n",
            "3332/3332 [==============================] - 7s 2ms/step - loss: 0.2110 - val_loss: 0.2404\n",
            "Epoch 10/50\n",
            "3332/3332 [==============================] - 7s 2ms/step - loss: 0.2078 - val_loss: 0.2378\n",
            "Epoch 11/50\n",
            "3332/3332 [==============================] - 7s 2ms/step - loss: 0.2058 - val_loss: 0.2324\n",
            "Epoch 12/50\n",
            "3332/3332 [==============================] - 7s 2ms/step - loss: 0.2043 - val_loss: 0.2386\n",
            "Epoch 13/50\n",
            "3332/3332 [==============================] - 7s 2ms/step - loss: 0.2058 - val_loss: 0.2330\n",
            "Epoch 14/50\n",
            "3332/3332 [==============================] - 7s 2ms/step - loss: 0.2004 - val_loss: 0.2394\n",
            "Epoch 15/50\n",
            "3332/3332 [==============================] - 7s 2ms/step - loss: 0.1993 - val_loss: 0.2369\n",
            "Epoch 16/50\n",
            "3332/3332 [==============================] - 7s 2ms/step - loss: 0.1962 - val_loss: 0.2247\n",
            "Epoch 17/50\n",
            "3332/3332 [==============================] - 7s 2ms/step - loss: 0.1947 - val_loss: 0.2253\n",
            "Epoch 18/50\n",
            "3332/3332 [==============================] - 6s 2ms/step - loss: 0.1933 - val_loss: 0.2236\n",
            "Epoch 19/50\n",
            "3332/3332 [==============================] - 7s 2ms/step - loss: 0.1924 - val_loss: 0.2254\n",
            "Epoch 20/50\n",
            "3332/3332 [==============================] - 7s 2ms/step - loss: 0.1904 - val_loss: 0.2204\n",
            "Epoch 21/50\n",
            "3332/3332 [==============================] - 7s 2ms/step - loss: 0.1890 - val_loss: 0.2231\n",
            "Epoch 22/50\n",
            "3332/3332 [==============================] - 7s 2ms/step - loss: 0.1870 - val_loss: 0.2240\n",
            "Epoch 23/50\n",
            "3332/3332 [==============================] - 7s 2ms/step - loss: 0.1832 - val_loss: 0.2200\n",
            "Epoch 24/50\n",
            "3332/3332 [==============================] - 7s 2ms/step - loss: 0.1815 - val_loss: 0.2108\n",
            "Epoch 25/50\n",
            "3332/3332 [==============================] - 7s 2ms/step - loss: 0.1793 - val_loss: 0.2053\n",
            "Epoch 26/50\n",
            "3332/3332 [==============================] - 7s 2ms/step - loss: 0.1773 - val_loss: 0.2065\n",
            "Epoch 27/50\n",
            "3332/3332 [==============================] - 7s 2ms/step - loss: 0.1756 - val_loss: 0.2059\n",
            "Epoch 28/50\n",
            "3332/3332 [==============================] - 7s 2ms/step - loss: 0.1738 - val_loss: 0.2169\n",
            "Epoch 29/50\n",
            "3332/3332 [==============================] - 7s 2ms/step - loss: 0.1732 - val_loss: 0.2031\n",
            "Epoch 30/50\n",
            "3332/3332 [==============================] - 7s 2ms/step - loss: 0.1723 - val_loss: 0.2065\n",
            "Epoch 31/50\n",
            "3332/3332 [==============================] - 6s 2ms/step - loss: 0.1726 - val_loss: 0.2024\n",
            "Epoch 32/50\n",
            "3332/3332 [==============================] - 7s 2ms/step - loss: 0.1724 - val_loss: 0.2048\n",
            "Epoch 33/50\n",
            "3332/3332 [==============================] - 6s 2ms/step - loss: 0.1703 - val_loss: 0.1987\n",
            "Epoch 34/50\n",
            "3332/3332 [==============================] - 6s 2ms/step - loss: 0.1686 - val_loss: 0.1983\n",
            "Epoch 35/50\n",
            "3332/3332 [==============================] - 6s 2ms/step - loss: 0.1673 - val_loss: 0.2060\n",
            "Epoch 36/50\n",
            "3332/3332 [==============================] - 7s 2ms/step - loss: 0.1674 - val_loss: 0.1976\n",
            "Epoch 37/50\n",
            "3332/3332 [==============================] - 6s 2ms/step - loss: 0.1649 - val_loss: 0.1974\n",
            "Epoch 38/50\n",
            "3332/3332 [==============================] - 7s 2ms/step - loss: 0.1612 - val_loss: 0.1956\n",
            "Epoch 39/50\n",
            "3332/3332 [==============================] - 7s 2ms/step - loss: 0.1594 - val_loss: 0.1877\n",
            "Epoch 40/50\n",
            "3332/3332 [==============================] - 6s 2ms/step - loss: 0.1566 - val_loss: 0.1872\n",
            "Epoch 41/50\n",
            "3332/3332 [==============================] - 6s 2ms/step - loss: 0.1568 - val_loss: 0.1846\n",
            "Epoch 42/50\n",
            "3332/3332 [==============================] - 6s 2ms/step - loss: 0.1561 - val_loss: 0.1850\n",
            "Epoch 43/50\n",
            "3332/3332 [==============================] - 6s 2ms/step - loss: 0.1542 - val_loss: 0.2025\n",
            "Epoch 44/50\n",
            "3332/3332 [==============================] - 7s 2ms/step - loss: 0.1544 - val_loss: 0.1853\n",
            "Epoch 45/50\n",
            "3332/3332 [==============================] - 6s 2ms/step - loss: 0.1547 - val_loss: 0.1862\n",
            "Epoch 46/50\n",
            "3332/3332 [==============================] - 7s 2ms/step - loss: 0.1540 - val_loss: 0.1903\n",
            "Epoch 47/50\n",
            "3332/3332 [==============================] - 7s 2ms/step - loss: 0.1533 - val_loss: 0.1849\n",
            "Epoch 48/50\n",
            "3332/3332 [==============================] - 7s 2ms/step - loss: 0.1531 - val_loss: 0.1854\n",
            "Epoch 49/50\n",
            "3332/3332 [==============================] - 7s 2ms/step - loss: 0.1529 - val_loss: 0.1840\n",
            "Epoch 50/50\n",
            "3332/3332 [==============================] - 7s 2ms/step - loss: 0.1526 - val_loss: 0.1848\n"
          ]
        },
        {
          "output_type": "execute_result",
          "data": {
            "text/plain": [
              "<keras.callbacks.History at 0x7f0c9ab81890>"
            ]
          },
          "metadata": {},
          "execution_count": 12
        }
      ]
    },
    {
      "cell_type": "code",
      "metadata": {
        "id": "OqoSr9cLQC3C"
      },
      "source": [
        "preds = autoencoder.predict(xtest)"
      ],
      "execution_count": 13,
      "outputs": []
    },
    {
      "cell_type": "code",
      "metadata": {
        "colab": {
          "base_uri": "https://localhost:8080/"
        },
        "id": "T3ibOZvFRtxK",
        "outputId": "43b5aee5-73fc-4d69-86b7-9d316ba759bd"
      },
      "source": [
        "preds.shape,xtest.values.shape"
      ],
      "execution_count": 14,
      "outputs": [
        {
          "output_type": "execute_result",
          "data": {
            "text/plain": [
              "((71202, 29), (71202, 29))"
            ]
          },
          "metadata": {},
          "execution_count": 14
        }
      ]
    },
    {
      "cell_type": "code",
      "metadata": {
        "colab": {
          "base_uri": "https://localhost:8080/",
          "height": 206
        },
        "id": "c4UD4Q0DRSxi",
        "outputId": "78d977f7-8ea2-4c59-fcc1-6e2fb19ec6f8"
      },
      "source": [
        "rec_error = np.mean(np.power(np.array(xtest.values) - preds,2),axis=1)\n",
        "error_df = pd.DataFrame({'Reconstruction_error':rec_error,'true_class':ytest})\n",
        "error_df.head()"
      ],
      "execution_count": 15,
      "outputs": [
        {
          "output_type": "execute_result",
          "data": {
            "text/html": [
              "<div>\n",
              "<style scoped>\n",
              "    .dataframe tbody tr th:only-of-type {\n",
              "        vertical-align: middle;\n",
              "    }\n",
              "\n",
              "    .dataframe tbody tr th {\n",
              "        vertical-align: top;\n",
              "    }\n",
              "\n",
              "    .dataframe thead th {\n",
              "        text-align: right;\n",
              "    }\n",
              "</style>\n",
              "<table border=\"1\" class=\"dataframe\">\n",
              "  <thead>\n",
              "    <tr style=\"text-align: right;\">\n",
              "      <th></th>\n",
              "      <th>Reconstruction_error</th>\n",
              "      <th>true_class</th>\n",
              "    </tr>\n",
              "  </thead>\n",
              "  <tbody>\n",
              "    <tr>\n",
              "      <th>27733</th>\n",
              "      <td>0.200207</td>\n",
              "      <td>0</td>\n",
              "    </tr>\n",
              "    <tr>\n",
              "      <th>58505</th>\n",
              "      <td>0.169087</td>\n",
              "      <td>0</td>\n",
              "    </tr>\n",
              "    <tr>\n",
              "      <th>231716</th>\n",
              "      <td>0.183442</td>\n",
              "      <td>0</td>\n",
              "    </tr>\n",
              "    <tr>\n",
              "      <th>123042</th>\n",
              "      <td>0.038343</td>\n",
              "      <td>0</td>\n",
              "    </tr>\n",
              "    <tr>\n",
              "      <th>215839</th>\n",
              "      <td>0.105317</td>\n",
              "      <td>0</td>\n",
              "    </tr>\n",
              "  </tbody>\n",
              "</table>\n",
              "</div>"
            ],
            "text/plain": [
              "        Reconstruction_error  true_class\n",
              "27733               0.200207           0\n",
              "58505               0.169087           0\n",
              "231716              0.183442           0\n",
              "123042              0.038343           0\n",
              "215839              0.105317           0"
            ]
          },
          "metadata": {},
          "execution_count": 15
        }
      ]
    },
    {
      "cell_type": "markdown",
      "metadata": {
        "id": "m78-bNA_SVqD"
      },
      "source": [
        "### Reconstruction error without fraud"
      ]
    },
    {
      "cell_type": "code",
      "metadata": {
        "colab": {
          "base_uri": "https://localhost:8080/",
          "height": 369
        },
        "id": "EnR1rfv0RoQA",
        "outputId": "12978575-f268-48b5-f786-b10e578fcf0d"
      },
      "source": [
        "normal_df = error_df[error_df.true_class==0]\n",
        "plt.hist(normal_df.Reconstruction_error.values)"
      ],
      "execution_count": 16,
      "outputs": [
        {
          "output_type": "execute_result",
          "data": {
            "text/plain": [
              "(array([7.1054e+04, 1.8000e+01, 6.0000e+00, 2.0000e+00, 0.0000e+00,\n",
              "        0.0000e+00, 0.0000e+00, 0.0000e+00, 0.0000e+00, 1.0000e+00]),\n",
              " array([4.23323345e-03, 1.62136385e+01, 3.24230438e+01, 4.86324492e+01,\n",
              "        6.48418545e+01, 8.10512598e+01, 9.72606651e+01, 1.13470070e+02,\n",
              "        1.29679476e+02, 1.45888881e+02, 1.62098286e+02]),\n",
              " <a list of 10 Patch objects>)"
            ]
          },
          "metadata": {},
          "execution_count": 16
        },
        {
          "output_type": "display_data",
          "data": {
            "image/png": "[encoded data removed]",
            "text/plain": [
              "<Figure size 432x288 with 1 Axes>"
            ]
          },
          "metadata": {
            "needs_background": "light"
          }
        }
      ]
    },
    {
      "cell_type": "markdown",
      "metadata": {
        "id": "HLYfEpUrSzuq"
      },
      "source": [
        "### Reconstruction error with fraud"
      ]
    },
    {
      "cell_type": "code",
      "metadata": {
        "colab": {
          "base_uri": "https://localhost:8080/",
          "height": 352
        },
        "id": "Q_nMIEX7Szur",
        "outputId": "a73251c3-8043-4cfd-9822-b688f55b189c"
      },
      "source": [
        "fraud_df = error_df[error_df.true_class==1]\n",
        "plt.hist(fraud_df.Reconstruction_error.values)"
      ],
      "execution_count": 17,
      "outputs": [
        {
          "output_type": "execute_result",
          "data": {
            "text/plain": [
              "(array([78., 14.,  5., 15.,  5.,  2.,  1.,  0.,  0.,  1.]),\n",
              " array([2.34320683e-02, 1.76487977e+01, 3.52741633e+01, 5.28995289e+01,\n",
              "        7.05248945e+01, 8.81502601e+01, 1.05775626e+02, 1.23400991e+02,\n",
              "        1.41026357e+02, 1.58651722e+02, 1.76277088e+02]),\n",
              " <a list of 10 Patch objects>)"
            ]
          },
          "metadata": {},
          "execution_count": 17
        },
        {
          "output_type": "display_data",
          "data": {
            "image/png": "[encoded data removed]",
            "text/plain": [
              "<Figure size 432x288 with 1 Axes>"
            ]
          },
          "metadata": {
            "needs_background": "light"
          }
        }
      ]
    },
    {
      "cell_type": "code",
      "metadata": {
        "colab": {
          "base_uri": "https://localhost:8080/"
        },
        "id": "LFtDoVuVR-dz",
        "outputId": "9151f984-7415-4212-e663-b37d1ae66e01"
      },
      "source": [
        "fraud_df.shape"
      ],
      "execution_count": 18,
      "outputs": [
        {
          "output_type": "execute_result",
          "data": {
            "text/plain": [
              "(121, 2)"
            ]
          },
          "metadata": {},
          "execution_count": 18
        }
      ]
    },
    {
      "cell_type": "code",
      "metadata": {
        "colab": {
          "base_uri": "https://localhost:8080/",
          "height": 300
        },
        "id": "vzaKGzhHo76V",
        "outputId": "ad78b925-ec5a-410a-8234-ee934e787a67"
      },
      "source": [
        "normal_df.describe()"
      ],
      "execution_count": 20,
      "outputs": [
        {
          "output_type": "execute_result",
          "data": {
            "text/html": [
              "<div>\n",
              "<style scoped>\n",
              "    .dataframe tbody tr th:only-of-type {\n",
              "        vertical-align: middle;\n",
              "    }\n",
              "\n",
              "    .dataframe tbody tr th {\n",
              "        vertical-align: top;\n",
              "    }\n",
              "\n",
              "    .dataframe thead th {\n",
              "        text-align: right;\n",
              "    }\n",
              "</style>\n",
              "<table border=\"1\" class=\"dataframe\">\n",
              "  <thead>\n",
              "    <tr style=\"text-align: right;\">\n",
              "      <th></th>\n",
              "      <th>Reconstruction_error</th>\n",
              "      <th>true_class</th>\n",
              "    </tr>\n",
              "  </thead>\n",
              "  <tbody>\n",
              "    <tr>\n",
              "      <th>count</th>\n",
              "      <td>71081.000000</td>\n",
              "      <td>71081.0</td>\n",
              "    </tr>\n",
              "    <tr>\n",
              "      <th>mean</th>\n",
              "      <td>0.145527</td>\n",
              "      <td>0.0</td>\n",
              "    </tr>\n",
              "    <tr>\n",
              "      <th>std</th>\n",
              "      <td>0.929908</td>\n",
              "      <td>0.0</td>\n",
              "    </tr>\n",
              "    <tr>\n",
              "      <th>min</th>\n",
              "      <td>0.004233</td>\n",
              "      <td>0.0</td>\n",
              "    </tr>\n",
              "    <tr>\n",
              "      <th>25%</th>\n",
              "      <td>0.045918</td>\n",
              "      <td>0.0</td>\n",
              "    </tr>\n",
              "    <tr>\n",
              "      <th>50%</th>\n",
              "      <td>0.073878</td>\n",
              "      <td>0.0</td>\n",
              "    </tr>\n",
              "    <tr>\n",
              "      <th>75%</th>\n",
              "      <td>0.125609</td>\n",
              "      <td>0.0</td>\n",
              "    </tr>\n",
              "    <tr>\n",
              "      <th>max</th>\n",
              "      <td>162.098286</td>\n",
              "      <td>0.0</td>\n",
              "    </tr>\n",
              "  </tbody>\n",
              "</table>\n",
              "</div>"
            ],
            "text/plain": [
              "       Reconstruction_error  true_class\n",
              "count          71081.000000     71081.0\n",
              "mean               0.145527         0.0\n",
              "std                0.929908         0.0\n",
              "min                0.004233         0.0\n",
              "25%                0.045918         0.0\n",
              "50%                0.073878         0.0\n",
              "75%                0.125609         0.0\n",
              "max              162.098286         0.0"
            ]
          },
          "metadata": {},
          "execution_count": 20
        }
      ]
    },
    {
      "cell_type": "code",
      "metadata": {
        "colab": {
          "base_uri": "https://localhost:8080/",
          "height": 300
        },
        "id": "aKS_uo-JpIeC",
        "outputId": "04e1ad53-e1d1-4da1-ef2a-389378878e81"
      },
      "source": [
        "fraud_df.describe()"
      ],
      "execution_count": 21,
      "outputs": [
        {
          "output_type": "execute_result",
          "data": {
            "text/html": [
              "<div>\n",
              "<style scoped>\n",
              "    .dataframe tbody tr th:only-of-type {\n",
              "        vertical-align: middle;\n",
              "    }\n",
              "\n",
              "    .dataframe tbody tr th {\n",
              "        vertical-align: top;\n",
              "    }\n",
              "\n",
              "    .dataframe thead th {\n",
              "        text-align: right;\n",
              "    }\n",
              "</style>\n",
              "<table border=\"1\" class=\"dataframe\">\n",
              "  <thead>\n",
              "    <tr style=\"text-align: right;\">\n",
              "      <th></th>\n",
              "      <th>Reconstruction_error</th>\n",
              "      <th>true_class</th>\n",
              "    </tr>\n",
              "  </thead>\n",
              "  <tbody>\n",
              "    <tr>\n",
              "      <th>count</th>\n",
              "      <td>121.000000</td>\n",
              "      <td>121.0</td>\n",
              "    </tr>\n",
              "    <tr>\n",
              "      <th>mean</th>\n",
              "      <td>23.184940</td>\n",
              "      <td>1.0</td>\n",
              "    </tr>\n",
              "    <tr>\n",
              "      <th>std</th>\n",
              "      <td>30.043560</td>\n",
              "      <td>0.0</td>\n",
              "    </tr>\n",
              "    <tr>\n",
              "      <th>min</th>\n",
              "      <td>0.023432</td>\n",
              "      <td>1.0</td>\n",
              "    </tr>\n",
              "    <tr>\n",
              "      <th>25%</th>\n",
              "      <td>4.658795</td>\n",
              "      <td>1.0</td>\n",
              "    </tr>\n",
              "    <tr>\n",
              "      <th>50%</th>\n",
              "      <td>8.644258</td>\n",
              "      <td>1.0</td>\n",
              "    </tr>\n",
              "    <tr>\n",
              "      <th>75%</th>\n",
              "      <td>26.739555</td>\n",
              "      <td>1.0</td>\n",
              "    </tr>\n",
              "    <tr>\n",
              "      <th>max</th>\n",
              "      <td>176.277088</td>\n",
              "      <td>1.0</td>\n",
              "    </tr>\n",
              "  </tbody>\n",
              "</table>\n",
              "</div>"
            ],
            "text/plain": [
              "       Reconstruction_error  true_class\n",
              "count            121.000000       121.0\n",
              "mean              23.184940         1.0\n",
              "std               30.043560         0.0\n",
              "min                0.023432         1.0\n",
              "25%                4.658795         1.0\n",
              "50%                8.644258         1.0\n",
              "75%               26.739555         1.0\n",
              "max              176.277088         1.0"
            ]
          },
          "metadata": {},
          "execution_count": 21
        }
      ]
    },
    {
      "cell_type": "code",
      "metadata": {
        "colab": {
          "base_uri": "https://localhost:8080/"
        },
        "id": "sioWIUzEpPTb",
        "outputId": "1fd8f571-7390-4aab-f3ce-af3c9e08af0e"
      },
      "source": [
        "normal_df.Reconstruction_error.sort_values(ascending=False).head(250)"
      ],
      "execution_count": 27,
      "outputs": [
        {
          "output_type": "execute_result",
          "data": {
            "text/plain": [
              "39769     162.098286\n",
              "44254      55.838727\n",
              "227921     55.070149\n",
              "12922      46.170989\n",
              "12325      45.560943\n",
              "             ...    \n",
              "64580       2.722147\n",
              "73072       2.710245\n",
              "188476      2.689119\n",
              "187276      2.671388\n",
              "105026      2.670184\n",
              "Name: Reconstruction_error, Length: 250, dtype: float64"
            ]
          },
          "metadata": {},
          "execution_count": 27
        }
      ]
    },
    {
      "cell_type": "code",
      "metadata": {
        "id": "Lvsv-zOHTHNl"
      },
      "source": [
        "from sklearn import metrics\n",
        "import seaborn as sns"
      ],
      "execution_count": 29,
      "outputs": []
    },
    {
      "cell_type": "code",
      "metadata": {
        "colab": {
          "base_uri": "https://localhost:8080/",
          "height": 267
        },
        "id": "GYVFORISoNBh",
        "outputId": "0012cda4-f028-47c0-8e7e-e158f33403e2"
      },
      "source": [
        "ypred = [1 if error>3 else 0 for error in error_df.Reconstruction_error.values]\n",
        "cm = metrics.confusion_matrix(ytest,ypred)\n",
        "plt.figure(figsize=(6,4))\n",
        "sns.heatmap(cm,annot=True,cmap=sns.cubehelix_palette(hue=0.05))\n",
        "plt.show()"
      ],
      "execution_count": 32,
      "outputs": [
        {
          "output_type": "display_data",
          "data": {
            "image/png": "[encoded data removed]",
            "text/plain": [
              "<Figure size 432x288 with 2 Axes>"
            ]
          },
          "metadata": {
            "needs_background": "light"
          }
        }
      ]
    },
    {
      "cell_type": "code",
      "metadata": {
        "id": "Mz2kEzQXqB5t"
      },
      "source": [
        ""
      ],
      "execution_count": null,
      "outputs": []
    }
  ]
}