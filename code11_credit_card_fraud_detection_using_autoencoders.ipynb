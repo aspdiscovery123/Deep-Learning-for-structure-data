{
  "nbformat": 4,
  "nbformat_minor": 0,
  "metadata": {
    "colab": {
      "name": "code11_credit_card_fraud_detection_using_autoencoders.ipynb",
      "provenance": []
    },
    "kernelspec": {
      "name": "python3",
      "display_name": "Python 3"
    },
    "language_info": {
      "name": "python"
    }
  },
  "cells": [
    {
      "cell_type": "markdown",
      "metadata": {
        "id": "FPwhBgkmK1zP"
      },
      "source": [
        "# Credit Card fraud detection"
      ]
    },
    {
      "cell_type": "markdown",
      "metadata": {
        "id": "6lcwGxMbJ4Q6"
      },
      "source": [
        "\n",
        "\n",
        "```\n",
        "The dataset contains transactions made by credit cards in September 2013 by European cardholders.\n",
        "This dataset presents transactions that occurred in two days, where we have 492 frauds out of 284,807 transactions. The dataset is highly unbalanced, the positive class (frauds) account for 0.172% of all transactions.\n",
        "\n",
        "It contains only numerical input variables which are the result of a PCA transformation. Unfortunately, due to confidentiality issues, we cannot provide the original features and more background information about the data. Features V1, V2, … V28 are the principal components obtained with PCA, the only features which have not been transformed with PCA are  - \n",
        "*  Time -  contains the seconds elapsed between each transaction and the first transaction in the dataset.\n",
        "*  Amount - transaction Amount, this feature can be used for example-dependant cost-sensitive learning.\n",
        "*  Class - the response variable and it takes value 1 in case of fraud and 0 otherwise.\n",
        "```\n",
        "\n"
      ]
    },
    {
      "cell_type": "markdown",
      "metadata": {
        "id": "GJ0AWktWK4zl"
      },
      "source": [
        "## Data collection"
      ]
    },
    {
      "cell_type": "code",
      "metadata": {
        "colab": {
          "base_uri": "https://localhost:8080/"
        },
        "id": "5VJMBkN7JQY1",
        "outputId": "d4d2cdb0-bb48-48d8-9935-6c4e9b94d947"
      },
      "source": [
        "!wget -q https://raw.githubusercontent.com/aspdiscovery123/Deep-Learning-for-structure-data/master/creditcard.zip\n",
        "!unzip \"creditcard.zip\""
      ],
      "execution_count": 1,
      "outputs": [
        {
          "output_type": "stream",
          "name": "stdout",
          "text": [
            "Archive:  creditcard.zip\n",
            "  inflating: creditcard.csv          \n"
          ]
        }
      ]
    },
    {
      "cell_type": "code",
      "metadata": {
        "id": "-GlWFT-sK_rI"
      },
      "source": [
        "import pandas as pd\n",
        "import numpy as np\n",
        "import matplotlib.pyplot as plt"
      ],
      "execution_count": 2,
      "outputs": []
    },
    {
      "cell_type": "code",
      "metadata": {
        "colab": {
          "base_uri": "https://localhost:8080/"
        },
        "id": "4kUr3vyQLDxR",
        "outputId": "ba690634-8f4a-41d8-efa0-527bc6720940"
      },
      "source": [
        "df = pd.read_csv(\"creditcard.csv\")\n",
        "df.shape"
      ],
      "execution_count": 4,
      "outputs": [
        {
          "output_type": "execute_result",
          "data": {
            "text/plain": [
              "(284807, 31)"
            ]
          },
          "metadata": {},
          "execution_count": 4
        }
      ]
    },
    {
      "cell_type": "code",
      "metadata": {
        "colab": {
          "base_uri": "https://localhost:8080/",
          "height": 226
        },
        "id": "zPJtYedqLPCS",
        "outputId": "3520bd04-f434-4f7c-a016-432b71ad0f4c"
      },
      "source": [
        "df.head()"
      ],
      "execution_count": 5,
      "outputs": [
        {
          "output_type": "execute_result",
          "data": {
            "text/html": [
              "<div>\n",
              "<style scoped>\n",
              "    .dataframe tbody tr th:only-of-type {\n",
              "        vertical-align: middle;\n",
              "    }\n",
              "\n",
              "    .dataframe tbody tr th {\n",
              "        vertical-align: top;\n",
              "    }\n",
              "\n",
              "    .dataframe thead th {\n",
              "        text-align: right;\n",
              "    }\n",
              "</style>\n",
              "<table border=\"1\" class=\"dataframe\">\n",
              "  <thead>\n",
              "    <tr style=\"text-align: right;\">\n",
              "      <th></th>\n",
              "      <th>Time</th>\n",
              "      <th>V1</th>\n",
              "      <th>V2</th>\n",
              "      <th>V3</th>\n",
              "      <th>V4</th>\n",
              "      <th>V5</th>\n",
              "      <th>V6</th>\n",
              "      <th>V7</th>\n",
              "      <th>V8</th>\n",
              "      <th>V9</th>\n",
              "      <th>V10</th>\n",
              "      <th>V11</th>\n",
              "      <th>V12</th>\n",
              "      <th>V13</th>\n",
              "      <th>V14</th>\n",
              "      <th>V15</th>\n",
              "      <th>V16</th>\n",
              "      <th>V17</th>\n",
              "      <th>V18</th>\n",
              "      <th>V19</th>\n",
              "      <th>V20</th>\n",
              "      <th>V21</th>\n",
              "      <th>V22</th>\n",
              "      <th>V23</th>\n",
              "      <th>V24</th>\n",
              "      <th>V25</th>\n",
              "      <th>V26</th>\n",
              "      <th>V27</th>\n",
              "      <th>V28</th>\n",
              "      <th>Amount</th>\n",
              "      <th>Class</th>\n",
              "    </tr>\n",
              "  </thead>\n",
              "  <tbody>\n",
              "    <tr>\n",
              "      <th>0</th>\n",
              "      <td>0.0</td>\n",
              "      <td>-1.359807</td>\n",
              "      <td>-0.072781</td>\n",
              "      <td>2.536347</td>\n",
              "      <td>1.378155</td>\n",
              "      <td>-0.338321</td>\n",
              "      <td>0.462388</td>\n",
              "      <td>0.239599</td>\n",
              "      <td>0.098698</td>\n",
              "      <td>0.363787</td>\n",
              "      <td>0.090794</td>\n",
              "      <td>-0.551600</td>\n",
              "      <td>-0.617801</td>\n",
              "      <td>-0.991390</td>\n",
              "      <td>-0.311169</td>\n",
              "      <td>1.468177</td>\n",
              "      <td>-0.470401</td>\n",
              "      <td>0.207971</td>\n",
              "      <td>0.025791</td>\n",
              "      <td>0.403993</td>\n",
              "      <td>0.251412</td>\n",
              "      <td>-0.018307</td>\n",
              "      <td>0.277838</td>\n",
              "      <td>-0.110474</td>\n",
              "      <td>0.066928</td>\n",
              "      <td>0.128539</td>\n",
              "      <td>-0.189115</td>\n",
              "      <td>0.133558</td>\n",
              "      <td>-0.021053</td>\n",
              "      <td>149.62</td>\n",
              "      <td>0</td>\n",
              "    </tr>\n",
              "    <tr>\n",
              "      <th>1</th>\n",
              "      <td>0.0</td>\n",
              "      <td>1.191857</td>\n",
              "      <td>0.266151</td>\n",
              "      <td>0.166480</td>\n",
              "      <td>0.448154</td>\n",
              "      <td>0.060018</td>\n",
              "      <td>-0.082361</td>\n",
              "      <td>-0.078803</td>\n",
              "      <td>0.085102</td>\n",
              "      <td>-0.255425</td>\n",
              "      <td>-0.166974</td>\n",
              "      <td>1.612727</td>\n",
              "      <td>1.065235</td>\n",
              "      <td>0.489095</td>\n",
              "      <td>-0.143772</td>\n",
              "      <td>0.635558</td>\n",
              "      <td>0.463917</td>\n",
              "      <td>-0.114805</td>\n",
              "      <td>-0.183361</td>\n",
              "      <td>-0.145783</td>\n",
              "      <td>-0.069083</td>\n",
              "      <td>-0.225775</td>\n",
              "      <td>-0.638672</td>\n",
              "      <td>0.101288</td>\n",
              "      <td>-0.339846</td>\n",
              "      <td>0.167170</td>\n",
              "      <td>0.125895</td>\n",
              "      <td>-0.008983</td>\n",
              "      <td>0.014724</td>\n",
              "      <td>2.69</td>\n",
              "      <td>0</td>\n",
              "    </tr>\n",
              "    <tr>\n",
              "      <th>2</th>\n",
              "      <td>1.0</td>\n",
              "      <td>-1.358354</td>\n",
              "      <td>-1.340163</td>\n",
              "      <td>1.773209</td>\n",
              "      <td>0.379780</td>\n",
              "      <td>-0.503198</td>\n",
              "      <td>1.800499</td>\n",
              "      <td>0.791461</td>\n",
              "      <td>0.247676</td>\n",
              "      <td>-1.514654</td>\n",
              "      <td>0.207643</td>\n",
              "      <td>0.624501</td>\n",
              "      <td>0.066084</td>\n",
              "      <td>0.717293</td>\n",
              "      <td>-0.165946</td>\n",
              "      <td>2.345865</td>\n",
              "      <td>-2.890083</td>\n",
              "      <td>1.109969</td>\n",
              "      <td>-0.121359</td>\n",
              "      <td>-2.261857</td>\n",
              "      <td>0.524980</td>\n",
              "      <td>0.247998</td>\n",
              "      <td>0.771679</td>\n",
              "      <td>0.909412</td>\n",
              "      <td>-0.689281</td>\n",
              "      <td>-0.327642</td>\n",
              "      <td>-0.139097</td>\n",
              "      <td>-0.055353</td>\n",
              "      <td>-0.059752</td>\n",
              "      <td>378.66</td>\n",
              "      <td>0</td>\n",
              "    </tr>\n",
              "    <tr>\n",
              "      <th>3</th>\n",
              "      <td>1.0</td>\n",
              "      <td>-0.966272</td>\n",
              "      <td>-0.185226</td>\n",
              "      <td>1.792993</td>\n",
              "      <td>-0.863291</td>\n",
              "      <td>-0.010309</td>\n",
              "      <td>1.247203</td>\n",
              "      <td>0.237609</td>\n",
              "      <td>0.377436</td>\n",
              "      <td>-1.387024</td>\n",
              "      <td>-0.054952</td>\n",
              "      <td>-0.226487</td>\n",
              "      <td>0.178228</td>\n",
              "      <td>0.507757</td>\n",
              "      <td>-0.287924</td>\n",
              "      <td>-0.631418</td>\n",
              "      <td>-1.059647</td>\n",
              "      <td>-0.684093</td>\n",
              "      <td>1.965775</td>\n",
              "      <td>-1.232622</td>\n",
              "      <td>-0.208038</td>\n",
              "      <td>-0.108300</td>\n",
              "      <td>0.005274</td>\n",
              "      <td>-0.190321</td>\n",
              "      <td>-1.175575</td>\n",
              "      <td>0.647376</td>\n",
              "      <td>-0.221929</td>\n",
              "      <td>0.062723</td>\n",
              "      <td>0.061458</td>\n",
              "      <td>123.50</td>\n",
              "      <td>0</td>\n",
              "    </tr>\n",
              "    <tr>\n",
              "      <th>4</th>\n",
              "      <td>2.0</td>\n",
              "      <td>-1.158233</td>\n",
              "      <td>0.877737</td>\n",
              "      <td>1.548718</td>\n",
              "      <td>0.403034</td>\n",
              "      <td>-0.407193</td>\n",
              "      <td>0.095921</td>\n",
              "      <td>0.592941</td>\n",
              "      <td>-0.270533</td>\n",
              "      <td>0.817739</td>\n",
              "      <td>0.753074</td>\n",
              "      <td>-0.822843</td>\n",
              "      <td>0.538196</td>\n",
              "      <td>1.345852</td>\n",
              "      <td>-1.119670</td>\n",
              "      <td>0.175121</td>\n",
              "      <td>-0.451449</td>\n",
              "      <td>-0.237033</td>\n",
              "      <td>-0.038195</td>\n",
              "      <td>0.803487</td>\n",
              "      <td>0.408542</td>\n",
              "      <td>-0.009431</td>\n",
              "      <td>0.798278</td>\n",
              "      <td>-0.137458</td>\n",
              "      <td>0.141267</td>\n",
              "      <td>-0.206010</td>\n",
              "      <td>0.502292</td>\n",
              "      <td>0.219422</td>\n",
              "      <td>0.215153</td>\n",
              "      <td>69.99</td>\n",
              "      <td>0</td>\n",
              "    </tr>\n",
              "  </tbody>\n",
              "</table>\n",
              "</div>"
            ],
            "text/plain": [
              "   Time        V1        V2        V3  ...       V27       V28  Amount  Class\n",
              "0   0.0 -1.359807 -0.072781  2.536347  ...  0.133558 -0.021053  149.62      0\n",
              "1   0.0  1.191857  0.266151  0.166480  ... -0.008983  0.014724    2.69      0\n",
              "2   1.0 -1.358354 -1.340163  1.773209  ... -0.055353 -0.059752  378.66      0\n",
              "3   1.0 -0.966272 -0.185226  1.792993  ...  0.062723  0.061458  123.50      0\n",
              "4   2.0 -1.158233  0.877737  1.548718  ...  0.219422  0.215153   69.99      0\n",
              "\n",
              "[5 rows x 31 columns]"
            ]
          },
          "metadata": {},
          "execution_count": 5
        }
      ]
    },
    {
      "cell_type": "code",
      "metadata": {
        "colab": {
          "base_uri": "https://localhost:8080/"
        },
        "id": "aF6xAAddLXdE",
        "outputId": "c49375c2-a7d7-4772-c556-97e7450460f4"
      },
      "source": [
        "df.Class.value_counts()"
      ],
      "execution_count": 6,
      "outputs": [
        {
          "output_type": "execute_result",
          "data": {
            "text/plain": [
              "0    284315\n",
              "1       492\n",
              "Name: Class, dtype: int64"
            ]
          },
          "metadata": {},
          "execution_count": 6
        }
      ]
    },
    {
      "cell_type": "code",
      "metadata": {
        "colab": {
          "base_uri": "https://localhost:8080/"
        },
        "id": "y9GYr3CaLk_I",
        "outputId": "ca343f19-92e2-4922-de01-9e0fb3e4025b"
      },
      "source": [
        "df.Amount.describe()"
      ],
      "execution_count": 7,
      "outputs": [
        {
          "output_type": "execute_result",
          "data": {
            "text/plain": [
              "count    284807.000000\n",
              "mean         88.349619\n",
              "std         250.120109\n",
              "min           0.000000\n",
              "25%           5.600000\n",
              "50%          22.000000\n",
              "75%          77.165000\n",
              "max       25691.160000\n",
              "Name: Amount, dtype: float64"
            ]
          },
          "metadata": {},
          "execution_count": 7
        }
      ]
    },
    {
      "cell_type": "code",
      "metadata": {
        "colab": {
          "base_uri": "https://localhost:8080/"
        },
        "id": "b_n40sUfLyKL",
        "outputId": "dfb156fd-c70e-4eee-94ac-23d8ccaf75b3"
      },
      "source": [
        "# drop the time columns\n",
        "# scale the amount\n",
        "df.drop(columns=['Time'],inplace=True)\n",
        "from sklearn.preprocessing import MinMaxScaler\n",
        "mm = MinMaxScaler()\n",
        "df['Amount'] = mm.fit_transform(df.Amount.values.reshape(-1,1))\n",
        "df.shape"
      ],
      "execution_count": 8,
      "outputs": [
        {
          "output_type": "execute_result",
          "data": {
            "text/plain": [
              "(284807, 30)"
            ]
          },
          "metadata": {},
          "execution_count": 8
        }
      ]
    },
    {
      "cell_type": "code",
      "metadata": {
        "colab": {
          "base_uri": "https://localhost:8080/",
          "height": 226
        },
        "id": "21n7zXRXMebJ",
        "outputId": "254a8e1d-c399-414b-dda8-7113f16578cc"
      },
      "source": [
        "df.head()"
      ],
      "execution_count": 9,
      "outputs": [
        {
          "output_type": "execute_result",
          "data": {
            "text/html": [
              "<div>\n",
              "<style scoped>\n",
              "    .dataframe tbody tr th:only-of-type {\n",
              "        vertical-align: middle;\n",
              "    }\n",
              "\n",
              "    .dataframe tbody tr th {\n",
              "        vertical-align: top;\n",
              "    }\n",
              "\n",
              "    .dataframe thead th {\n",
              "        text-align: right;\n",
              "    }\n",
              "</style>\n",
              "<table border=\"1\" class=\"dataframe\">\n",
              "  <thead>\n",
              "    <tr style=\"text-align: right;\">\n",
              "      <th></th>\n",
              "      <th>V1</th>\n",
              "      <th>V2</th>\n",
              "      <th>V3</th>\n",
              "      <th>V4</th>\n",
              "      <th>V5</th>\n",
              "      <th>V6</th>\n",
              "      <th>V7</th>\n",
              "      <th>V8</th>\n",
              "      <th>V9</th>\n",
              "      <th>V10</th>\n",
              "      <th>V11</th>\n",
              "      <th>V12</th>\n",
              "      <th>V13</th>\n",
              "      <th>V14</th>\n",
              "      <th>V15</th>\n",
              "      <th>V16</th>\n",
              "      <th>V17</th>\n",
              "      <th>V18</th>\n",
              "      <th>V19</th>\n",
              "      <th>V20</th>\n",
              "      <th>V21</th>\n",
              "      <th>V22</th>\n",
              "      <th>V23</th>\n",
              "      <th>V24</th>\n",
              "      <th>V25</th>\n",
              "      <th>V26</th>\n",
              "      <th>V27</th>\n",
              "      <th>V28</th>\n",
              "      <th>Amount</th>\n",
              "      <th>Class</th>\n",
              "    </tr>\n",
              "  </thead>\n",
              "  <tbody>\n",
              "    <tr>\n",
              "      <th>0</th>\n",
              "      <td>-1.359807</td>\n",
              "      <td>-0.072781</td>\n",
              "      <td>2.536347</td>\n",
              "      <td>1.378155</td>\n",
              "      <td>-0.338321</td>\n",
              "      <td>0.462388</td>\n",
              "      <td>0.239599</td>\n",
              "      <td>0.098698</td>\n",
              "      <td>0.363787</td>\n",
              "      <td>0.090794</td>\n",
              "      <td>-0.551600</td>\n",
              "      <td>-0.617801</td>\n",
              "      <td>-0.991390</td>\n",
              "      <td>-0.311169</td>\n",
              "      <td>1.468177</td>\n",
              "      <td>-0.470401</td>\n",
              "      <td>0.207971</td>\n",
              "      <td>0.025791</td>\n",
              "      <td>0.403993</td>\n",
              "      <td>0.251412</td>\n",
              "      <td>-0.018307</td>\n",
              "      <td>0.277838</td>\n",
              "      <td>-0.110474</td>\n",
              "      <td>0.066928</td>\n",
              "      <td>0.128539</td>\n",
              "      <td>-0.189115</td>\n",
              "      <td>0.133558</td>\n",
              "      <td>-0.021053</td>\n",
              "      <td>0.005824</td>\n",
              "      <td>0</td>\n",
              "    </tr>\n",
              "    <tr>\n",
              "      <th>1</th>\n",
              "      <td>1.191857</td>\n",
              "      <td>0.266151</td>\n",
              "      <td>0.166480</td>\n",
              "      <td>0.448154</td>\n",
              "      <td>0.060018</td>\n",
              "      <td>-0.082361</td>\n",
              "      <td>-0.078803</td>\n",
              "      <td>0.085102</td>\n",
              "      <td>-0.255425</td>\n",
              "      <td>-0.166974</td>\n",
              "      <td>1.612727</td>\n",
              "      <td>1.065235</td>\n",
              "      <td>0.489095</td>\n",
              "      <td>-0.143772</td>\n",
              "      <td>0.635558</td>\n",
              "      <td>0.463917</td>\n",
              "      <td>-0.114805</td>\n",
              "      <td>-0.183361</td>\n",
              "      <td>-0.145783</td>\n",
              "      <td>-0.069083</td>\n",
              "      <td>-0.225775</td>\n",
              "      <td>-0.638672</td>\n",
              "      <td>0.101288</td>\n",
              "      <td>-0.339846</td>\n",
              "      <td>0.167170</td>\n",
              "      <td>0.125895</td>\n",
              "      <td>-0.008983</td>\n",
              "      <td>0.014724</td>\n",
              "      <td>0.000105</td>\n",
              "      <td>0</td>\n",
              "    </tr>\n",
              "    <tr>\n",
              "      <th>2</th>\n",
              "      <td>-1.358354</td>\n",
              "      <td>-1.340163</td>\n",
              "      <td>1.773209</td>\n",
              "      <td>0.379780</td>\n",
              "      <td>-0.503198</td>\n",
              "      <td>1.800499</td>\n",
              "      <td>0.791461</td>\n",
              "      <td>0.247676</td>\n",
              "      <td>-1.514654</td>\n",
              "      <td>0.207643</td>\n",
              "      <td>0.624501</td>\n",
              "      <td>0.066084</td>\n",
              "      <td>0.717293</td>\n",
              "      <td>-0.165946</td>\n",
              "      <td>2.345865</td>\n",
              "      <td>-2.890083</td>\n",
              "      <td>1.109969</td>\n",
              "      <td>-0.121359</td>\n",
              "      <td>-2.261857</td>\n",
              "      <td>0.524980</td>\n",
              "      <td>0.247998</td>\n",
              "      <td>0.771679</td>\n",
              "      <td>0.909412</td>\n",
              "      <td>-0.689281</td>\n",
              "      <td>-0.327642</td>\n",
              "      <td>-0.139097</td>\n",
              "      <td>-0.055353</td>\n",
              "      <td>-0.059752</td>\n",
              "      <td>0.014739</td>\n",
              "      <td>0</td>\n",
              "    </tr>\n",
              "    <tr>\n",
              "      <th>3</th>\n",
              "      <td>-0.966272</td>\n",
              "      <td>-0.185226</td>\n",
              "      <td>1.792993</td>\n",
              "      <td>-0.863291</td>\n",
              "      <td>-0.010309</td>\n",
              "      <td>1.247203</td>\n",
              "      <td>0.237609</td>\n",
              "      <td>0.377436</td>\n",
              "      <td>-1.387024</td>\n",
              "      <td>-0.054952</td>\n",
              "      <td>-0.226487</td>\n",
              "      <td>0.178228</td>\n",
              "      <td>0.507757</td>\n",
              "      <td>-0.287924</td>\n",
              "      <td>-0.631418</td>\n",
              "      <td>-1.059647</td>\n",
              "      <td>-0.684093</td>\n",
              "      <td>1.965775</td>\n",
              "      <td>-1.232622</td>\n",
              "      <td>-0.208038</td>\n",
              "      <td>-0.108300</td>\n",
              "      <td>0.005274</td>\n",
              "      <td>-0.190321</td>\n",
              "      <td>-1.175575</td>\n",
              "      <td>0.647376</td>\n",
              "      <td>-0.221929</td>\n",
              "      <td>0.062723</td>\n",
              "      <td>0.061458</td>\n",
              "      <td>0.004807</td>\n",
              "      <td>0</td>\n",
              "    </tr>\n",
              "    <tr>\n",
              "      <th>4</th>\n",
              "      <td>-1.158233</td>\n",
              "      <td>0.877737</td>\n",
              "      <td>1.548718</td>\n",
              "      <td>0.403034</td>\n",
              "      <td>-0.407193</td>\n",
              "      <td>0.095921</td>\n",
              "      <td>0.592941</td>\n",
              "      <td>-0.270533</td>\n",
              "      <td>0.817739</td>\n",
              "      <td>0.753074</td>\n",
              "      <td>-0.822843</td>\n",
              "      <td>0.538196</td>\n",
              "      <td>1.345852</td>\n",
              "      <td>-1.119670</td>\n",
              "      <td>0.175121</td>\n",
              "      <td>-0.451449</td>\n",
              "      <td>-0.237033</td>\n",
              "      <td>-0.038195</td>\n",
              "      <td>0.803487</td>\n",
              "      <td>0.408542</td>\n",
              "      <td>-0.009431</td>\n",
              "      <td>0.798278</td>\n",
              "      <td>-0.137458</td>\n",
              "      <td>0.141267</td>\n",
              "      <td>-0.206010</td>\n",
              "      <td>0.502292</td>\n",
              "      <td>0.219422</td>\n",
              "      <td>0.215153</td>\n",
              "      <td>0.002724</td>\n",
              "      <td>0</td>\n",
              "    </tr>\n",
              "  </tbody>\n",
              "</table>\n",
              "</div>"
            ],
            "text/plain": [
              "         V1        V2        V3        V4  ...       V27       V28    Amount  Class\n",
              "0 -1.359807 -0.072781  2.536347  1.378155  ...  0.133558 -0.021053  0.005824      0\n",
              "1  1.191857  0.266151  0.166480  0.448154  ... -0.008983  0.014724  0.000105      0\n",
              "2 -1.358354 -1.340163  1.773209  0.379780  ... -0.055353 -0.059752  0.014739      0\n",
              "3 -0.966272 -0.185226  1.792993 -0.863291  ...  0.062723  0.061458  0.004807      0\n",
              "4 -1.158233  0.877737  1.548718  0.403034  ...  0.219422  0.215153  0.002724      0\n",
              "\n",
              "[5 rows x 30 columns]"
            ]
          },
          "metadata": {},
          "execution_count": 9
        }
      ]
    },
    {
      "cell_type": "code",
      "metadata": {
        "colab": {
          "base_uri": "https://localhost:8080/"
        },
        "id": "K-EwNFnhMfDj",
        "outputId": "5e5a1f1c-72ed-419e-f418-6afe3ba61133"
      },
      "source": [
        "# split into train and test\n",
        "from sklearn.model_selection import train_test_split\n",
        "xtrain, xtest = train_test_split(df,test_size=0.25,random_state=5)\n",
        "\n",
        "# keeping only genuine transaction in train data\n",
        "xtrain = xtrain[xtrain.Class==0]\n",
        "xtrain.drop(columns=['Class'],inplace=True)\n",
        "\n",
        "ytest = xtest['Class']\n",
        "xtest.drop(columns=['Class'],inplace=True)\n",
        "\n",
        "print(xtrain.shape,xtest.shape,ytest.shape)"
      ],
      "execution_count": 13,
      "outputs": [
        {
          "output_type": "stream",
          "name": "stdout",
          "text": [
            "(213234, 29) (71202, 29) (71202,)\n"
          ]
        },
        {
          "output_type": "stream",
          "name": "stderr",
          "text": [
            "/usr/local/lib/python3.7/dist-packages/pandas/core/frame.py:4174: SettingWithCopyWarning: \n",
            "A value is trying to be set on a copy of a slice from a DataFrame\n",
            "\n",
            "See the caveats in the documentation: https://pandas.pydata.org/pandas-docs/stable/user_guide/indexing.html#returning-a-view-versus-a-copy\n",
            "  errors=errors,\n"
          ]
        }
      ]
    },
    {
      "cell_type": "markdown",
      "metadata": {
        "id": "EEgGuLPgOYLj"
      },
      "source": [
        "## Modelling the network - Autoencoder"
      ]
    },
    {
      "cell_type": "code",
      "metadata": {
        "id": "hkyicxHpNkBN"
      },
      "source": [
        "from tensorflow.keras import layers,models\n",
        "from tensorflow.keras import regularizers"
      ],
      "execution_count": 15,
      "outputs": []
    },
    {
      "cell_type": "code",
      "metadata": {
        "colab": {
          "base_uri": "https://localhost:8080/"
        },
        "id": "9kZ_K_7oOd5c",
        "outputId": "b0561499-324e-4796-8aa2-ac55f114c51b"
      },
      "source": [
        "ip = layers.Input(shape=(29,))\n",
        "\n",
        "# encoder section\n",
        "en = layers.Dense(14,activation='tanh',activity_regularizer=regularizers.l1(1e-5))(ip)\n",
        "en = layers.Dense(7,activation='relu')(en)\n",
        "\n",
        "# Decoder section\n",
        "de = layers.Dense(7,activation='relu')(en)\n",
        "de = layers.Dense(14,activation='tanh',activity_regularizer=regularizers.l1(1e-5))(de)\n",
        "\n",
        "# outputlayer\n",
        "op = layers.Dense(29)(de)\n",
        "\n",
        "autoencoder = models.Model(inputs=ip,outputs=op)\n",
        "autoencoder.summary()"
      ],
      "execution_count": 16,
      "outputs": [
        {
          "output_type": "stream",
          "name": "stdout",
          "text": [
            "Model: \"model\"\n",
            "_________________________________________________________________\n",
            "Layer (type)                 Output Shape              Param #   \n",
            "=================================================================\n",
            "input_1 (InputLayer)         [(None, 29)]              0         \n",
            "_________________________________________________________________\n",
            "dense (Dense)                (None, 14)                420       \n",
            "_________________________________________________________________\n",
            "dense_1 (Dense)              (None, 7)                 105       \n",
            "_________________________________________________________________\n",
            "dense_2 (Dense)              (None, 7)                 56        \n",
            "_________________________________________________________________\n",
            "dense_3 (Dense)              (None, 14)                112       \n",
            "_________________________________________________________________\n",
            "dense_4 (Dense)              (None, 29)                435       \n",
            "=================================================================\n",
            "Total params: 1,128\n",
            "Trainable params: 1,128\n",
            "Non-trainable params: 0\n",
            "_________________________________________________________________\n"
          ]
        }
      ]
    },
    {
      "cell_type": "code",
      "metadata": {
        "colab": {
          "base_uri": "https://localhost:8080/"
        },
        "id": "WN4XNq7dPqBg",
        "outputId": "8db51616-218a-42ce-9663-61bcdd32b6ba"
      },
      "source": [
        "autoencoder.compile(optimizer='adam',loss='mse')\n",
        "autoencoder.fit(xtrain,xtrain,epochs=50,batch_size=64,validation_data=(xtest,xtest))"
      ],
      "execution_count": 17,
      "outputs": [
        {
          "output_type": "stream",
          "name": "stdout",
          "text": [
            "Epoch 1/50\n",
            "3332/3332 [==============================] - 7s 2ms/step - loss: 0.6391 - val_loss: 0.5601\n",
            "Epoch 2/50\n",
            "3332/3332 [==============================] - 6s 2ms/step - loss: 0.4922 - val_loss: 0.5033\n",
            "Epoch 3/50\n",
            "3332/3332 [==============================] - 6s 2ms/step - loss: 0.4518 - val_loss: 0.4710\n",
            "Epoch 4/50\n",
            "3332/3332 [==============================] - 6s 2ms/step - loss: 0.4248 - val_loss: 0.4487\n",
            "Epoch 5/50\n",
            "3332/3332 [==============================] - 6s 2ms/step - loss: 0.4097 - val_loss: 0.4356\n",
            "Epoch 6/50\n",
            "3332/3332 [==============================] - 6s 2ms/step - loss: 0.3982 - val_loss: 0.4248\n",
            "Epoch 7/50\n",
            "3332/3332 [==============================] - 6s 2ms/step - loss: 0.3888 - val_loss: 0.4177\n",
            "Epoch 8/50\n",
            "3332/3332 [==============================] - 6s 2ms/step - loss: 0.3813 - val_loss: 0.4099\n",
            "Epoch 9/50\n",
            "3332/3332 [==============================] - 6s 2ms/step - loss: 0.3747 - val_loss: 0.4045\n",
            "Epoch 10/50\n",
            "3332/3332 [==============================] - 6s 2ms/step - loss: 0.3691 - val_loss: 0.3995\n",
            "Epoch 11/50\n",
            "3332/3332 [==============================] - 6s 2ms/step - loss: 0.3629 - val_loss: 0.3928\n",
            "Epoch 12/50\n",
            "3332/3332 [==============================] - 6s 2ms/step - loss: 0.3586 - val_loss: 0.3874\n",
            "Epoch 13/50\n",
            "3332/3332 [==============================] - 6s 2ms/step - loss: 0.3542 - val_loss: 0.3862\n",
            "Epoch 14/50\n",
            "3332/3332 [==============================] - 6s 2ms/step - loss: 0.3507 - val_loss: 0.3814\n",
            "Epoch 15/50\n",
            "3332/3332 [==============================] - 6s 2ms/step - loss: 0.3475 - val_loss: 0.3775\n",
            "Epoch 16/50\n",
            "3332/3332 [==============================] - 6s 2ms/step - loss: 0.3443 - val_loss: 0.3807\n",
            "Epoch 17/50\n",
            "3332/3332 [==============================] - 6s 2ms/step - loss: 0.3418 - val_loss: 0.3724\n",
            "Epoch 18/50\n",
            "3332/3332 [==============================] - 6s 2ms/step - loss: 0.3390 - val_loss: 0.3703\n",
            "Epoch 19/50\n",
            "3332/3332 [==============================] - 6s 2ms/step - loss: 0.3368 - val_loss: 0.3668\n",
            "Epoch 20/50\n",
            "3332/3332 [==============================] - 6s 2ms/step - loss: 0.3347 - val_loss: 0.3656\n",
            "Epoch 21/50\n",
            "3332/3332 [==============================] - 6s 2ms/step - loss: 0.3323 - val_loss: 0.3626\n",
            "Epoch 22/50\n",
            "3332/3332 [==============================] - 6s 2ms/step - loss: 0.3311 - val_loss: 0.3610\n",
            "Epoch 23/50\n",
            "3332/3332 [==============================] - 6s 2ms/step - loss: 0.3298 - val_loss: 0.3645\n",
            "Epoch 24/50\n",
            "3332/3332 [==============================] - 6s 2ms/step - loss: 0.3287 - val_loss: 0.3591\n",
            "Epoch 25/50\n",
            "3332/3332 [==============================] - 6s 2ms/step - loss: 0.3280 - val_loss: 0.3599\n",
            "Epoch 26/50\n",
            "3332/3332 [==============================] - 6s 2ms/step - loss: 0.3274 - val_loss: 0.3590\n",
            "Epoch 27/50\n",
            "3332/3332 [==============================] - 6s 2ms/step - loss: 0.3258 - val_loss: 0.3577\n",
            "Epoch 28/50\n",
            "3332/3332 [==============================] - 6s 2ms/step - loss: 0.3259 - val_loss: 0.3604\n",
            "Epoch 29/50\n",
            "3332/3332 [==============================] - 6s 2ms/step - loss: 0.3244 - val_loss: 0.3592\n",
            "Epoch 30/50\n",
            "3332/3332 [==============================] - 6s 2ms/step - loss: 0.3260 - val_loss: 0.3534\n",
            "Epoch 31/50\n",
            "3332/3332 [==============================] - 6s 2ms/step - loss: 0.3242 - val_loss: 0.3521\n",
            "Epoch 32/50\n",
            "3332/3332 [==============================] - 6s 2ms/step - loss: 0.3229 - val_loss: 0.3542\n",
            "Epoch 33/50\n",
            "3332/3332 [==============================] - 6s 2ms/step - loss: 0.3219 - val_loss: 0.3511\n",
            "Epoch 34/50\n",
            "3332/3332 [==============================] - 6s 2ms/step - loss: 0.3213 - val_loss: 0.3523\n",
            "Epoch 35/50\n",
            "3332/3332 [==============================] - 6s 2ms/step - loss: 0.3206 - val_loss: 0.3528\n",
            "Epoch 36/50\n",
            "3332/3332 [==============================] - 6s 2ms/step - loss: 0.3200 - val_loss: 0.3488\n",
            "Epoch 37/50\n",
            "3332/3332 [==============================] - 6s 2ms/step - loss: 0.3197 - val_loss: 0.3489\n",
            "Epoch 38/50\n",
            "3332/3332 [==============================] - 6s 2ms/step - loss: 0.3193 - val_loss: 0.3489\n",
            "Epoch 39/50\n",
            "3332/3332 [==============================] - 6s 2ms/step - loss: 0.3194 - val_loss: 0.3496\n",
            "Epoch 40/50\n",
            "3332/3332 [==============================] - 6s 2ms/step - loss: 0.3182 - val_loss: 0.3482\n",
            "Epoch 41/50\n",
            "3332/3332 [==============================] - 6s 2ms/step - loss: 0.3182 - val_loss: 0.3482\n",
            "Epoch 42/50\n",
            "3332/3332 [==============================] - 6s 2ms/step - loss: 0.3178 - val_loss: 0.3468\n",
            "Epoch 43/50\n",
            "3332/3332 [==============================] - 6s 2ms/step - loss: 0.3178 - val_loss: 0.3483\n",
            "Epoch 44/50\n",
            "3332/3332 [==============================] - 6s 2ms/step - loss: 0.3173 - val_loss: 0.3483\n",
            "Epoch 45/50\n",
            "3332/3332 [==============================] - 6s 2ms/step - loss: 0.3168 - val_loss: 0.3478\n",
            "Epoch 46/50\n",
            "3332/3332 [==============================] - 6s 2ms/step - loss: 0.3164 - val_loss: 0.3453\n",
            "Epoch 47/50\n",
            "3332/3332 [==============================] - 6s 2ms/step - loss: 0.3163 - val_loss: 0.3469\n",
            "Epoch 48/50\n",
            "3332/3332 [==============================] - 6s 2ms/step - loss: 0.3173 - val_loss: 0.3486\n",
            "Epoch 49/50\n",
            "3332/3332 [==============================] - 6s 2ms/step - loss: 0.3156 - val_loss: 0.3460\n",
            "Epoch 50/50\n",
            "3332/3332 [==============================] - 6s 2ms/step - loss: 0.3161 - val_loss: 0.3471\n"
          ]
        },
        {
          "output_type": "execute_result",
          "data": {
            "text/plain": [
              "<keras.callbacks.History at 0x7f9da5885250>"
            ]
          },
          "metadata": {},
          "execution_count": 17
        }
      ]
    },
    {
      "cell_type": "code",
      "metadata": {
        "id": "OqoSr9cLQC3C"
      },
      "source": [
        "preds = autoencoder.predict(xtest)"
      ],
      "execution_count": 20,
      "outputs": []
    },
    {
      "cell_type": "code",
      "metadata": {
        "colab": {
          "base_uri": "https://localhost:8080/"
        },
        "id": "T3ibOZvFRtxK",
        "outputId": "81ddcf6b-290b-4c81-89b5-7565259c5cb1"
      },
      "source": [
        "preds.shape,xtest.values.shape"
      ],
      "execution_count": 28,
      "outputs": [
        {
          "output_type": "execute_result",
          "data": {
            "text/plain": [
              "((71202, 29), (71202, 29))"
            ]
          },
          "metadata": {},
          "execution_count": 28
        }
      ]
    },
    {
      "cell_type": "code",
      "metadata": {
        "colab": {
          "base_uri": "https://localhost:8080/",
          "height": 206
        },
        "id": "c4UD4Q0DRSxi",
        "outputId": "cb333409-4d70-4f92-a417-843998885d4d"
      },
      "source": [
        "rec_error = np.mean(np.power(np.array(xtest.values) - preds,2),axis=1)\n",
        "error_df = pd.DataFrame({'Reconstruction_error':rec_error,'true_class':ytest})\n",
        "error_df.head()"
      ],
      "execution_count": 29,
      "outputs": [
        {
          "output_type": "execute_result",
          "data": {
            "text/html": [
              "<div>\n",
              "<style scoped>\n",
              "    .dataframe tbody tr th:only-of-type {\n",
              "        vertical-align: middle;\n",
              "    }\n",
              "\n",
              "    .dataframe tbody tr th {\n",
              "        vertical-align: top;\n",
              "    }\n",
              "\n",
              "    .dataframe thead th {\n",
              "        text-align: right;\n",
              "    }\n",
              "</style>\n",
              "<table border=\"1\" class=\"dataframe\">\n",
              "  <thead>\n",
              "    <tr style=\"text-align: right;\">\n",
              "      <th></th>\n",
              "      <th>Reconstruction_error</th>\n",
              "      <th>true_class</th>\n",
              "    </tr>\n",
              "  </thead>\n",
              "  <tbody>\n",
              "    <tr>\n",
              "      <th>27733</th>\n",
              "      <td>0.343710</td>\n",
              "      <td>0</td>\n",
              "    </tr>\n",
              "    <tr>\n",
              "      <th>58505</th>\n",
              "      <td>0.408014</td>\n",
              "      <td>0</td>\n",
              "    </tr>\n",
              "    <tr>\n",
              "      <th>231716</th>\n",
              "      <td>0.291207</td>\n",
              "      <td>0</td>\n",
              "    </tr>\n",
              "    <tr>\n",
              "      <th>123042</th>\n",
              "      <td>0.179039</td>\n",
              "      <td>0</td>\n",
              "    </tr>\n",
              "    <tr>\n",
              "      <th>215839</th>\n",
              "      <td>0.173140</td>\n",
              "      <td>0</td>\n",
              "    </tr>\n",
              "  </tbody>\n",
              "</table>\n",
              "</div>"
            ],
            "text/plain": [
              "        Reconstruction_error  true_class\n",
              "27733               0.343710           0\n",
              "58505               0.408014           0\n",
              "231716              0.291207           0\n",
              "123042              0.179039           0\n",
              "215839              0.173140           0"
            ]
          },
          "metadata": {},
          "execution_count": 29
        }
      ]
    },
    {
      "cell_type": "markdown",
      "metadata": {
        "id": "m78-bNA_SVqD"
      },
      "source": [
        "### Reconstruction error without fraud"
      ]
    },
    {
      "cell_type": "code",
      "metadata": {
        "colab": {
          "base_uri": "https://localhost:8080/",
          "height": 369
        },
        "id": "EnR1rfv0RoQA",
        "outputId": "ed195a15-6c10-4cd1-ce76-ab6ddff59ce8"
      },
      "source": [
        "normal_df = error_df[error_df.true_class==0]\n",
        "plt.hist(normal_df.Reconstruction_error.values)"
      ],
      "execution_count": 31,
      "outputs": [
        {
          "output_type": "execute_result",
          "data": {
            "text/plain": [
              "(array([7.1049e+04, 2.2000e+01, 4.0000e+00, 5.0000e+00, 0.0000e+00,\n",
              "        0.0000e+00, 0.0000e+00, 0.0000e+00, 0.0000e+00, 1.0000e+00]),\n",
              " array([1.39574643e-02, 2.13318525e+01, 4.26497476e+01, 6.39676426e+01,\n",
              "        8.52855377e+01, 1.06603433e+02, 1.27921328e+02, 1.49239223e+02,\n",
              "        1.70557118e+02, 1.91875013e+02, 2.13192908e+02]),\n",
              " <a list of 10 Patch objects>)"
            ]
          },
          "metadata": {},
          "execution_count": 31
        },
        {
          "output_type": "display_data",
          "data": {
            "image/png": "[encoded data removed]",
            "text/plain": [
              "<Figure size 432x288 with 1 Axes>"
            ]
          },
          "metadata": {
            "needs_background": "light"
          }
        }
      ]
    },
    {
      "cell_type": "markdown",
      "metadata": {
        "id": "HLYfEpUrSzuq"
      },
      "source": [
        "### Reconstruction error with fraud"
      ]
    },
    {
      "cell_type": "code",
      "metadata": {
        "colab": {
          "base_uri": "https://localhost:8080/",
          "height": 352
        },
        "id": "Q_nMIEX7Szur",
        "outputId": "f320a4ad-1788-4adf-8e4d-8a7482d8ae04"
      },
      "source": [
        "fraud_df = error_df[error_df.true_class==1]\n",
        "plt.hist(fraud_df.Reconstruction_error.values)"
      ],
      "execution_count": 32,
      "outputs": [
        {
          "output_type": "execute_result",
          "data": {
            "text/plain": [
              "(array([80., 12.,  3., 19.,  3.,  2.,  0.,  1.,  0.,  1.]),\n",
              " array([1.42572399e-01, 1.88764342e+01, 3.76102959e+01, 5.63441577e+01,\n",
              "        7.50780195e+01, 9.38118813e+01, 1.12545743e+02, 1.31279605e+02,\n",
              "        1.50013467e+02, 1.68747328e+02, 1.87481190e+02]),\n",
              " <a list of 10 Patch objects>)"
            ]
          },
          "metadata": {},
          "execution_count": 32
        },
        {
          "output_type": "display_data",
          "data": {
            "image/png": "[encoded data removed]",
            "text/plain": [
              "<Figure size 432x288 with 1 Axes>"
            ]
          },
          "metadata": {
            "needs_background": "light"
          }
        }
      ]
    },
    {
      "cell_type": "code",
      "metadata": {
        "colab": {
          "base_uri": "https://localhost:8080/"
        },
        "id": "LFtDoVuVR-dz",
        "outputId": "20340a39-815a-429c-91fd-5fc6c9c2ffb6"
      },
      "source": [
        "fraud_df.shape"
      ],
      "execution_count": 33,
      "outputs": [
        {
          "output_type": "execute_result",
          "data": {
            "text/plain": [
              "(121, 2)"
            ]
          },
          "metadata": {},
          "execution_count": 33
        }
      ]
    },
    {
      "cell_type": "code",
      "metadata": {
        "id": "Lvsv-zOHTHNl"
      },
      "source": [
        ""
      ],
      "execution_count": null,
      "outputs": []
    }
  ]
}