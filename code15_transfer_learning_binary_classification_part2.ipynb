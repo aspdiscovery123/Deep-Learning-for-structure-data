{
  "nbformat": 4,
  "nbformat_minor": 0,
  "metadata": {
    "colab": {
      "name": "code15_transfer_learning_binary_classification_part2.ipynb",
      "provenance": []
    },
    "kernelspec": {
      "name": "python3",
      "display_name": "Python 3"
    },
    "language_info": {
      "name": "python"
    }
  },
  "cells": [
    {
      "cell_type": "markdown",
      "metadata": {
        "id": "lMUrzRAW_-l4"
      },
      "source": [
        "# Using transfer learning for Bank B"
      ]
    },
    {
      "cell_type": "code",
      "metadata": {
        "id": "wRwmG7Ya-pmV"
      },
      "source": [
        "!wget -q https://raw.githubusercontent.com/aspdiscovery123/Deep-Learning-for-structure-data/master/model.h5\n",
        "!wget -q https://raw.githubusercontent.com/aspdiscovery123/Deep-Learning-for-structure-data/master/preprocessor.pkl\n",
        "!wget -q https://raw.githubusercontent.com/aspdiscovery123/Deep-Learning-for-structure-data/master/Bank_B_data.csv"
      ],
      "execution_count": 1,
      "outputs": []
    },
    {
      "cell_type": "code",
      "metadata": {
        "id": "ySWKEsOt--vP"
      },
      "source": [
        "import pandas as pd\n",
        "import numpy as np"
      ],
      "execution_count": 2,
      "outputs": []
    },
    {
      "cell_type": "code",
      "metadata": {
        "colab": {
          "base_uri": "https://localhost:8080/"
        },
        "id": "Y7gVqBJe_8uA",
        "outputId": "b360c807-0ba9-49e4-934d-25599e3c4be0"
      },
      "source": [
        "df = pd.read_csv(\"Bank_B_data.csv\")\n",
        "df.shape"
      ],
      "execution_count": 3,
      "outputs": [
        {
          "output_type": "execute_result",
          "data": {
            "text/plain": [
              "(1000, 14)"
            ]
          },
          "metadata": {},
          "execution_count": 3
        }
      ]
    },
    {
      "cell_type": "code",
      "metadata": {
        "colab": {
          "base_uri": "https://localhost:8080/",
          "height": 226
        },
        "id": "g3XGmqiqAE5W",
        "outputId": "5778ad83-f4bd-4d43-bba6-9c8ca333f18a"
      },
      "source": [
        "df.head()"
      ],
      "execution_count": 4,
      "outputs": [
        {
          "output_type": "execute_result",
          "data": {
            "text/html": [
              "<div>\n",
              "<style scoped>\n",
              "    .dataframe tbody tr th:only-of-type {\n",
              "        vertical-align: middle;\n",
              "    }\n",
              "\n",
              "    .dataframe tbody tr th {\n",
              "        vertical-align: top;\n",
              "    }\n",
              "\n",
              "    .dataframe thead th {\n",
              "        text-align: right;\n",
              "    }\n",
              "</style>\n",
              "<table border=\"1\" class=\"dataframe\">\n",
              "  <thead>\n",
              "    <tr style=\"text-align: right;\">\n",
              "      <th></th>\n",
              "      <th>RowNumber</th>\n",
              "      <th>CustomerId</th>\n",
              "      <th>Surname</th>\n",
              "      <th>CreditScore</th>\n",
              "      <th>Geography</th>\n",
              "      <th>Gender</th>\n",
              "      <th>Age</th>\n",
              "      <th>Tenure</th>\n",
              "      <th>Balance</th>\n",
              "      <th>NumOfProducts</th>\n",
              "      <th>HasCrCard</th>\n",
              "      <th>IsActiveMember</th>\n",
              "      <th>EstimatedSalary</th>\n",
              "      <th>Exited</th>\n",
              "    </tr>\n",
              "  </thead>\n",
              "  <tbody>\n",
              "    <tr>\n",
              "      <th>0</th>\n",
              "      <td>5825</td>\n",
              "      <td>15698953</td>\n",
              "      <td>Hart</td>\n",
              "      <td>636</td>\n",
              "      <td>Spain</td>\n",
              "      <td>Male</td>\n",
              "      <td>36</td>\n",
              "      <td>1.0</td>\n",
              "      <td>0.00</td>\n",
              "      <td>3</td>\n",
              "      <td>1</td>\n",
              "      <td>1</td>\n",
              "      <td>74048.10</td>\n",
              "      <td>1</td>\n",
              "    </tr>\n",
              "    <tr>\n",
              "      <th>1</th>\n",
              "      <td>9046</td>\n",
              "      <td>15749951</td>\n",
              "      <td>Sacco</td>\n",
              "      <td>766</td>\n",
              "      <td>Germany</td>\n",
              "      <td>Male</td>\n",
              "      <td>27</td>\n",
              "      <td>5.0</td>\n",
              "      <td>126285.73</td>\n",
              "      <td>1</td>\n",
              "      <td>1</td>\n",
              "      <td>0</td>\n",
              "      <td>177614.17</td>\n",
              "      <td>1</td>\n",
              "    </tr>\n",
              "    <tr>\n",
              "      <th>2</th>\n",
              "      <td>7599</td>\n",
              "      <td>15613699</td>\n",
              "      <td>Schnaars</td>\n",
              "      <td>430</td>\n",
              "      <td>France</td>\n",
              "      <td>Female</td>\n",
              "      <td>60</td>\n",
              "      <td>7.0</td>\n",
              "      <td>73937.02</td>\n",
              "      <td>1</td>\n",
              "      <td>1</td>\n",
              "      <td>0</td>\n",
              "      <td>161937.62</td>\n",
              "      <td>1</td>\n",
              "    </tr>\n",
              "    <tr>\n",
              "      <th>3</th>\n",
              "      <td>1288</td>\n",
              "      <td>15565701</td>\n",
              "      <td>Ferri</td>\n",
              "      <td>698</td>\n",
              "      <td>Spain</td>\n",
              "      <td>Female</td>\n",
              "      <td>39</td>\n",
              "      <td>9.0</td>\n",
              "      <td>161993.89</td>\n",
              "      <td>1</td>\n",
              "      <td>0</td>\n",
              "      <td>0</td>\n",
              "      <td>90212.38</td>\n",
              "      <td>0</td>\n",
              "    </tr>\n",
              "    <tr>\n",
              "      <th>4</th>\n",
              "      <td>1227</td>\n",
              "      <td>15775572</td>\n",
              "      <td>Bergamaschi</td>\n",
              "      <td>531</td>\n",
              "      <td>Germany</td>\n",
              "      <td>Female</td>\n",
              "      <td>42</td>\n",
              "      <td>6.0</td>\n",
              "      <td>88324.31</td>\n",
              "      <td>2</td>\n",
              "      <td>1</td>\n",
              "      <td>0</td>\n",
              "      <td>75248.75</td>\n",
              "      <td>0</td>\n",
              "    </tr>\n",
              "  </tbody>\n",
              "</table>\n",
              "</div>"
            ],
            "text/plain": [
              "   RowNumber  CustomerId      Surname  ...  IsActiveMember EstimatedSalary Exited\n",
              "0       5825    15698953         Hart  ...               1        74048.10      1\n",
              "1       9046    15749951        Sacco  ...               0       177614.17      1\n",
              "2       7599    15613699     Schnaars  ...               0       161937.62      1\n",
              "3       1288    15565701        Ferri  ...               0        90212.38      0\n",
              "4       1227    15775572  Bergamaschi  ...               0        75248.75      0\n",
              "\n",
              "[5 rows x 14 columns]"
            ]
          },
          "metadata": {},
          "execution_count": 4
        }
      ]
    },
    {
      "cell_type": "code",
      "metadata": {
        "id": "YQlCeTGvAFfK"
      },
      "source": [
        "df.drop(columns=['RowNumber','CustomerId','Surname'],inplace=True)"
      ],
      "execution_count": 6,
      "outputs": []
    },
    {
      "cell_type": "code",
      "metadata": {
        "id": "PsqywDQIALws"
      },
      "source": [
        "x = df.drop(columns=['Exited'])\n",
        "y = df.Exited"
      ],
      "execution_count": 7,
      "outputs": []
    },
    {
      "cell_type": "code",
      "metadata": {
        "id": "GkYSP8ouASoT"
      },
      "source": [
        "import joblib\n",
        "preprocessor = joblib.load(\"preprocessor.pkl\")"
      ],
      "execution_count": 9,
      "outputs": []
    },
    {
      "cell_type": "code",
      "metadata": {
        "colab": {
          "base_uri": "https://localhost:8080/"
        },
        "id": "osI-S_k6AYuP",
        "outputId": "c986ea76-b61e-4b6c-f6f6-0abea2a3acc9"
      },
      "source": [
        "x2 = preprocessor.transform(x)\n",
        "x2.shape"
      ],
      "execution_count": 11,
      "outputs": [
        {
          "output_type": "execute_result",
          "data": {
            "text/plain": [
              "(1000, 11)"
            ]
          },
          "metadata": {},
          "execution_count": 11
        }
      ]
    },
    {
      "cell_type": "markdown",
      "metadata": {
        "id": "BFGW9KmYAmdS"
      },
      "source": [
        "## Modelling"
      ]
    },
    {
      "cell_type": "code",
      "metadata": {
        "id": "JLIm77xjApnj"
      },
      "source": [
        "from tensorflow.keras import models,layers"
      ],
      "execution_count": 12,
      "outputs": []
    },
    {
      "cell_type": "code",
      "metadata": {
        "colab": {
          "base_uri": "https://localhost:8080/"
        },
        "id": "xd8_yGgMAer1",
        "outputId": "4ad344e6-726b-40a0-b86e-1f0e2b894074"
      },
      "source": [
        "old_model = models.load_model(\"model.h5\")\n",
        "old_model.summary()"
      ],
      "execution_count": 13,
      "outputs": [
        {
          "output_type": "stream",
          "name": "stdout",
          "text": [
            "Model: \"model_2\"\n",
            "_________________________________________________________________\n",
            "Layer (type)                 Output Shape              Param #   \n",
            "=================================================================\n",
            "input_layer_bankA (InputLaye [(None, 11)]              0         \n",
            "_________________________________________________________________\n",
            "H1_BankA (Dense)             (None, 20)                240       \n",
            "_________________________________________________________________\n",
            "H2_BankA (Dense)             (None, 20)                420       \n",
            "_________________________________________________________________\n",
            "H3_BankA (Dense)             (None, 10)                210       \n",
            "_________________________________________________________________\n",
            "H4_BankA (Dense)             (None, 10)                110       \n",
            "_________________________________________________________________\n",
            "output_layer_bankA (Dense)   (None, 1)                 11        \n",
            "=================================================================\n",
            "Total params: 991\n",
            "Trainable params: 991\n",
            "Non-trainable params: 0\n",
            "_________________________________________________________________\n"
          ]
        }
      ]
    },
    {
      "cell_type": "code",
      "metadata": {
        "id": "nBdsJubkAxPj"
      },
      "source": [
        "# freezing most of layers\n",
        "for layer in old_model.layers[:-2]:\n",
        "  layer.trainable=False"
      ],
      "execution_count": 14,
      "outputs": []
    },
    {
      "cell_type": "code",
      "metadata": {
        "colab": {
          "base_uri": "https://localhost:8080/"
        },
        "id": "uQv0yrUKA8vU",
        "outputId": "cf048b66-b122-491e-e817-9c4887a203e6"
      },
      "source": [
        "old_model.summary()"
      ],
      "execution_count": 15,
      "outputs": [
        {
          "output_type": "stream",
          "name": "stdout",
          "text": [
            "Model: \"model_2\"\n",
            "_________________________________________________________________\n",
            "Layer (type)                 Output Shape              Param #   \n",
            "=================================================================\n",
            "input_layer_bankA (InputLaye [(None, 11)]              0         \n",
            "_________________________________________________________________\n",
            "H1_BankA (Dense)             (None, 20)                240       \n",
            "_________________________________________________________________\n",
            "H2_BankA (Dense)             (None, 20)                420       \n",
            "_________________________________________________________________\n",
            "H3_BankA (Dense)             (None, 10)                210       \n",
            "_________________________________________________________________\n",
            "H4_BankA (Dense)             (None, 10)                110       \n",
            "_________________________________________________________________\n",
            "output_layer_bankA (Dense)   (None, 1)                 11        \n",
            "=================================================================\n",
            "Total params: 991\n",
            "Trainable params: 121\n",
            "Non-trainable params: 870\n",
            "_________________________________________________________________\n"
          ]
        }
      ]
    },
    {
      "cell_type": "code",
      "metadata": {
        "colab": {
          "base_uri": "https://localhost:8080/"
        },
        "id": "_LJV66LQA_FI",
        "outputId": "e6bbfe60-e32b-4bb3-83c9-90e2f146d369"
      },
      "source": [
        "old_model.compile(loss='binary_crossentropy',optimizer='adam',metrics=['accuracy'])\n",
        "old_model.fit(x2,y,epochs=20,shuffle=True)"
      ],
      "execution_count": 16,
      "outputs": [
        {
          "output_type": "stream",
          "name": "stdout",
          "text": [
            "Epoch 1/20\n",
            "32/32 [==============================] - 1s 1ms/step - loss: nan - accuracy: 0.7960\n",
            "Epoch 2/20\n",
            "32/32 [==============================] - 0s 1ms/step - loss: nan - accuracy: 0.7960\n",
            "Epoch 3/20\n",
            "32/32 [==============================] - 0s 1ms/step - loss: nan - accuracy: 0.7960\n",
            "Epoch 4/20\n",
            "32/32 [==============================] - 0s 1ms/step - loss: nan - accuracy: 0.7960\n",
            "Epoch 5/20\n",
            "32/32 [==============================] - 0s 1ms/step - loss: nan - accuracy: 0.7960\n",
            "Epoch 6/20\n",
            "32/32 [==============================] - 0s 1ms/step - loss: nan - accuracy: 0.7960\n",
            "Epoch 7/20\n",
            "32/32 [==============================] - 0s 1ms/step - loss: nan - accuracy: 0.7960\n",
            "Epoch 8/20\n",
            "32/32 [==============================] - 0s 1ms/step - loss: nan - accuracy: 0.7960\n",
            "Epoch 9/20\n",
            "32/32 [==============================] - 0s 1ms/step - loss: nan - accuracy: 0.7960\n",
            "Epoch 10/20\n",
            "32/32 [==============================] - 0s 1ms/step - loss: nan - accuracy: 0.7960\n",
            "Epoch 11/20\n",
            "32/32 [==============================] - 0s 1ms/step - loss: nan - accuracy: 0.7960\n",
            "Epoch 12/20\n",
            "32/32 [==============================] - 0s 1ms/step - loss: nan - accuracy: 0.7960\n",
            "Epoch 13/20\n",
            "32/32 [==============================] - 0s 1ms/step - loss: nan - accuracy: 0.7960\n",
            "Epoch 14/20\n",
            "32/32 [==============================] - 0s 1ms/step - loss: nan - accuracy: 0.7960\n",
            "Epoch 15/20\n",
            "32/32 [==============================] - 0s 1ms/step - loss: nan - accuracy: 0.7960\n",
            "Epoch 16/20\n",
            "32/32 [==============================] - 0s 1ms/step - loss: nan - accuracy: 0.7960\n",
            "Epoch 17/20\n",
            "32/32 [==============================] - 0s 1ms/step - loss: nan - accuracy: 0.7960\n",
            "Epoch 18/20\n",
            "32/32 [==============================] - 0s 1ms/step - loss: nan - accuracy: 0.7960\n",
            "Epoch 19/20\n",
            "32/32 [==============================] - 0s 1ms/step - loss: nan - accuracy: 0.7960\n",
            "Epoch 20/20\n",
            "32/32 [==============================] - 0s 1ms/step - loss: nan - accuracy: 0.7960\n"
          ]
        },
        {
          "output_type": "execute_result",
          "data": {
            "text/plain": [
              "<keras.callbacks.History at 0x7f67cf5e9b10>"
            ]
          },
          "metadata": {},
          "execution_count": 16
        }
      ]
    },
    {
      "cell_type": "code",
      "metadata": {
        "id": "o5FzU4TyBPui"
      },
      "source": [
        ""
      ],
      "execution_count": null,
      "outputs": []
    }
  ]
}