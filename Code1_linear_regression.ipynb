{
  "nbformat": 4,
  "nbformat_minor": 0,
  "metadata": {
    "colab": {
      "name": "Code1_linear_regression.ipynb",
      "provenance": []
    },
    "kernelspec": {
      "name": "python3",
      "display_name": "Python 3"
    },
    "language_info": {
      "name": "python"
    }
  },
  "cells": [
    {
      "cell_type": "code",
      "metadata": {
        "id": "ln7-x2mjtsbC"
      },
      "source": [
        "import numpy as np"
      ],
      "execution_count": 1,
      "outputs": []
    },
    {
      "cell_type": "code",
      "metadata": {
        "id": "WtVx-I4ttybZ"
      },
      "source": [
        "x = np.array([1.0,1.0,1.0])\n",
        "y = np.array([30.0])\n",
        "w = np.array([0.2,0.1,0.3])"
      ],
      "execution_count": 8,
      "outputs": []
    },
    {
      "cell_type": "code",
      "metadata": {
        "colab": {
          "base_uri": "https://localhost:8080/"
        },
        "id": "UcSjbQqRt6ZS",
        "outputId": "a0bea52d-3bef-4c14-c5fa-6ebdf697a28d"
      },
      "source": [
        "LR = 0.01\n",
        "for i in range(15):\n",
        "  # weighted sum\n",
        "  z = np.dot(x,w)\n",
        "  # activation function f(x) = 2*x\n",
        "  yhat = 2*z\n",
        "\n",
        "  # calculate cost\n",
        "  J = np.mean(np.square(y-yhat))\n",
        "  print(J, \"   |   \",yhat)\n",
        "\n",
        "  # Apply gradient descent\n",
        "  # w = w - LR*dj/dw\n",
        "  djdw = 2*(yhat-y)*2*x\n",
        "  w = w - LR*djdw\n"
      ],
      "execution_count": 9,
      "outputs": [
        {
          "output_type": "stream",
          "name": "stdout",
          "text": [
            "829.44    |    1.2000000000000002\n",
            "479.08454399999994    |    8.112\n",
            "276.71923261439997    |    13.365120000000001\n",
            "159.8330287580774    |    17.357491200000002\n",
            "92.31955741066551    |    20.391693312\n",
            "53.32377636040043    |    22.69768691712\n",
            "30.799813225767252    |    24.450242057011202\n",
            "17.789972119203163    |    25.782183963328514\n",
            "10.275487896051773    |    26.794459812129666\n",
            "5.9351218087595    |    27.563789457218547\n",
            "3.428126356739479    |    28.1484799874861\n",
            "1.9800857836527366    |    28.59284479048943\n",
            "1.1436975486378118    |    28.93056204077197\n",
            "0.6605997040932015    |    29.187227150986697\n",
            "0.38156238908423107    |    29.38229263474989\n"
          ]
        }
      ]
    },
    {
      "cell_type": "code",
      "metadata": {
        "colab": {
          "base_uri": "https://localhost:8080/"
        },
        "id": "RjMzkYPBu3do",
        "outputId": "3e053f65-a8de-4ef8-e8fe-7a3a9ccb4e38"
      },
      "source": [
        "w"
      ],
      "execution_count": 10,
      "outputs": [
        {
          "output_type": "execute_result",
          "data": {
            "text/plain": [
              "array([4.92175707, 4.82175707, 5.02175707])"
            ]
          },
          "metadata": {},
          "execution_count": 10
        }
      ]
    },
    {
      "cell_type": "code",
      "metadata": {
        "id": "V6l6YbzyvHab"
      },
      "source": [
        ""
      ],
      "execution_count": null,
      "outputs": []
    }
  ]
}