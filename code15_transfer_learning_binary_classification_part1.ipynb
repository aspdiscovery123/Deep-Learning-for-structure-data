{
  "nbformat": 4,
  "nbformat_minor": 0,
  "metadata": {
    "colab": {
      "name": "code15_transfer_learning_binary_classification_part1.ipynb",
      "provenance": []
    },
    "kernelspec": {
      "name": "python3",
      "display_name": "Python 3"
    },
    "language_info": {
      "name": "python"
    }
  },
  "cells": [
    {
      "cell_type": "code",
      "metadata": {
        "id": "O8Pg7pz43eJE"
      },
      "source": [
        "import pandas as pd"
      ],
      "execution_count": 29,
      "outputs": []
    },
    {
      "cell_type": "code",
      "metadata": {
        "id": "F9gLKIeh4nyU"
      },
      "source": [
        "!wget -q https://raw.githubusercontent.com/aspdiscovery123/Deep-Learning-for-structure-data/master/Bank_churn_modelling.csv"
      ],
      "execution_count": 2,
      "outputs": []
    },
    {
      "cell_type": "code",
      "metadata": {
        "colab": {
          "base_uri": "https://localhost:8080/"
        },
        "id": "1oVyyi8C4rTc",
        "outputId": "ff041cff-e6de-4849-ccb1-ab7193a8c986"
      },
      "source": [
        "df = pd.read_csv(\"Bank_churn_modelling.csv\")\n",
        "df.shape"
      ],
      "execution_count": 3,
      "outputs": [
        {
          "output_type": "execute_result",
          "data": {
            "text/plain": [
              "(10000, 14)"
            ]
          },
          "metadata": {},
          "execution_count": 3
        }
      ]
    },
    {
      "cell_type": "code",
      "metadata": {
        "colab": {
          "base_uri": "https://localhost:8080/"
        },
        "id": "RYVOJ9bZ4wi8",
        "outputId": "ba3e2686-9c7d-4dc8-a94b-488a91c6e8f1"
      },
      "source": [
        "from sklearn.model_selection import train_test_split\n",
        "df1,df2 = train_test_split(df,test_size=0.1,stratify=df.Exited,random_state=5)\n",
        "df1.shape,df2.shape"
      ],
      "execution_count": 4,
      "outputs": [
        {
          "output_type": "execute_result",
          "data": {
            "text/plain": [
              "((9000, 14), (1000, 14))"
            ]
          },
          "metadata": {},
          "execution_count": 4
        }
      ]
    },
    {
      "cell_type": "code",
      "metadata": {
        "id": "sK7iJ5kH5BAS"
      },
      "source": [
        "df1.to_csv(\"Bank_A_data.csv\",index=False)"
      ],
      "execution_count": 5,
      "outputs": []
    },
    {
      "cell_type": "code",
      "metadata": {
        "id": "94fj35Py5IJn"
      },
      "source": [
        "df2.to_csv(\"Bank_B_data.csv\",index=False)"
      ],
      "execution_count": 6,
      "outputs": []
    },
    {
      "cell_type": "markdown",
      "metadata": {
        "id": "e4L6uCO_5Yv_"
      },
      "source": [
        "# Churn Prediction model for Bank A"
      ]
    },
    {
      "cell_type": "code",
      "metadata": {
        "id": "dmuzIpX75KZ2"
      },
      "source": [
        "import pandas as pd\n",
        "import numpy as np\n",
        "import matplotlib.pyplot as plt\n",
        "import seaborn as sns\n",
        "from tensorflow.keras import models,layers"
      ],
      "execution_count": 7,
      "outputs": []
    },
    {
      "cell_type": "code",
      "metadata": {
        "colab": {
          "base_uri": "https://localhost:8080/"
        },
        "id": "hu9L8AHF5jGp",
        "outputId": "174e3fbe-d1c4-435f-a612-64a879bc4770"
      },
      "source": [
        "df = pd.read_csv(\"Bank_A_data.csv\")\n",
        "df.shape"
      ],
      "execution_count": 8,
      "outputs": [
        {
          "output_type": "execute_result",
          "data": {
            "text/plain": [
              "(9000, 14)"
            ]
          },
          "metadata": {},
          "execution_count": 8
        }
      ]
    },
    {
      "cell_type": "code",
      "metadata": {
        "colab": {
          "base_uri": "https://localhost:8080/",
          "height": 226
        },
        "id": "5uqo16ZW5n9J",
        "outputId": "80800a69-300d-4243-ac97-a4f295f28734"
      },
      "source": [
        "df.head()"
      ],
      "execution_count": 9,
      "outputs": [
        {
          "output_type": "execute_result",
          "data": {
            "text/html": [
              "<div>\n",
              "<style scoped>\n",
              "    .dataframe tbody tr th:only-of-type {\n",
              "        vertical-align: middle;\n",
              "    }\n",
              "\n",
              "    .dataframe tbody tr th {\n",
              "        vertical-align: top;\n",
              "    }\n",
              "\n",
              "    .dataframe thead th {\n",
              "        text-align: right;\n",
              "    }\n",
              "</style>\n",
              "<table border=\"1\" class=\"dataframe\">\n",
              "  <thead>\n",
              "    <tr style=\"text-align: right;\">\n",
              "      <th></th>\n",
              "      <th>RowNumber</th>\n",
              "      <th>CustomerId</th>\n",
              "      <th>Surname</th>\n",
              "      <th>CreditScore</th>\n",
              "      <th>Geography</th>\n",
              "      <th>Gender</th>\n",
              "      <th>Age</th>\n",
              "      <th>Tenure</th>\n",
              "      <th>Balance</th>\n",
              "      <th>NumOfProducts</th>\n",
              "      <th>HasCrCard</th>\n",
              "      <th>IsActiveMember</th>\n",
              "      <th>EstimatedSalary</th>\n",
              "      <th>Exited</th>\n",
              "    </tr>\n",
              "  </thead>\n",
              "  <tbody>\n",
              "    <tr>\n",
              "      <th>0</th>\n",
              "      <td>6711</td>\n",
              "      <td>15701037</td>\n",
              "      <td>Barton</td>\n",
              "      <td>578</td>\n",
              "      <td>France</td>\n",
              "      <td>Male</td>\n",
              "      <td>39</td>\n",
              "      <td>2.0</td>\n",
              "      <td>0.00</td>\n",
              "      <td>2</td>\n",
              "      <td>1</td>\n",
              "      <td>0</td>\n",
              "      <td>70563.90</td>\n",
              "      <td>0</td>\n",
              "    </tr>\n",
              "    <tr>\n",
              "      <th>1</th>\n",
              "      <td>3203</td>\n",
              "      <td>15598070</td>\n",
              "      <td>Marchesi</td>\n",
              "      <td>564</td>\n",
              "      <td>France</td>\n",
              "      <td>Female</td>\n",
              "      <td>33</td>\n",
              "      <td>4.0</td>\n",
              "      <td>135946.26</td>\n",
              "      <td>1</td>\n",
              "      <td>1</td>\n",
              "      <td>0</td>\n",
              "      <td>63170.00</td>\n",
              "      <td>0</td>\n",
              "    </tr>\n",
              "    <tr>\n",
              "      <th>2</th>\n",
              "      <td>9703</td>\n",
              "      <td>15687828</td>\n",
              "      <td>Gorshkov</td>\n",
              "      <td>644</td>\n",
              "      <td>Spain</td>\n",
              "      <td>Female</td>\n",
              "      <td>31</td>\n",
              "      <td>5.0</td>\n",
              "      <td>86006.30</td>\n",
              "      <td>1</td>\n",
              "      <td>1</td>\n",
              "      <td>1</td>\n",
              "      <td>73922.95</td>\n",
              "      <td>0</td>\n",
              "    </tr>\n",
              "    <tr>\n",
              "      <th>3</th>\n",
              "      <td>7204</td>\n",
              "      <td>15657778</td>\n",
              "      <td>Jefferson</td>\n",
              "      <td>657</td>\n",
              "      <td>France</td>\n",
              "      <td>Male</td>\n",
              "      <td>33</td>\n",
              "      <td>1.0</td>\n",
              "      <td>84309.57</td>\n",
              "      <td>2</td>\n",
              "      <td>0</td>\n",
              "      <td>0</td>\n",
              "      <td>103914.40</td>\n",
              "      <td>0</td>\n",
              "    </tr>\n",
              "    <tr>\n",
              "      <th>4</th>\n",
              "      <td>2122</td>\n",
              "      <td>15583576</td>\n",
              "      <td>Tai</td>\n",
              "      <td>671</td>\n",
              "      <td>France</td>\n",
              "      <td>Male</td>\n",
              "      <td>30</td>\n",
              "      <td>2.0</td>\n",
              "      <td>0.00</td>\n",
              "      <td>1</td>\n",
              "      <td>0</td>\n",
              "      <td>1</td>\n",
              "      <td>102057.86</td>\n",
              "      <td>0</td>\n",
              "    </tr>\n",
              "  </tbody>\n",
              "</table>\n",
              "</div>"
            ],
            "text/plain": [
              "   RowNumber  CustomerId    Surname  ...  IsActiveMember EstimatedSalary Exited\n",
              "0       6711    15701037     Barton  ...               0        70563.90      0\n",
              "1       3203    15598070   Marchesi  ...               0        63170.00      0\n",
              "2       9703    15687828   Gorshkov  ...               1        73922.95      0\n",
              "3       7204    15657778  Jefferson  ...               0       103914.40      0\n",
              "4       2122    15583576        Tai  ...               1       102057.86      0\n",
              "\n",
              "[5 rows x 14 columns]"
            ]
          },
          "metadata": {},
          "execution_count": 9
        }
      ]
    },
    {
      "cell_type": "code",
      "metadata": {
        "colab": {
          "base_uri": "https://localhost:8080/"
        },
        "id": "Mzhf7Cmo5ovz",
        "outputId": "f61fe568-caa2-41b8-d648-434387432c24"
      },
      "source": [
        "df.drop(columns = ['RowNumber','CustomerId','Surname'],inplace=True)\n",
        "df.shape"
      ],
      "execution_count": 10,
      "outputs": [
        {
          "output_type": "execute_result",
          "data": {
            "text/plain": [
              "(9000, 11)"
            ]
          },
          "metadata": {},
          "execution_count": 10
        }
      ]
    },
    {
      "cell_type": "code",
      "metadata": {
        "colab": {
          "base_uri": "https://localhost:8080/",
          "height": 206
        },
        "id": "8nIC3ziv6DgG",
        "outputId": "af1f1675-453c-4ace-ff73-96767e384d2a"
      },
      "source": [
        "df.head()"
      ],
      "execution_count": 11,
      "outputs": [
        {
          "output_type": "execute_result",
          "data": {
            "text/html": [
              "<div>\n",
              "<style scoped>\n",
              "    .dataframe tbody tr th:only-of-type {\n",
              "        vertical-align: middle;\n",
              "    }\n",
              "\n",
              "    .dataframe tbody tr th {\n",
              "        vertical-align: top;\n",
              "    }\n",
              "\n",
              "    .dataframe thead th {\n",
              "        text-align: right;\n",
              "    }\n",
              "</style>\n",
              "<table border=\"1\" class=\"dataframe\">\n",
              "  <thead>\n",
              "    <tr style=\"text-align: right;\">\n",
              "      <th></th>\n",
              "      <th>CreditScore</th>\n",
              "      <th>Geography</th>\n",
              "      <th>Gender</th>\n",
              "      <th>Age</th>\n",
              "      <th>Tenure</th>\n",
              "      <th>Balance</th>\n",
              "      <th>NumOfProducts</th>\n",
              "      <th>HasCrCard</th>\n",
              "      <th>IsActiveMember</th>\n",
              "      <th>EstimatedSalary</th>\n",
              "      <th>Exited</th>\n",
              "    </tr>\n",
              "  </thead>\n",
              "  <tbody>\n",
              "    <tr>\n",
              "      <th>0</th>\n",
              "      <td>578</td>\n",
              "      <td>France</td>\n",
              "      <td>Male</td>\n",
              "      <td>39</td>\n",
              "      <td>2.0</td>\n",
              "      <td>0.00</td>\n",
              "      <td>2</td>\n",
              "      <td>1</td>\n",
              "      <td>0</td>\n",
              "      <td>70563.90</td>\n",
              "      <td>0</td>\n",
              "    </tr>\n",
              "    <tr>\n",
              "      <th>1</th>\n",
              "      <td>564</td>\n",
              "      <td>France</td>\n",
              "      <td>Female</td>\n",
              "      <td>33</td>\n",
              "      <td>4.0</td>\n",
              "      <td>135946.26</td>\n",
              "      <td>1</td>\n",
              "      <td>1</td>\n",
              "      <td>0</td>\n",
              "      <td>63170.00</td>\n",
              "      <td>0</td>\n",
              "    </tr>\n",
              "    <tr>\n",
              "      <th>2</th>\n",
              "      <td>644</td>\n",
              "      <td>Spain</td>\n",
              "      <td>Female</td>\n",
              "      <td>31</td>\n",
              "      <td>5.0</td>\n",
              "      <td>86006.30</td>\n",
              "      <td>1</td>\n",
              "      <td>1</td>\n",
              "      <td>1</td>\n",
              "      <td>73922.95</td>\n",
              "      <td>0</td>\n",
              "    </tr>\n",
              "    <tr>\n",
              "      <th>3</th>\n",
              "      <td>657</td>\n",
              "      <td>France</td>\n",
              "      <td>Male</td>\n",
              "      <td>33</td>\n",
              "      <td>1.0</td>\n",
              "      <td>84309.57</td>\n",
              "      <td>2</td>\n",
              "      <td>0</td>\n",
              "      <td>0</td>\n",
              "      <td>103914.40</td>\n",
              "      <td>0</td>\n",
              "    </tr>\n",
              "    <tr>\n",
              "      <th>4</th>\n",
              "      <td>671</td>\n",
              "      <td>France</td>\n",
              "      <td>Male</td>\n",
              "      <td>30</td>\n",
              "      <td>2.0</td>\n",
              "      <td>0.00</td>\n",
              "      <td>1</td>\n",
              "      <td>0</td>\n",
              "      <td>1</td>\n",
              "      <td>102057.86</td>\n",
              "      <td>0</td>\n",
              "    </tr>\n",
              "  </tbody>\n",
              "</table>\n",
              "</div>"
            ],
            "text/plain": [
              "   CreditScore Geography  Gender  ...  IsActiveMember  EstimatedSalary  Exited\n",
              "0          578    France    Male  ...               0         70563.90       0\n",
              "1          564    France  Female  ...               0         63170.00       0\n",
              "2          644     Spain  Female  ...               1         73922.95       0\n",
              "3          657    France    Male  ...               0        103914.40       0\n",
              "4          671    France    Male  ...               1        102057.86       0\n",
              "\n",
              "[5 rows x 11 columns]"
            ]
          },
          "metadata": {},
          "execution_count": 11
        }
      ]
    },
    {
      "cell_type": "code",
      "metadata": {
        "id": "ll4p8W6O6tLQ"
      },
      "source": [
        "x = df.drop(\"Exited\",axis=1)\n",
        "y = df.Exited"
      ],
      "execution_count": 12,
      "outputs": []
    },
    {
      "cell_type": "code",
      "metadata": {
        "colab": {
          "base_uri": "https://localhost:8080/"
        },
        "id": "iE1__UhK60ql",
        "outputId": "83a0f5f8-6545-48f6-c9db-d5db330f3658"
      },
      "source": [
        "x.shape,y.shape"
      ],
      "execution_count": 13,
      "outputs": [
        {
          "output_type": "execute_result",
          "data": {
            "text/plain": [
              "((9000, 10), (9000,))"
            ]
          },
          "metadata": {},
          "execution_count": 13
        }
      ]
    },
    {
      "cell_type": "code",
      "metadata": {
        "colab": {
          "base_uri": "https://localhost:8080/"
        },
        "id": "hXu4nI_J6ECh",
        "outputId": "e96fb035-52c5-4147-97d9-a4397c5acde9"
      },
      "source": [
        "from sklearn.preprocessing import OneHotEncoder,MinMaxScaler\n",
        "from sklearn.compose import ColumnTransformer\n",
        "\n",
        "trans = ColumnTransformer([('ohe',OneHotEncoder(drop='first'),[1,2]),\n",
        "                           ('mm',MinMaxScaler(),[0,3,4,5,6,9])],remainder='passthrough')\n",
        "\n",
        "trans.fit(x)\n",
        "x2 = trans.fit_transform(x)\n",
        "x2.shape"
      ],
      "execution_count": 19,
      "outputs": [
        {
          "output_type": "execute_result",
          "data": {
            "text/plain": [
              "(9000, 11)"
            ]
          },
          "metadata": {},
          "execution_count": 19
        }
      ]
    },
    {
      "cell_type": "code",
      "metadata": {
        "colab": {
          "base_uri": "https://localhost:8080/",
          "height": 112
        },
        "id": "iemrpGoa695n",
        "outputId": "187e5913-271e-4997-e675-c242bf70a224"
      },
      "source": [
        "pd.DataFrame(x2).head(2)"
      ],
      "execution_count": 20,
      "outputs": [
        {
          "output_type": "execute_result",
          "data": {
            "text/html": [
              "<div>\n",
              "<style scoped>\n",
              "    .dataframe tbody tr th:only-of-type {\n",
              "        vertical-align: middle;\n",
              "    }\n",
              "\n",
              "    .dataframe tbody tr th {\n",
              "        vertical-align: top;\n",
              "    }\n",
              "\n",
              "    .dataframe thead th {\n",
              "        text-align: right;\n",
              "    }\n",
              "</style>\n",
              "<table border=\"1\" class=\"dataframe\">\n",
              "  <thead>\n",
              "    <tr style=\"text-align: right;\">\n",
              "      <th></th>\n",
              "      <th>0</th>\n",
              "      <th>1</th>\n",
              "      <th>2</th>\n",
              "      <th>3</th>\n",
              "      <th>4</th>\n",
              "      <th>5</th>\n",
              "      <th>6</th>\n",
              "      <th>7</th>\n",
              "      <th>8</th>\n",
              "      <th>9</th>\n",
              "      <th>10</th>\n",
              "    </tr>\n",
              "  </thead>\n",
              "  <tbody>\n",
              "    <tr>\n",
              "      <th>0</th>\n",
              "      <td>0.0</td>\n",
              "      <td>0.0</td>\n",
              "      <td>1.0</td>\n",
              "      <td>0.456</td>\n",
              "      <td>0.283784</td>\n",
              "      <td>0.2</td>\n",
              "      <td>0.000000</td>\n",
              "      <td>0.333333</td>\n",
              "      <td>0.352795</td>\n",
              "      <td>1.0</td>\n",
              "      <td>0.0</td>\n",
              "    </tr>\n",
              "    <tr>\n",
              "      <th>1</th>\n",
              "      <td>0.0</td>\n",
              "      <td>0.0</td>\n",
              "      <td>0.0</td>\n",
              "      <td>0.428</td>\n",
              "      <td>0.202703</td>\n",
              "      <td>0.4</td>\n",
              "      <td>0.541839</td>\n",
              "      <td>0.000000</td>\n",
              "      <td>0.315822</td>\n",
              "      <td>1.0</td>\n",
              "      <td>0.0</td>\n",
              "    </tr>\n",
              "  </tbody>\n",
              "</table>\n",
              "</div>"
            ],
            "text/plain": [
              "    0    1    2      3         4    5         6         7         8    9    10\n",
              "0  0.0  0.0  1.0  0.456  0.283784  0.2  0.000000  0.333333  0.352795  1.0  0.0\n",
              "1  0.0  0.0  0.0  0.428  0.202703  0.4  0.541839  0.000000  0.315822  1.0  0.0"
            ]
          },
          "metadata": {},
          "execution_count": 20
        }
      ]
    },
    {
      "cell_type": "markdown",
      "metadata": {
        "id": "hUG801AY7Mp7"
      },
      "source": [
        "### Building the Neural Network"
      ]
    },
    {
      "cell_type": "code",
      "metadata": {
        "colab": {
          "base_uri": "https://localhost:8080/"
        },
        "id": "QB9S6yY-7CYo",
        "outputId": "6db3119d-317b-4bd3-80ab-6a24e7a147c1"
      },
      "source": [
        "ip = layers.Input(shape=(11,),name=\"input_layer_bankA\")\n",
        "\n",
        "d1 = layers.Dense(20,activation='relu',name='H1_BankA')(ip)\n",
        "d2 = layers.Dense(20,activation='relu',name='H2_BankA')(d1)\n",
        "d3 = layers.Dense(10,activation='relu',name='H3_BankA')(d2)\n",
        "d4 = layers.Dense(10,activation='relu',name='H4_BankA')(d3)\n",
        "\n",
        "\n",
        "op = layers.Dense(1,activation='sigmoid',name=\"output_layer_bankA\")(d4)\n",
        "\n",
        "model = models.Model(ip,op)\n",
        "model.summary()"
      ],
      "execution_count": 24,
      "outputs": [
        {
          "output_type": "stream",
          "name": "stdout",
          "text": [
            "Model: \"model_2\"\n",
            "_________________________________________________________________\n",
            "Layer (type)                 Output Shape              Param #   \n",
            "=================================================================\n",
            "input_layer_bankA (InputLaye [(None, 11)]              0         \n",
            "_________________________________________________________________\n",
            "H1_BankA (Dense)             (None, 20)                240       \n",
            "_________________________________________________________________\n",
            "H2_BankA (Dense)             (None, 20)                420       \n",
            "_________________________________________________________________\n",
            "H3_BankA (Dense)             (None, 10)                210       \n",
            "_________________________________________________________________\n",
            "H4_BankA (Dense)             (None, 10)                110       \n",
            "_________________________________________________________________\n",
            "output_layer_bankA (Dense)   (None, 1)                 11        \n",
            "=================================================================\n",
            "Total params: 991\n",
            "Trainable params: 991\n",
            "Non-trainable params: 0\n",
            "_________________________________________________________________\n"
          ]
        }
      ]
    },
    {
      "cell_type": "code",
      "metadata": {
        "id": "vbUxKEMl8cok"
      },
      "source": [
        "y =np.array(y,dtype='float64')"
      ],
      "execution_count": 25,
      "outputs": []
    },
    {
      "cell_type": "code",
      "metadata": {
        "colab": {
          "base_uri": "https://localhost:8080/"
        },
        "id": "vlJkQYAg79Lf",
        "outputId": "5962e23e-d3b2-46b9-93e6-587cfcf0e38e"
      },
      "source": [
        "model.compile(loss='binary_crossentropy',optimizer='adam',metrics=['accuracy'])\n",
        "model.fit(x2,y,epochs=50,shuffle=True,validation_split=0.15)"
      ],
      "execution_count": 26,
      "outputs": [
        {
          "output_type": "stream",
          "name": "stdout",
          "text": [
            "Epoch 1/50\n",
            "240/240 [==============================] - 1s 3ms/step - loss: nan - accuracy: 0.7954 - val_loss: nan - val_accuracy: 0.7993\n",
            "Epoch 2/50\n",
            "240/240 [==============================] - 1s 2ms/step - loss: nan - accuracy: 0.7958 - val_loss: nan - val_accuracy: 0.7993\n",
            "Epoch 3/50\n",
            "240/240 [==============================] - 0s 2ms/step - loss: nan - accuracy: 0.7958 - val_loss: nan - val_accuracy: 0.7993\n",
            "Epoch 4/50\n",
            "240/240 [==============================] - 0s 2ms/step - loss: nan - accuracy: 0.7958 - val_loss: nan - val_accuracy: 0.7993\n",
            "Epoch 5/50\n",
            "240/240 [==============================] - 0s 2ms/step - loss: nan - accuracy: 0.7958 - val_loss: nan - val_accuracy: 0.7993\n",
            "Epoch 6/50\n",
            "240/240 [==============================] - 0s 2ms/step - loss: nan - accuracy: 0.7958 - val_loss: nan - val_accuracy: 0.7993\n",
            "Epoch 7/50\n",
            "240/240 [==============================] - 0s 2ms/step - loss: nan - accuracy: 0.7958 - val_loss: nan - val_accuracy: 0.7993\n",
            "Epoch 8/50\n",
            "240/240 [==============================] - 0s 2ms/step - loss: nan - accuracy: 0.7958 - val_loss: nan - val_accuracy: 0.7993\n",
            "Epoch 9/50\n",
            "240/240 [==============================] - 0s 2ms/step - loss: nan - accuracy: 0.7958 - val_loss: nan - val_accuracy: 0.7993\n",
            "Epoch 10/50\n",
            "240/240 [==============================] - 0s 2ms/step - loss: nan - accuracy: 0.7958 - val_loss: nan - val_accuracy: 0.7993\n",
            "Epoch 11/50\n",
            "240/240 [==============================] - 0s 2ms/step - loss: nan - accuracy: 0.7958 - val_loss: nan - val_accuracy: 0.7993\n",
            "Epoch 12/50\n",
            "240/240 [==============================] - 0s 2ms/step - loss: nan - accuracy: 0.7958 - val_loss: nan - val_accuracy: 0.7993\n",
            "Epoch 13/50\n",
            "240/240 [==============================] - 0s 2ms/step - loss: nan - accuracy: 0.7958 - val_loss: nan - val_accuracy: 0.7993\n",
            "Epoch 14/50\n",
            "240/240 [==============================] - 0s 2ms/step - loss: nan - accuracy: 0.7958 - val_loss: nan - val_accuracy: 0.7993\n",
            "Epoch 15/50\n",
            "240/240 [==============================] - 0s 2ms/step - loss: nan - accuracy: 0.7958 - val_loss: nan - val_accuracy: 0.7993\n",
            "Epoch 16/50\n",
            "240/240 [==============================] - 0s 2ms/step - loss: nan - accuracy: 0.7958 - val_loss: nan - val_accuracy: 0.7993\n",
            "Epoch 17/50\n",
            "240/240 [==============================] - 0s 2ms/step - loss: nan - accuracy: 0.7958 - val_loss: nan - val_accuracy: 0.7993\n",
            "Epoch 18/50\n",
            "240/240 [==============================] - 0s 2ms/step - loss: nan - accuracy: 0.7958 - val_loss: nan - val_accuracy: 0.7993\n",
            "Epoch 19/50\n",
            "240/240 [==============================] - 1s 2ms/step - loss: nan - accuracy: 0.7958 - val_loss: nan - val_accuracy: 0.7993\n",
            "Epoch 20/50\n",
            "240/240 [==============================] - 0s 2ms/step - loss: nan - accuracy: 0.7958 - val_loss: nan - val_accuracy: 0.7993\n",
            "Epoch 21/50\n",
            "240/240 [==============================] - 0s 2ms/step - loss: nan - accuracy: 0.7958 - val_loss: nan - val_accuracy: 0.7993\n",
            "Epoch 22/50\n",
            "240/240 [==============================] - 0s 2ms/step - loss: nan - accuracy: 0.7958 - val_loss: nan - val_accuracy: 0.7993\n",
            "Epoch 23/50\n",
            "240/240 [==============================] - 0s 2ms/step - loss: nan - accuracy: 0.7958 - val_loss: nan - val_accuracy: 0.7993\n",
            "Epoch 24/50\n",
            "240/240 [==============================] - 0s 2ms/step - loss: nan - accuracy: 0.7958 - val_loss: nan - val_accuracy: 0.7993\n",
            "Epoch 25/50\n",
            "240/240 [==============================] - 0s 2ms/step - loss: nan - accuracy: 0.7958 - val_loss: nan - val_accuracy: 0.7993\n",
            "Epoch 26/50\n",
            "240/240 [==============================] - 0s 2ms/step - loss: nan - accuracy: 0.7958 - val_loss: nan - val_accuracy: 0.7993\n",
            "Epoch 27/50\n",
            "240/240 [==============================] - 0s 2ms/step - loss: nan - accuracy: 0.7958 - val_loss: nan - val_accuracy: 0.7993\n",
            "Epoch 28/50\n",
            "240/240 [==============================] - 0s 2ms/step - loss: nan - accuracy: 0.7958 - val_loss: nan - val_accuracy: 0.7993\n",
            "Epoch 29/50\n",
            "240/240 [==============================] - 0s 2ms/step - loss: nan - accuracy: 0.7958 - val_loss: nan - val_accuracy: 0.7993\n",
            "Epoch 30/50\n",
            "240/240 [==============================] - 0s 2ms/step - loss: nan - accuracy: 0.7958 - val_loss: nan - val_accuracy: 0.7993\n",
            "Epoch 31/50\n",
            "240/240 [==============================] - 1s 2ms/step - loss: nan - accuracy: 0.7958 - val_loss: nan - val_accuracy: 0.7993\n",
            "Epoch 32/50\n",
            "240/240 [==============================] - 0s 2ms/step - loss: nan - accuracy: 0.7958 - val_loss: nan - val_accuracy: 0.7993\n",
            "Epoch 33/50\n",
            "240/240 [==============================] - 0s 2ms/step - loss: nan - accuracy: 0.7958 - val_loss: nan - val_accuracy: 0.7993\n",
            "Epoch 34/50\n",
            "240/240 [==============================] - 0s 2ms/step - loss: nan - accuracy: 0.7958 - val_loss: nan - val_accuracy: 0.7993\n",
            "Epoch 35/50\n",
            "240/240 [==============================] - 0s 2ms/step - loss: nan - accuracy: 0.7958 - val_loss: nan - val_accuracy: 0.7993\n",
            "Epoch 36/50\n",
            "240/240 [==============================] - 0s 2ms/step - loss: nan - accuracy: 0.7958 - val_loss: nan - val_accuracy: 0.7993\n",
            "Epoch 37/50\n",
            "240/240 [==============================] - 0s 2ms/step - loss: nan - accuracy: 0.7958 - val_loss: nan - val_accuracy: 0.7993\n",
            "Epoch 38/50\n",
            "240/240 [==============================] - 1s 2ms/step - loss: nan - accuracy: 0.7958 - val_loss: nan - val_accuracy: 0.7993\n",
            "Epoch 39/50\n",
            "240/240 [==============================] - 0s 2ms/step - loss: nan - accuracy: 0.7958 - val_loss: nan - val_accuracy: 0.7993\n",
            "Epoch 40/50\n",
            "240/240 [==============================] - 0s 2ms/step - loss: nan - accuracy: 0.7958 - val_loss: nan - val_accuracy: 0.7993\n",
            "Epoch 41/50\n",
            "240/240 [==============================] - 0s 2ms/step - loss: nan - accuracy: 0.7958 - val_loss: nan - val_accuracy: 0.7993\n",
            "Epoch 42/50\n",
            "240/240 [==============================] - 1s 2ms/step - loss: nan - accuracy: 0.7958 - val_loss: nan - val_accuracy: 0.7993\n",
            "Epoch 43/50\n",
            "240/240 [==============================] - 0s 2ms/step - loss: nan - accuracy: 0.7958 - val_loss: nan - val_accuracy: 0.7993\n",
            "Epoch 44/50\n",
            "240/240 [==============================] - 1s 2ms/step - loss: nan - accuracy: 0.7958 - val_loss: nan - val_accuracy: 0.7993\n",
            "Epoch 45/50\n",
            "240/240 [==============================] - 1s 2ms/step - loss: nan - accuracy: 0.7958 - val_loss: nan - val_accuracy: 0.7993\n",
            "Epoch 46/50\n",
            "240/240 [==============================] - 0s 2ms/step - loss: nan - accuracy: 0.7958 - val_loss: nan - val_accuracy: 0.7993\n",
            "Epoch 47/50\n",
            "240/240 [==============================] - 0s 2ms/step - loss: nan - accuracy: 0.7958 - val_loss: nan - val_accuracy: 0.7993\n",
            "Epoch 48/50\n",
            "240/240 [==============================] - 1s 2ms/step - loss: nan - accuracy: 0.7958 - val_loss: nan - val_accuracy: 0.7993\n",
            "Epoch 49/50\n",
            "240/240 [==============================] - 0s 2ms/step - loss: nan - accuracy: 0.7958 - val_loss: nan - val_accuracy: 0.7993\n",
            "Epoch 50/50\n",
            "240/240 [==============================] - 0s 2ms/step - loss: nan - accuracy: 0.7958 - val_loss: nan - val_accuracy: 0.7993\n"
          ]
        },
        {
          "output_type": "execute_result",
          "data": {
            "text/plain": [
              "<keras.callbacks.History at 0x7f88d89d32d0>"
            ]
          },
          "metadata": {},
          "execution_count": 26
        }
      ]
    },
    {
      "cell_type": "code",
      "metadata": {
        "id": "pMz0FM208Psj"
      },
      "source": [
        "model.save(\"model.h5\")"
      ],
      "execution_count": 27,
      "outputs": []
    },
    {
      "cell_type": "code",
      "metadata": {
        "colab": {
          "base_uri": "https://localhost:8080/"
        },
        "id": "CNJ0l6yj9uUU",
        "outputId": "e2391c49-aef6-4fdc-9852-aeabd9d52ff7"
      },
      "source": [
        "import joblib\n",
        "joblib.dump(trans,'preprocessor.pkl')"
      ],
      "execution_count": 28,
      "outputs": [
        {
          "output_type": "execute_result",
          "data": {
            "text/plain": [
              "['preprocessor.pkl']"
            ]
          },
          "metadata": {},
          "execution_count": 28
        }
      ]
    },
    {
      "cell_type": "code",
      "metadata": {
        "id": "t_A0W9DC90b-"
      },
      "source": [
        ""
      ],
      "execution_count": null,
      "outputs": []
    }
  ]
}