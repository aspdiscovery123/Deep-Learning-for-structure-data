{
  "nbformat": 4,
  "nbformat_minor": 0,
  "metadata": {
    "colab": {
      "name": "code14_Transfer_Learning_tabulardata.ipynb",
      "provenance": []
    },
    "kernelspec": {
      "name": "python3",
      "display_name": "Python 3"
    },
    "language_info": {
      "name": "python"
    }
  },
  "cells": [
    {
      "cell_type": "markdown",
      "metadata": {
        "id": "WbVvnDn8HMlL"
      },
      "source": [
        "# Transfer Learning for tabular Data"
      ]
    },
    {
      "cell_type": "code",
      "metadata": {
        "id": "s_sF4lofHGNk"
      },
      "source": [
        "import matplotlib.pyplot as plt\n",
        "import tensorflow as tf\n",
        "import numpy as np\n",
        "import pandas as pd\n",
        "from sklearn.datasets import make_blobs"
      ],
      "execution_count": 1,
      "outputs": []
    },
    {
      "cell_type": "markdown",
      "metadata": {
        "id": "IZEAvks2HlXs"
      },
      "source": [
        "### Data Preparation"
      ]
    },
    {
      "cell_type": "code",
      "metadata": {
        "colab": {
          "base_uri": "https://localhost:8080/"
        },
        "id": "QRfcasxlHc1z",
        "outputId": "909b186f-41ca-4813-aa36-754a789241dd"
      },
      "source": [
        "x,y = make_blobs(n_samples=1000,n_features=2,random_state=5,centers=3,cluster_std=2)\n",
        "x.shape,y.shape"
      ],
      "execution_count": 3,
      "outputs": [
        {
          "output_type": "execute_result",
          "data": {
            "text/plain": [
              "((1000, 2), (1000,))"
            ]
          },
          "metadata": {},
          "execution_count": 3
        }
      ]
    },
    {
      "cell_type": "code",
      "metadata": {
        "colab": {
          "base_uri": "https://localhost:8080/",
          "height": 423
        },
        "id": "vMIrRaNRIBKz",
        "outputId": "e3898543-046e-4eb0-a46f-906ed35a6d99"
      },
      "source": [
        "pd.DataFrame(x)"
      ],
      "execution_count": 4,
      "outputs": [
        {
          "output_type": "execute_result",
          "data": {
            "text/html": [
              "<div>\n",
              "<style scoped>\n",
              "    .dataframe tbody tr th:only-of-type {\n",
              "        vertical-align: middle;\n",
              "    }\n",
              "\n",
              "    .dataframe tbody tr th {\n",
              "        vertical-align: top;\n",
              "    }\n",
              "\n",
              "    .dataframe thead th {\n",
              "        text-align: right;\n",
              "    }\n",
              "</style>\n",
              "<table border=\"1\" class=\"dataframe\">\n",
              "  <thead>\n",
              "    <tr style=\"text-align: right;\">\n",
              "      <th></th>\n",
              "      <th>0</th>\n",
              "      <th>1</th>\n",
              "    </tr>\n",
              "  </thead>\n",
              "  <tbody>\n",
              "    <tr>\n",
              "      <th>0</th>\n",
              "      <td>-0.243873</td>\n",
              "      <td>-0.202686</td>\n",
              "    </tr>\n",
              "    <tr>\n",
              "      <th>1</th>\n",
              "      <td>-4.434212</td>\n",
              "      <td>9.608176</td>\n",
              "    </tr>\n",
              "    <tr>\n",
              "      <th>2</th>\n",
              "      <td>-3.483785</td>\n",
              "      <td>8.106750</td>\n",
              "    </tr>\n",
              "    <tr>\n",
              "      <th>3</th>\n",
              "      <td>-3.742543</td>\n",
              "      <td>5.224560</td>\n",
              "    </tr>\n",
              "    <tr>\n",
              "      <th>4</th>\n",
              "      <td>-7.303895</td>\n",
              "      <td>6.569630</td>\n",
              "    </tr>\n",
              "    <tr>\n",
              "      <th>...</th>\n",
              "      <td>...</td>\n",
              "      <td>...</td>\n",
              "    </tr>\n",
              "    <tr>\n",
              "      <th>995</th>\n",
              "      <td>-9.435048</td>\n",
              "      <td>11.111028</td>\n",
              "    </tr>\n",
              "    <tr>\n",
              "      <th>996</th>\n",
              "      <td>-2.933627</td>\n",
              "      <td>6.038334</td>\n",
              "    </tr>\n",
              "    <tr>\n",
              "      <th>997</th>\n",
              "      <td>-5.797862</td>\n",
              "      <td>6.406333</td>\n",
              "    </tr>\n",
              "    <tr>\n",
              "      <th>998</th>\n",
              "      <td>-8.151636</td>\n",
              "      <td>8.593986</td>\n",
              "    </tr>\n",
              "    <tr>\n",
              "      <th>999</th>\n",
              "      <td>-2.826372</td>\n",
              "      <td>0.609147</td>\n",
              "    </tr>\n",
              "  </tbody>\n",
              "</table>\n",
              "<p>1000 rows × 2 columns</p>\n",
              "</div>"
            ],
            "text/plain": [
              "            0          1\n",
              "0   -0.243873  -0.202686\n",
              "1   -4.434212   9.608176\n",
              "2   -3.483785   8.106750\n",
              "3   -3.742543   5.224560\n",
              "4   -7.303895   6.569630\n",
              "..        ...        ...\n",
              "995 -9.435048  11.111028\n",
              "996 -2.933627   6.038334\n",
              "997 -5.797862   6.406333\n",
              "998 -8.151636   8.593986\n",
              "999 -2.826372   0.609147\n",
              "\n",
              "[1000 rows x 2 columns]"
            ]
          },
          "metadata": {},
          "execution_count": 4
        }
      ]
    },
    {
      "cell_type": "code",
      "metadata": {
        "colab": {
          "base_uri": "https://localhost:8080/"
        },
        "id": "Wd-vH1VuIUV8",
        "outputId": "63da58a7-e63b-42f1-cf99-644461880590"
      },
      "source": [
        "from tensorflow.keras.utils import to_categorical\n",
        "y = to_categorical(y)\n",
        "y.shape"
      ],
      "execution_count": 6,
      "outputs": [
        {
          "output_type": "execute_result",
          "data": {
            "text/plain": [
              "(1000, 3)"
            ]
          },
          "metadata": {},
          "execution_count": 6
        }
      ]
    },
    {
      "cell_type": "code",
      "metadata": {
        "colab": {
          "base_uri": "https://localhost:8080/"
        },
        "id": "sEf2G7L6IduN",
        "outputId": "8b8fc84c-b3a5-48e1-a43e-ccbde4b30cfd"
      },
      "source": [
        "from sklearn.model_selection import train_test_split\n",
        "xtr,xts,ytr,yts = train_test_split(x,y,test_size=0.2,random_state=5)\n",
        "print(xtr.shape,xts.shape,ytr.shape,yts.shape)"
      ],
      "execution_count": 7,
      "outputs": [
        {
          "output_type": "stream",
          "name": "stdout",
          "text": [
            "(800, 2) (200, 2) (800, 3) (200, 3)\n"
          ]
        }
      ]
    },
    {
      "cell_type": "markdown",
      "metadata": {
        "id": "iStl48wVI27l"
      },
      "source": [
        "## Modelling the network"
      ]
    },
    {
      "cell_type": "code",
      "metadata": {
        "id": "E2tQJGw5ItKr"
      },
      "source": [
        "from tensorflow.keras import models,layers"
      ],
      "execution_count": 8,
      "outputs": []
    },
    {
      "cell_type": "code",
      "metadata": {
        "colab": {
          "base_uri": "https://localhost:8080/"
        },
        "id": "MvFOAxIPI7Kn",
        "outputId": "6823a458-34fe-4c33-d924-c9e7053afee6"
      },
      "source": [
        "ip = layers.Input(shape=(2,))\n",
        "d1 = layers.Dense(10,activation='relu')(ip)\n",
        "d2 = layers.Dense(8,activation='relu')(d1)\n",
        "\n",
        "op = layers.Dense(3,activation='softmax')(d2)\n",
        "\n",
        "model = models.Model(inputs=ip,outputs=op)\n",
        "model.compile(loss='categorical_crossentropy',optimizer='adam',metrics=['accuracy'])\n",
        "model.fit(xtr,ytr,epochs=100,validation_data=(xts,yts))"
      ],
      "execution_count": 12,
      "outputs": [
        {
          "output_type": "stream",
          "name": "stdout",
          "text": [
            "Epoch 1/100\n",
            "25/25 [==============================] - 1s 7ms/step - loss: 1.0919 - accuracy: 0.4462 - val_loss: 1.0541 - val_accuracy: 0.4150\n",
            "Epoch 2/100\n",
            "25/25 [==============================] - 0s 2ms/step - loss: 0.9615 - accuracy: 0.4975 - val_loss: 0.9650 - val_accuracy: 0.4600\n",
            "Epoch 3/100\n",
            "25/25 [==============================] - 0s 3ms/step - loss: 0.8892 - accuracy: 0.5300 - val_loss: 0.9071 - val_accuracy: 0.5350\n",
            "Epoch 4/100\n",
            "25/25 [==============================] - 0s 3ms/step - loss: 0.8376 - accuracy: 0.5675 - val_loss: 0.8583 - val_accuracy: 0.5550\n",
            "Epoch 5/100\n",
            "25/25 [==============================] - 0s 3ms/step - loss: 0.7981 - accuracy: 0.5913 - val_loss: 0.8234 - val_accuracy: 0.5750\n",
            "Epoch 6/100\n",
            "25/25 [==============================] - 0s 3ms/step - loss: 0.7693 - accuracy: 0.6062 - val_loss: 0.7933 - val_accuracy: 0.5900\n",
            "Epoch 7/100\n",
            "25/25 [==============================] - 0s 2ms/step - loss: 0.7435 - accuracy: 0.6087 - val_loss: 0.7750 - val_accuracy: 0.5850\n",
            "Epoch 8/100\n",
            "25/25 [==============================] - 0s 3ms/step - loss: 0.7228 - accuracy: 0.6162 - val_loss: 0.7569 - val_accuracy: 0.6000\n",
            "Epoch 9/100\n",
            "25/25 [==============================] - 0s 3ms/step - loss: 0.7047 - accuracy: 0.6225 - val_loss: 0.7444 - val_accuracy: 0.6000\n",
            "Epoch 10/100\n",
            "25/25 [==============================] - 0s 3ms/step - loss: 0.6902 - accuracy: 0.6275 - val_loss: 0.7282 - val_accuracy: 0.6400\n",
            "Epoch 11/100\n",
            "25/25 [==============================] - 0s 2ms/step - loss: 0.6778 - accuracy: 0.6413 - val_loss: 0.7194 - val_accuracy: 0.6300\n",
            "Epoch 12/100\n",
            "25/25 [==============================] - 0s 3ms/step - loss: 0.6692 - accuracy: 0.6400 - val_loss: 0.7054 - val_accuracy: 0.6450\n",
            "Epoch 13/100\n",
            "25/25 [==============================] - 0s 3ms/step - loss: 0.6601 - accuracy: 0.6525 - val_loss: 0.6955 - val_accuracy: 0.6550\n",
            "Epoch 14/100\n",
            "25/25 [==============================] - 0s 3ms/step - loss: 0.6498 - accuracy: 0.6612 - val_loss: 0.6864 - val_accuracy: 0.6550\n",
            "Epoch 15/100\n",
            "25/25 [==============================] - 0s 3ms/step - loss: 0.6420 - accuracy: 0.6662 - val_loss: 0.6797 - val_accuracy: 0.6500\n",
            "Epoch 16/100\n",
            "25/25 [==============================] - 0s 2ms/step - loss: 0.6368 - accuracy: 0.6650 - val_loss: 0.6700 - val_accuracy: 0.6600\n",
            "Epoch 17/100\n",
            "25/25 [==============================] - 0s 2ms/step - loss: 0.6311 - accuracy: 0.6562 - val_loss: 0.6637 - val_accuracy: 0.6550\n",
            "Epoch 18/100\n",
            "25/25 [==============================] - 0s 2ms/step - loss: 0.6241 - accuracy: 0.6587 - val_loss: 0.6548 - val_accuracy: 0.6600\n",
            "Epoch 19/100\n",
            "25/25 [==============================] - 0s 3ms/step - loss: 0.6191 - accuracy: 0.6800 - val_loss: 0.6487 - val_accuracy: 0.6700\n",
            "Epoch 20/100\n",
            "25/25 [==============================] - 0s 3ms/step - loss: 0.6119 - accuracy: 0.6812 - val_loss: 0.6422 - val_accuracy: 0.6700\n",
            "Epoch 21/100\n",
            "25/25 [==============================] - 0s 2ms/step - loss: 0.6068 - accuracy: 0.6850 - val_loss: 0.6359 - val_accuracy: 0.6750\n",
            "Epoch 22/100\n",
            "25/25 [==============================] - 0s 3ms/step - loss: 0.6028 - accuracy: 0.6725 - val_loss: 0.6320 - val_accuracy: 0.6700\n",
            "Epoch 23/100\n",
            "25/25 [==============================] - 0s 3ms/step - loss: 0.5972 - accuracy: 0.6825 - val_loss: 0.6248 - val_accuracy: 0.6850\n",
            "Epoch 24/100\n",
            "25/25 [==============================] - 0s 3ms/step - loss: 0.5942 - accuracy: 0.6875 - val_loss: 0.6189 - val_accuracy: 0.6800\n",
            "Epoch 25/100\n",
            "25/25 [==============================] - 0s 2ms/step - loss: 0.5897 - accuracy: 0.6875 - val_loss: 0.6146 - val_accuracy: 0.6850\n",
            "Epoch 26/100\n",
            "25/25 [==============================] - 0s 3ms/step - loss: 0.5854 - accuracy: 0.6737 - val_loss: 0.6071 - val_accuracy: 0.7000\n",
            "Epoch 27/100\n",
            "25/25 [==============================] - 0s 2ms/step - loss: 0.5825 - accuracy: 0.6862 - val_loss: 0.6036 - val_accuracy: 0.6950\n",
            "Epoch 28/100\n",
            "25/25 [==============================] - 0s 2ms/step - loss: 0.5795 - accuracy: 0.6913 - val_loss: 0.6020 - val_accuracy: 0.6800\n",
            "Epoch 29/100\n",
            "25/25 [==============================] - 0s 3ms/step - loss: 0.5753 - accuracy: 0.6750 - val_loss: 0.5960 - val_accuracy: 0.6850\n",
            "Epoch 30/100\n",
            "25/25 [==============================] - 0s 3ms/step - loss: 0.5738 - accuracy: 0.6938 - val_loss: 0.5966 - val_accuracy: 0.6900\n",
            "Epoch 31/100\n",
            "25/25 [==============================] - 0s 2ms/step - loss: 0.5699 - accuracy: 0.6837 - val_loss: 0.5861 - val_accuracy: 0.7000\n",
            "Epoch 32/100\n",
            "25/25 [==============================] - 0s 2ms/step - loss: 0.5692 - accuracy: 0.6913 - val_loss: 0.5807 - val_accuracy: 0.7200\n",
            "Epoch 33/100\n",
            "25/25 [==============================] - 0s 3ms/step - loss: 0.5657 - accuracy: 0.6825 - val_loss: 0.5777 - val_accuracy: 0.7050\n",
            "Epoch 34/100\n",
            "25/25 [==============================] - 0s 3ms/step - loss: 0.5615 - accuracy: 0.6925 - val_loss: 0.5753 - val_accuracy: 0.7100\n",
            "Epoch 35/100\n",
            "25/25 [==============================] - 0s 3ms/step - loss: 0.5582 - accuracy: 0.6850 - val_loss: 0.5727 - val_accuracy: 0.6900\n",
            "Epoch 36/100\n",
            "25/25 [==============================] - 0s 2ms/step - loss: 0.5558 - accuracy: 0.7025 - val_loss: 0.5681 - val_accuracy: 0.7150\n",
            "Epoch 37/100\n",
            "25/25 [==============================] - 0s 3ms/step - loss: 0.5521 - accuracy: 0.6925 - val_loss: 0.5651 - val_accuracy: 0.7050\n",
            "Epoch 38/100\n",
            "25/25 [==============================] - 0s 2ms/step - loss: 0.5507 - accuracy: 0.7038 - val_loss: 0.5635 - val_accuracy: 0.7000\n",
            "Epoch 39/100\n",
            "25/25 [==============================] - 0s 3ms/step - loss: 0.5486 - accuracy: 0.6950 - val_loss: 0.5600 - val_accuracy: 0.7100\n",
            "Epoch 40/100\n",
            "25/25 [==============================] - 0s 3ms/step - loss: 0.5464 - accuracy: 0.7000 - val_loss: 0.5573 - val_accuracy: 0.7000\n",
            "Epoch 41/100\n",
            "25/25 [==============================] - 0s 2ms/step - loss: 0.5446 - accuracy: 0.6988 - val_loss: 0.5552 - val_accuracy: 0.7150\n",
            "Epoch 42/100\n",
            "25/25 [==============================] - 0s 2ms/step - loss: 0.5417 - accuracy: 0.7038 - val_loss: 0.5536 - val_accuracy: 0.7150\n",
            "Epoch 43/100\n",
            "25/25 [==============================] - 0s 3ms/step - loss: 0.5405 - accuracy: 0.7038 - val_loss: 0.5479 - val_accuracy: 0.7200\n",
            "Epoch 44/100\n",
            "25/25 [==============================] - 0s 2ms/step - loss: 0.5396 - accuracy: 0.7000 - val_loss: 0.5478 - val_accuracy: 0.7350\n",
            "Epoch 45/100\n",
            "25/25 [==============================] - 0s 3ms/step - loss: 0.5379 - accuracy: 0.6950 - val_loss: 0.5428 - val_accuracy: 0.7350\n",
            "Epoch 46/100\n",
            "25/25 [==============================] - 0s 3ms/step - loss: 0.5355 - accuracy: 0.7075 - val_loss: 0.5428 - val_accuracy: 0.7250\n",
            "Epoch 47/100\n",
            "25/25 [==============================] - 0s 3ms/step - loss: 0.5373 - accuracy: 0.6963 - val_loss: 0.5408 - val_accuracy: 0.7200\n",
            "Epoch 48/100\n",
            "25/25 [==============================] - 0s 2ms/step - loss: 0.5328 - accuracy: 0.6988 - val_loss: 0.5418 - val_accuracy: 0.7200\n",
            "Epoch 49/100\n",
            "25/25 [==============================] - 0s 2ms/step - loss: 0.5320 - accuracy: 0.7150 - val_loss: 0.5387 - val_accuracy: 0.7300\n",
            "Epoch 50/100\n",
            "25/25 [==============================] - 0s 3ms/step - loss: 0.5303 - accuracy: 0.6963 - val_loss: 0.5380 - val_accuracy: 0.7250\n",
            "Epoch 51/100\n",
            "25/25 [==============================] - 0s 2ms/step - loss: 0.5290 - accuracy: 0.7088 - val_loss: 0.5348 - val_accuracy: 0.7250\n",
            "Epoch 52/100\n",
            "25/25 [==============================] - 0s 3ms/step - loss: 0.5287 - accuracy: 0.7113 - val_loss: 0.5311 - val_accuracy: 0.7450\n",
            "Epoch 53/100\n",
            "25/25 [==============================] - 0s 2ms/step - loss: 0.5273 - accuracy: 0.6988 - val_loss: 0.5321 - val_accuracy: 0.7450\n",
            "Epoch 54/100\n",
            "25/25 [==============================] - 0s 2ms/step - loss: 0.5252 - accuracy: 0.7237 - val_loss: 0.5338 - val_accuracy: 0.7400\n",
            "Epoch 55/100\n",
            "25/25 [==============================] - 0s 3ms/step - loss: 0.5284 - accuracy: 0.6762 - val_loss: 0.5303 - val_accuracy: 0.7100\n",
            "Epoch 56/100\n",
            "25/25 [==============================] - 0s 2ms/step - loss: 0.5263 - accuracy: 0.6975 - val_loss: 0.5303 - val_accuracy: 0.7350\n",
            "Epoch 57/100\n",
            "25/25 [==============================] - 0s 2ms/step - loss: 0.5230 - accuracy: 0.7125 - val_loss: 0.5290 - val_accuracy: 0.7450\n",
            "Epoch 58/100\n",
            "25/25 [==============================] - 0s 3ms/step - loss: 0.5222 - accuracy: 0.7000 - val_loss: 0.5289 - val_accuracy: 0.7300\n",
            "Epoch 59/100\n",
            "25/25 [==============================] - 0s 3ms/step - loss: 0.5209 - accuracy: 0.6938 - val_loss: 0.5277 - val_accuracy: 0.7450\n",
            "Epoch 60/100\n",
            "25/25 [==============================] - 0s 2ms/step - loss: 0.5209 - accuracy: 0.7113 - val_loss: 0.5280 - val_accuracy: 0.7350\n",
            "Epoch 61/100\n",
            "25/25 [==============================] - 0s 2ms/step - loss: 0.5196 - accuracy: 0.7125 - val_loss: 0.5282 - val_accuracy: 0.7400\n",
            "Epoch 62/100\n",
            "25/25 [==============================] - 0s 3ms/step - loss: 0.5194 - accuracy: 0.6988 - val_loss: 0.5253 - val_accuracy: 0.7400\n",
            "Epoch 63/100\n",
            "25/25 [==============================] - 0s 2ms/step - loss: 0.5210 - accuracy: 0.7163 - val_loss: 0.5239 - val_accuracy: 0.7350\n",
            "Epoch 64/100\n",
            "25/25 [==============================] - 0s 2ms/step - loss: 0.5214 - accuracy: 0.7212 - val_loss: 0.5294 - val_accuracy: 0.7250\n",
            "Epoch 65/100\n",
            "25/25 [==============================] - 0s 2ms/step - loss: 0.5202 - accuracy: 0.6938 - val_loss: 0.5271 - val_accuracy: 0.7200\n",
            "Epoch 66/100\n",
            "25/25 [==============================] - 0s 2ms/step - loss: 0.5204 - accuracy: 0.6888 - val_loss: 0.5219 - val_accuracy: 0.7550\n",
            "Epoch 67/100\n",
            "25/25 [==============================] - 0s 2ms/step - loss: 0.5149 - accuracy: 0.7225 - val_loss: 0.5194 - val_accuracy: 0.7400\n",
            "Epoch 68/100\n",
            "25/25 [==============================] - 0s 3ms/step - loss: 0.5154 - accuracy: 0.6975 - val_loss: 0.5204 - val_accuracy: 0.7350\n",
            "Epoch 69/100\n",
            "25/25 [==============================] - 0s 2ms/step - loss: 0.5143 - accuracy: 0.7225 - val_loss: 0.5222 - val_accuracy: 0.7450\n",
            "Epoch 70/100\n",
            "25/25 [==============================] - 0s 3ms/step - loss: 0.5163 - accuracy: 0.6963 - val_loss: 0.5191 - val_accuracy: 0.7550\n",
            "Epoch 71/100\n",
            "25/25 [==============================] - 0s 2ms/step - loss: 0.5142 - accuracy: 0.6975 - val_loss: 0.5243 - val_accuracy: 0.7400\n",
            "Epoch 72/100\n",
            "25/25 [==============================] - 0s 2ms/step - loss: 0.5135 - accuracy: 0.7175 - val_loss: 0.5256 - val_accuracy: 0.7200\n",
            "Epoch 73/100\n",
            "25/25 [==============================] - 0s 3ms/step - loss: 0.5174 - accuracy: 0.7000 - val_loss: 0.5191 - val_accuracy: 0.7450\n",
            "Epoch 74/100\n",
            "25/25 [==============================] - 0s 3ms/step - loss: 0.5114 - accuracy: 0.7113 - val_loss: 0.5207 - val_accuracy: 0.7400\n",
            "Epoch 75/100\n",
            "25/25 [==============================] - 0s 3ms/step - loss: 0.5126 - accuracy: 0.7050 - val_loss: 0.5195 - val_accuracy: 0.7500\n",
            "Epoch 76/100\n",
            "25/25 [==============================] - 0s 3ms/step - loss: 0.5137 - accuracy: 0.7063 - val_loss: 0.5212 - val_accuracy: 0.7250\n",
            "Epoch 77/100\n",
            "25/25 [==============================] - 0s 2ms/step - loss: 0.5113 - accuracy: 0.7063 - val_loss: 0.5179 - val_accuracy: 0.7400\n",
            "Epoch 78/100\n",
            "25/25 [==============================] - 0s 2ms/step - loss: 0.5133 - accuracy: 0.7075 - val_loss: 0.5149 - val_accuracy: 0.7400\n",
            "Epoch 79/100\n",
            "25/25 [==============================] - 0s 2ms/step - loss: 0.5145 - accuracy: 0.7013 - val_loss: 0.5156 - val_accuracy: 0.7550\n",
            "Epoch 80/100\n",
            "25/25 [==============================] - 0s 3ms/step - loss: 0.5119 - accuracy: 0.7163 - val_loss: 0.5166 - val_accuracy: 0.7500\n",
            "Epoch 81/100\n",
            "25/25 [==============================] - 0s 3ms/step - loss: 0.5106 - accuracy: 0.7100 - val_loss: 0.5202 - val_accuracy: 0.7600\n",
            "Epoch 82/100\n",
            "25/25 [==============================] - 0s 3ms/step - loss: 0.5090 - accuracy: 0.7063 - val_loss: 0.5149 - val_accuracy: 0.7500\n",
            "Epoch 83/100\n",
            "25/25 [==============================] - 0s 2ms/step - loss: 0.5101 - accuracy: 0.7100 - val_loss: 0.5139 - val_accuracy: 0.7600\n",
            "Epoch 84/100\n",
            "25/25 [==============================] - 0s 2ms/step - loss: 0.5098 - accuracy: 0.7212 - val_loss: 0.5145 - val_accuracy: 0.7550\n",
            "Epoch 85/100\n",
            "25/25 [==============================] - 0s 2ms/step - loss: 0.5118 - accuracy: 0.7175 - val_loss: 0.5184 - val_accuracy: 0.7300\n",
            "Epoch 86/100\n",
            "25/25 [==============================] - 0s 2ms/step - loss: 0.5085 - accuracy: 0.7075 - val_loss: 0.5179 - val_accuracy: 0.7400\n",
            "Epoch 87/100\n",
            "25/25 [==============================] - 0s 2ms/step - loss: 0.5102 - accuracy: 0.7163 - val_loss: 0.5179 - val_accuracy: 0.7550\n",
            "Epoch 88/100\n",
            "25/25 [==============================] - 0s 2ms/step - loss: 0.5089 - accuracy: 0.7025 - val_loss: 0.5185 - val_accuracy: 0.7450\n",
            "Epoch 89/100\n",
            "25/25 [==============================] - 0s 2ms/step - loss: 0.5105 - accuracy: 0.6975 - val_loss: 0.5119 - val_accuracy: 0.7550\n",
            "Epoch 90/100\n",
            "25/25 [==============================] - 0s 3ms/step - loss: 0.5082 - accuracy: 0.7050 - val_loss: 0.5166 - val_accuracy: 0.7500\n",
            "Epoch 91/100\n",
            "25/25 [==============================] - 0s 2ms/step - loss: 0.5085 - accuracy: 0.7163 - val_loss: 0.5148 - val_accuracy: 0.7550\n",
            "Epoch 92/100\n",
            "25/25 [==============================] - 0s 2ms/step - loss: 0.5091 - accuracy: 0.7013 - val_loss: 0.5198 - val_accuracy: 0.7550\n",
            "Epoch 93/100\n",
            "25/25 [==============================] - 0s 3ms/step - loss: 0.5091 - accuracy: 0.7287 - val_loss: 0.5125 - val_accuracy: 0.7600\n",
            "Epoch 94/100\n",
            "25/25 [==============================] - 0s 2ms/step - loss: 0.5086 - accuracy: 0.7125 - val_loss: 0.5179 - val_accuracy: 0.7550\n",
            "Epoch 95/100\n",
            "25/25 [==============================] - 0s 3ms/step - loss: 0.5085 - accuracy: 0.6950 - val_loss: 0.5133 - val_accuracy: 0.7600\n",
            "Epoch 96/100\n",
            "25/25 [==============================] - 0s 2ms/step - loss: 0.5103 - accuracy: 0.7113 - val_loss: 0.5143 - val_accuracy: 0.7600\n",
            "Epoch 97/100\n",
            "25/25 [==============================] - 0s 3ms/step - loss: 0.5088 - accuracy: 0.7250 - val_loss: 0.5226 - val_accuracy: 0.7250\n",
            "Epoch 98/100\n",
            "25/25 [==============================] - 0s 3ms/step - loss: 0.5066 - accuracy: 0.7038 - val_loss: 0.5110 - val_accuracy: 0.7550\n",
            "Epoch 99/100\n",
            "25/25 [==============================] - 0s 3ms/step - loss: 0.5073 - accuracy: 0.7125 - val_loss: 0.5175 - val_accuracy: 0.7600\n",
            "Epoch 100/100\n",
            "25/25 [==============================] - 0s 3ms/step - loss: 0.5095 - accuracy: 0.7200 - val_loss: 0.5180 - val_accuracy: 0.7550\n"
          ]
        },
        {
          "output_type": "execute_result",
          "data": {
            "text/plain": [
              "<keras.callbacks.History at 0x7fb7f98c0d90>"
            ]
          },
          "metadata": {},
          "execution_count": 12
        }
      ]
    },
    {
      "cell_type": "code",
      "metadata": {
        "colab": {
          "base_uri": "https://localhost:8080/"
        },
        "id": "30VuiqjxJlTT",
        "outputId": "fc4007b3-cb2b-4984-ce0f-43a65b4aec27"
      },
      "source": [
        "model.fit(xtr,ytr,epochs=100,validation_data=(xts,yts))"
      ],
      "execution_count": 13,
      "outputs": [
        {
          "output_type": "stream",
          "name": "stdout",
          "text": [
            "Epoch 1/100\n",
            "25/25 [==============================] - 0s 4ms/step - loss: 0.5094 - accuracy: 0.7088 - val_loss: 0.5170 - val_accuracy: 0.7500\n",
            "Epoch 2/100\n",
            "25/25 [==============================] - 0s 2ms/step - loss: 0.5081 - accuracy: 0.6950 - val_loss: 0.5108 - val_accuracy: 0.7600\n",
            "Epoch 3/100\n",
            "25/25 [==============================] - 0s 2ms/step - loss: 0.5111 - accuracy: 0.7200 - val_loss: 0.5195 - val_accuracy: 0.7200\n",
            "Epoch 4/100\n",
            "25/25 [==============================] - 0s 3ms/step - loss: 0.5074 - accuracy: 0.7125 - val_loss: 0.5161 - val_accuracy: 0.7550\n",
            "Epoch 5/100\n",
            "25/25 [==============================] - 0s 3ms/step - loss: 0.5065 - accuracy: 0.7212 - val_loss: 0.5146 - val_accuracy: 0.7600\n",
            "Epoch 6/100\n",
            "25/25 [==============================] - 0s 3ms/step - loss: 0.5072 - accuracy: 0.7025 - val_loss: 0.5137 - val_accuracy: 0.7600\n",
            "Epoch 7/100\n",
            "25/25 [==============================] - 0s 3ms/step - loss: 0.5060 - accuracy: 0.7075 - val_loss: 0.5139 - val_accuracy: 0.7550\n",
            "Epoch 8/100\n",
            "25/25 [==============================] - 0s 3ms/step - loss: 0.5069 - accuracy: 0.7175 - val_loss: 0.5128 - val_accuracy: 0.7550\n",
            "Epoch 9/100\n",
            "25/25 [==============================] - 0s 2ms/step - loss: 0.5067 - accuracy: 0.7013 - val_loss: 0.5160 - val_accuracy: 0.7550\n",
            "Epoch 10/100\n",
            "25/25 [==============================] - 0s 2ms/step - loss: 0.5087 - accuracy: 0.7175 - val_loss: 0.5164 - val_accuracy: 0.7600\n",
            "Epoch 11/100\n",
            "25/25 [==============================] - 0s 3ms/step - loss: 0.5054 - accuracy: 0.7150 - val_loss: 0.5118 - val_accuracy: 0.7600\n",
            "Epoch 12/100\n",
            "25/25 [==============================] - 0s 2ms/step - loss: 0.5088 - accuracy: 0.7050 - val_loss: 0.5155 - val_accuracy: 0.7500\n",
            "Epoch 13/100\n",
            "25/25 [==============================] - 0s 2ms/step - loss: 0.5070 - accuracy: 0.7138 - val_loss: 0.5250 - val_accuracy: 0.7100\n",
            "Epoch 14/100\n",
            "25/25 [==============================] - 0s 3ms/step - loss: 0.5064 - accuracy: 0.7113 - val_loss: 0.5143 - val_accuracy: 0.7450\n",
            "Epoch 15/100\n",
            "25/25 [==============================] - 0s 3ms/step - loss: 0.5065 - accuracy: 0.7163 - val_loss: 0.5131 - val_accuracy: 0.7550\n",
            "Epoch 16/100\n",
            "25/25 [==============================] - 0s 2ms/step - loss: 0.5060 - accuracy: 0.7038 - val_loss: 0.5130 - val_accuracy: 0.7600\n",
            "Epoch 17/100\n",
            "25/25 [==============================] - 0s 2ms/step - loss: 0.5061 - accuracy: 0.7375 - val_loss: 0.5144 - val_accuracy: 0.7650\n",
            "Epoch 18/100\n",
            "25/25 [==============================] - 0s 2ms/step - loss: 0.5061 - accuracy: 0.7100 - val_loss: 0.5102 - val_accuracy: 0.7550\n",
            "Epoch 19/100\n",
            "25/25 [==============================] - 0s 2ms/step - loss: 0.5062 - accuracy: 0.7175 - val_loss: 0.5215 - val_accuracy: 0.7600\n",
            "Epoch 20/100\n",
            "25/25 [==============================] - 0s 3ms/step - loss: 0.5068 - accuracy: 0.7038 - val_loss: 0.5145 - val_accuracy: 0.7650\n",
            "Epoch 21/100\n",
            "25/25 [==============================] - 0s 3ms/step - loss: 0.5096 - accuracy: 0.6925 - val_loss: 0.5121 - val_accuracy: 0.7650\n",
            "Epoch 22/100\n",
            "25/25 [==============================] - 0s 3ms/step - loss: 0.5090 - accuracy: 0.7175 - val_loss: 0.5186 - val_accuracy: 0.7300\n",
            "Epoch 23/100\n",
            "25/25 [==============================] - 0s 3ms/step - loss: 0.5072 - accuracy: 0.7150 - val_loss: 0.5100 - val_accuracy: 0.7650\n",
            "Epoch 24/100\n",
            "25/25 [==============================] - 0s 2ms/step - loss: 0.5043 - accuracy: 0.7188 - val_loss: 0.5156 - val_accuracy: 0.7600\n",
            "Epoch 25/100\n",
            "25/25 [==============================] - 0s 2ms/step - loss: 0.5047 - accuracy: 0.7038 - val_loss: 0.5126 - val_accuracy: 0.7600\n",
            "Epoch 26/100\n",
            "25/25 [==============================] - 0s 2ms/step - loss: 0.5054 - accuracy: 0.7225 - val_loss: 0.5152 - val_accuracy: 0.7600\n",
            "Epoch 27/100\n",
            "25/25 [==============================] - 0s 2ms/step - loss: 0.5059 - accuracy: 0.7000 - val_loss: 0.5098 - val_accuracy: 0.7550\n",
            "Epoch 28/100\n",
            "25/25 [==============================] - 0s 2ms/step - loss: 0.5088 - accuracy: 0.7100 - val_loss: 0.5155 - val_accuracy: 0.7600\n",
            "Epoch 29/100\n",
            "25/25 [==============================] - 0s 3ms/step - loss: 0.5091 - accuracy: 0.7188 - val_loss: 0.5147 - val_accuracy: 0.7600\n",
            "Epoch 30/100\n",
            "25/25 [==============================] - 0s 2ms/step - loss: 0.5049 - accuracy: 0.7113 - val_loss: 0.5121 - val_accuracy: 0.7600\n",
            "Epoch 31/100\n",
            "25/25 [==============================] - 0s 3ms/step - loss: 0.5072 - accuracy: 0.7113 - val_loss: 0.5154 - val_accuracy: 0.7550\n",
            "Epoch 32/100\n",
            "25/25 [==============================] - 0s 2ms/step - loss: 0.5077 - accuracy: 0.7000 - val_loss: 0.5164 - val_accuracy: 0.7600\n",
            "Epoch 33/100\n",
            "25/25 [==============================] - 0s 3ms/step - loss: 0.5057 - accuracy: 0.7212 - val_loss: 0.5140 - val_accuracy: 0.7650\n",
            "Epoch 34/100\n",
            "25/25 [==============================] - 0s 2ms/step - loss: 0.5063 - accuracy: 0.7050 - val_loss: 0.5159 - val_accuracy: 0.7650\n",
            "Epoch 35/100\n",
            "25/25 [==============================] - 0s 3ms/step - loss: 0.5057 - accuracy: 0.7088 - val_loss: 0.5127 - val_accuracy: 0.7600\n",
            "Epoch 36/100\n",
            "25/25 [==============================] - 0s 3ms/step - loss: 0.5042 - accuracy: 0.7088 - val_loss: 0.5141 - val_accuracy: 0.7550\n",
            "Epoch 37/100\n",
            "25/25 [==============================] - 0s 3ms/step - loss: 0.5069 - accuracy: 0.7200 - val_loss: 0.5109 - val_accuracy: 0.7500\n",
            "Epoch 38/100\n",
            "25/25 [==============================] - 0s 2ms/step - loss: 0.5061 - accuracy: 0.7063 - val_loss: 0.5213 - val_accuracy: 0.7600\n",
            "Epoch 39/100\n",
            "25/25 [==============================] - 0s 3ms/step - loss: 0.5041 - accuracy: 0.7088 - val_loss: 0.5077 - val_accuracy: 0.7650\n",
            "Epoch 40/100\n",
            "25/25 [==============================] - 0s 3ms/step - loss: 0.5047 - accuracy: 0.7225 - val_loss: 0.5177 - val_accuracy: 0.7600\n",
            "Epoch 41/100\n",
            "25/25 [==============================] - 0s 2ms/step - loss: 0.5060 - accuracy: 0.7075 - val_loss: 0.5163 - val_accuracy: 0.7550\n",
            "Epoch 42/100\n",
            "25/25 [==============================] - 0s 3ms/step - loss: 0.5043 - accuracy: 0.7100 - val_loss: 0.5132 - val_accuracy: 0.7500\n",
            "Epoch 43/100\n",
            "25/25 [==============================] - 0s 2ms/step - loss: 0.5075 - accuracy: 0.7387 - val_loss: 0.5180 - val_accuracy: 0.7600\n",
            "Epoch 44/100\n",
            "25/25 [==============================] - 0s 2ms/step - loss: 0.5049 - accuracy: 0.7100 - val_loss: 0.5166 - val_accuracy: 0.7550\n",
            "Epoch 45/100\n",
            "25/25 [==============================] - 0s 2ms/step - loss: 0.5048 - accuracy: 0.7212 - val_loss: 0.5173 - val_accuracy: 0.7600\n",
            "Epoch 46/100\n",
            "25/25 [==============================] - 0s 3ms/step - loss: 0.5054 - accuracy: 0.7075 - val_loss: 0.5178 - val_accuracy: 0.7650\n",
            "Epoch 47/100\n",
            "25/25 [==============================] - 0s 2ms/step - loss: 0.5052 - accuracy: 0.7212 - val_loss: 0.5166 - val_accuracy: 0.7600\n",
            "Epoch 48/100\n",
            "25/25 [==============================] - 0s 2ms/step - loss: 0.5062 - accuracy: 0.7050 - val_loss: 0.5112 - val_accuracy: 0.7600\n",
            "Epoch 49/100\n",
            "25/25 [==============================] - 0s 2ms/step - loss: 0.5055 - accuracy: 0.7287 - val_loss: 0.5222 - val_accuracy: 0.7200\n",
            "Epoch 50/100\n",
            "25/25 [==============================] - 0s 3ms/step - loss: 0.5068 - accuracy: 0.7013 - val_loss: 0.5126 - val_accuracy: 0.7650\n",
            "Epoch 51/100\n",
            "25/25 [==============================] - 0s 2ms/step - loss: 0.5052 - accuracy: 0.7275 - val_loss: 0.5153 - val_accuracy: 0.7550\n",
            "Epoch 52/100\n",
            "25/25 [==============================] - 0s 2ms/step - loss: 0.5042 - accuracy: 0.7150 - val_loss: 0.5175 - val_accuracy: 0.7200\n",
            "Epoch 53/100\n",
            "25/25 [==============================] - 0s 3ms/step - loss: 0.5053 - accuracy: 0.6975 - val_loss: 0.5193 - val_accuracy: 0.7600\n",
            "Epoch 54/100\n",
            "25/25 [==============================] - 0s 2ms/step - loss: 0.5055 - accuracy: 0.7250 - val_loss: 0.5152 - val_accuracy: 0.7600\n",
            "Epoch 55/100\n",
            "25/25 [==============================] - 0s 2ms/step - loss: 0.5053 - accuracy: 0.7138 - val_loss: 0.5173 - val_accuracy: 0.7650\n",
            "Epoch 56/100\n",
            "25/25 [==============================] - 0s 3ms/step - loss: 0.5043 - accuracy: 0.7075 - val_loss: 0.5174 - val_accuracy: 0.7500\n",
            "Epoch 57/100\n",
            "25/25 [==============================] - 0s 3ms/step - loss: 0.5063 - accuracy: 0.7188 - val_loss: 0.5175 - val_accuracy: 0.7600\n",
            "Epoch 58/100\n",
            "25/25 [==============================] - 0s 3ms/step - loss: 0.5037 - accuracy: 0.7175 - val_loss: 0.5145 - val_accuracy: 0.7650\n",
            "Epoch 59/100\n",
            "25/25 [==============================] - 0s 3ms/step - loss: 0.5056 - accuracy: 0.7125 - val_loss: 0.5090 - val_accuracy: 0.7600\n",
            "Epoch 60/100\n",
            "25/25 [==============================] - 0s 2ms/step - loss: 0.5041 - accuracy: 0.7125 - val_loss: 0.5172 - val_accuracy: 0.7600\n",
            "Epoch 61/100\n",
            "25/25 [==============================] - 0s 3ms/step - loss: 0.5056 - accuracy: 0.7038 - val_loss: 0.5186 - val_accuracy: 0.7550\n",
            "Epoch 62/100\n",
            "25/25 [==============================] - 0s 2ms/step - loss: 0.5087 - accuracy: 0.7163 - val_loss: 0.5117 - val_accuracy: 0.7500\n",
            "Epoch 63/100\n",
            "25/25 [==============================] - 0s 3ms/step - loss: 0.5036 - accuracy: 0.7175 - val_loss: 0.5163 - val_accuracy: 0.7600\n",
            "Epoch 64/100\n",
            "25/25 [==============================] - 0s 3ms/step - loss: 0.5073 - accuracy: 0.7113 - val_loss: 0.5134 - val_accuracy: 0.7500\n",
            "Epoch 65/100\n",
            "25/25 [==============================] - 0s 2ms/step - loss: 0.5054 - accuracy: 0.7262 - val_loss: 0.5171 - val_accuracy: 0.7650\n",
            "Epoch 66/100\n",
            "25/25 [==============================] - 0s 3ms/step - loss: 0.5043 - accuracy: 0.7138 - val_loss: 0.5119 - val_accuracy: 0.7550\n",
            "Epoch 67/100\n",
            "25/25 [==============================] - 0s 3ms/step - loss: 0.5031 - accuracy: 0.7188 - val_loss: 0.5175 - val_accuracy: 0.7600\n",
            "Epoch 68/100\n",
            "25/25 [==============================] - 0s 3ms/step - loss: 0.5062 - accuracy: 0.7063 - val_loss: 0.5200 - val_accuracy: 0.7650\n",
            "Epoch 69/100\n",
            "25/25 [==============================] - 0s 2ms/step - loss: 0.5063 - accuracy: 0.7175 - val_loss: 0.5113 - val_accuracy: 0.7600\n",
            "Epoch 70/100\n",
            "25/25 [==============================] - 0s 2ms/step - loss: 0.5039 - accuracy: 0.7088 - val_loss: 0.5205 - val_accuracy: 0.7650\n",
            "Epoch 71/100\n",
            "25/25 [==============================] - 0s 3ms/step - loss: 0.5045 - accuracy: 0.7113 - val_loss: 0.5172 - val_accuracy: 0.7600\n",
            "Epoch 72/100\n",
            "25/25 [==============================] - 0s 3ms/step - loss: 0.5046 - accuracy: 0.7125 - val_loss: 0.5170 - val_accuracy: 0.7500\n",
            "Epoch 73/100\n",
            "25/25 [==============================] - 0s 2ms/step - loss: 0.5040 - accuracy: 0.7125 - val_loss: 0.5129 - val_accuracy: 0.7650\n",
            "Epoch 74/100\n",
            "25/25 [==============================] - 0s 3ms/step - loss: 0.5053 - accuracy: 0.7163 - val_loss: 0.5183 - val_accuracy: 0.7650\n",
            "Epoch 75/100\n",
            "25/25 [==============================] - 0s 2ms/step - loss: 0.5055 - accuracy: 0.7013 - val_loss: 0.5142 - val_accuracy: 0.7700\n",
            "Epoch 76/100\n",
            "25/25 [==============================] - 0s 3ms/step - loss: 0.5066 - accuracy: 0.7175 - val_loss: 0.5157 - val_accuracy: 0.7650\n",
            "Epoch 77/100\n",
            "25/25 [==============================] - 0s 2ms/step - loss: 0.5043 - accuracy: 0.7200 - val_loss: 0.5176 - val_accuracy: 0.7550\n",
            "Epoch 78/100\n",
            "25/25 [==============================] - 0s 3ms/step - loss: 0.5055 - accuracy: 0.7262 - val_loss: 0.5179 - val_accuracy: 0.7250\n",
            "Epoch 79/100\n",
            "25/25 [==============================] - 0s 2ms/step - loss: 0.5070 - accuracy: 0.7063 - val_loss: 0.5156 - val_accuracy: 0.7600\n",
            "Epoch 80/100\n",
            "25/25 [==============================] - 0s 2ms/step - loss: 0.5050 - accuracy: 0.7212 - val_loss: 0.5173 - val_accuracy: 0.7550\n",
            "Epoch 81/100\n",
            "25/25 [==============================] - 0s 3ms/step - loss: 0.5048 - accuracy: 0.7088 - val_loss: 0.5128 - val_accuracy: 0.7500\n",
            "Epoch 82/100\n",
            "25/25 [==============================] - 0s 3ms/step - loss: 0.5048 - accuracy: 0.7212 - val_loss: 0.5156 - val_accuracy: 0.7600\n",
            "Epoch 83/100\n",
            "25/25 [==============================] - 0s 2ms/step - loss: 0.5043 - accuracy: 0.7150 - val_loss: 0.5167 - val_accuracy: 0.7650\n",
            "Epoch 84/100\n",
            "25/25 [==============================] - 0s 3ms/step - loss: 0.5042 - accuracy: 0.7163 - val_loss: 0.5120 - val_accuracy: 0.7600\n",
            "Epoch 85/100\n",
            "25/25 [==============================] - 0s 2ms/step - loss: 0.5042 - accuracy: 0.7188 - val_loss: 0.5155 - val_accuracy: 0.7600\n",
            "Epoch 86/100\n",
            "25/25 [==============================] - 0s 2ms/step - loss: 0.5062 - accuracy: 0.7150 - val_loss: 0.5220 - val_accuracy: 0.7300\n",
            "Epoch 87/100\n",
            "25/25 [==============================] - 0s 3ms/step - loss: 0.5058 - accuracy: 0.7125 - val_loss: 0.5173 - val_accuracy: 0.7300\n",
            "Epoch 88/100\n",
            "25/25 [==============================] - 0s 3ms/step - loss: 0.5067 - accuracy: 0.7088 - val_loss: 0.5158 - val_accuracy: 0.7450\n",
            "Epoch 89/100\n",
            "25/25 [==============================] - 0s 2ms/step - loss: 0.5031 - accuracy: 0.7262 - val_loss: 0.5188 - val_accuracy: 0.7350\n",
            "Epoch 90/100\n",
            "25/25 [==============================] - 0s 3ms/step - loss: 0.5060 - accuracy: 0.7200 - val_loss: 0.5152 - val_accuracy: 0.7500\n",
            "Epoch 91/100\n",
            "25/25 [==============================] - 0s 3ms/step - loss: 0.5042 - accuracy: 0.7138 - val_loss: 0.5159 - val_accuracy: 0.7550\n",
            "Epoch 92/100\n",
            "25/25 [==============================] - 0s 3ms/step - loss: 0.5034 - accuracy: 0.7113 - val_loss: 0.5138 - val_accuracy: 0.7650\n",
            "Epoch 93/100\n",
            "25/25 [==============================] - 0s 3ms/step - loss: 0.5044 - accuracy: 0.7225 - val_loss: 0.5144 - val_accuracy: 0.7600\n",
            "Epoch 94/100\n",
            "25/25 [==============================] - 0s 3ms/step - loss: 0.5047 - accuracy: 0.7075 - val_loss: 0.5169 - val_accuracy: 0.7600\n",
            "Epoch 95/100\n",
            "25/25 [==============================] - 0s 3ms/step - loss: 0.5042 - accuracy: 0.7038 - val_loss: 0.5145 - val_accuracy: 0.7550\n",
            "Epoch 96/100\n",
            "25/25 [==============================] - 0s 2ms/step - loss: 0.5041 - accuracy: 0.7275 - val_loss: 0.5173 - val_accuracy: 0.7650\n",
            "Epoch 97/100\n",
            "25/25 [==============================] - 0s 2ms/step - loss: 0.5083 - accuracy: 0.7025 - val_loss: 0.5130 - val_accuracy: 0.7700\n",
            "Epoch 98/100\n",
            "25/25 [==============================] - 0s 3ms/step - loss: 0.5031 - accuracy: 0.7212 - val_loss: 0.5174 - val_accuracy: 0.7600\n",
            "Epoch 99/100\n",
            "25/25 [==============================] - 0s 3ms/step - loss: 0.5049 - accuracy: 0.7175 - val_loss: 0.5154 - val_accuracy: 0.7500\n",
            "Epoch 100/100\n",
            "25/25 [==============================] - 0s 2ms/step - loss: 0.5036 - accuracy: 0.7237 - val_loss: 0.5200 - val_accuracy: 0.7600\n"
          ]
        },
        {
          "output_type": "execute_result",
          "data": {
            "text/plain": [
              "<keras.callbacks.History at 0x7fb7ff7060d0>"
            ]
          },
          "metadata": {},
          "execution_count": 13
        }
      ]
    },
    {
      "cell_type": "code",
      "metadata": {
        "id": "u8shV5Q8J3Jt"
      },
      "source": [
        "model.save(\"model.h5\",save_format='tf')"
      ],
      "execution_count": 53,
      "outputs": []
    },
    {
      "cell_type": "code",
      "metadata": {
        "id": "zLwY6aJvK0co"
      },
      "source": [
        ""
      ],
      "execution_count": 53,
      "outputs": []
    },
    {
      "cell_type": "markdown",
      "metadata": {
        "id": "5Nj2vghLK5LS"
      },
      "source": [
        "# Transfer Learning"
      ]
    },
    {
      "cell_type": "code",
      "metadata": {
        "colab": {
          "base_uri": "https://localhost:8080/"
        },
        "id": "Q7Dp_mjwLBAy",
        "outputId": "959b4e38-f470-4723-ce7a-f4126dc33f7e"
      },
      "source": [
        "x,y = make_blobs(n_samples=400,n_features=2,random_state=5,centers=5,cluster_std=2)\n",
        "x.shape,y.shape"
      ],
      "execution_count": 54,
      "outputs": [
        {
          "output_type": "execute_result",
          "data": {
            "text/plain": [
              "((400, 2), (400,))"
            ]
          },
          "metadata": {},
          "execution_count": 54
        }
      ]
    },
    {
      "cell_type": "code",
      "metadata": {
        "colab": {
          "base_uri": "https://localhost:8080/",
          "height": 423
        },
        "id": "nA-6XBUNLBAz",
        "outputId": "3e73365e-d730-4ef9-dab2-bc7dba9b93f0"
      },
      "source": [
        "pd.DataFrame(x)"
      ],
      "execution_count": 55,
      "outputs": [
        {
          "output_type": "execute_result",
          "data": {
            "text/html": [
              "<div>\n",
              "<style scoped>\n",
              "    .dataframe tbody tr th:only-of-type {\n",
              "        vertical-align: middle;\n",
              "    }\n",
              "\n",
              "    .dataframe tbody tr th {\n",
              "        vertical-align: top;\n",
              "    }\n",
              "\n",
              "    .dataframe thead th {\n",
              "        text-align: right;\n",
              "    }\n",
              "</style>\n",
              "<table border=\"1\" class=\"dataframe\">\n",
              "  <thead>\n",
              "    <tr style=\"text-align: right;\">\n",
              "      <th></th>\n",
              "      <th>0</th>\n",
              "      <th>1</th>\n",
              "    </tr>\n",
              "  </thead>\n",
              "  <tbody>\n",
              "    <tr>\n",
              "      <th>0</th>\n",
              "      <td>-5.900323</td>\n",
              "      <td>8.116902</td>\n",
              "    </tr>\n",
              "    <tr>\n",
              "      <th>1</th>\n",
              "      <td>-7.086752</td>\n",
              "      <td>9.421607</td>\n",
              "    </tr>\n",
              "    <tr>\n",
              "      <th>2</th>\n",
              "      <td>-4.017509</td>\n",
              "      <td>-5.387742</td>\n",
              "    </tr>\n",
              "    <tr>\n",
              "      <th>3</th>\n",
              "      <td>-7.722870</td>\n",
              "      <td>8.301273</td>\n",
              "    </tr>\n",
              "    <tr>\n",
              "      <th>4</th>\n",
              "      <td>-5.572526</td>\n",
              "      <td>7.212511</td>\n",
              "    </tr>\n",
              "    <tr>\n",
              "      <th>...</th>\n",
              "      <td>...</td>\n",
              "      <td>...</td>\n",
              "    </tr>\n",
              "    <tr>\n",
              "      <th>395</th>\n",
              "      <td>-5.139052</td>\n",
              "      <td>8.107650</td>\n",
              "    </tr>\n",
              "    <tr>\n",
              "      <th>396</th>\n",
              "      <td>-3.594221</td>\n",
              "      <td>-6.924680</td>\n",
              "    </tr>\n",
              "    <tr>\n",
              "      <th>397</th>\n",
              "      <td>4.002661</td>\n",
              "      <td>0.510064</td>\n",
              "    </tr>\n",
              "    <tr>\n",
              "      <th>398</th>\n",
              "      <td>-4.948936</td>\n",
              "      <td>8.458345</td>\n",
              "    </tr>\n",
              "    <tr>\n",
              "      <th>399</th>\n",
              "      <td>-0.599375</td>\n",
              "      <td>4.664353</td>\n",
              "    </tr>\n",
              "  </tbody>\n",
              "</table>\n",
              "<p>400 rows × 2 columns</p>\n",
              "</div>"
            ],
            "text/plain": [
              "            0         1\n",
              "0   -5.900323  8.116902\n",
              "1   -7.086752  9.421607\n",
              "2   -4.017509 -5.387742\n",
              "3   -7.722870  8.301273\n",
              "4   -5.572526  7.212511\n",
              "..        ...       ...\n",
              "395 -5.139052  8.107650\n",
              "396 -3.594221 -6.924680\n",
              "397  4.002661  0.510064\n",
              "398 -4.948936  8.458345\n",
              "399 -0.599375  4.664353\n",
              "\n",
              "[400 rows x 2 columns]"
            ]
          },
          "metadata": {},
          "execution_count": 55
        }
      ]
    },
    {
      "cell_type": "code",
      "metadata": {
        "colab": {
          "base_uri": "https://localhost:8080/"
        },
        "id": "cX1U3GLJLBA1",
        "outputId": "33cc045f-811a-4e81-d633-2775a4659d39"
      },
      "source": [
        "from tensorflow.keras.utils import to_categorical\n",
        "y = to_categorical(y)\n",
        "y.shape"
      ],
      "execution_count": 56,
      "outputs": [
        {
          "output_type": "execute_result",
          "data": {
            "text/plain": [
              "(400, 5)"
            ]
          },
          "metadata": {},
          "execution_count": 56
        }
      ]
    },
    {
      "cell_type": "code",
      "metadata": {
        "colab": {
          "base_uri": "https://localhost:8080/"
        },
        "id": "PO93xyhALBA1",
        "outputId": "0926d961-a22f-4697-b892-9b7e5fc571ab"
      },
      "source": [
        "from sklearn.model_selection import train_test_split\n",
        "xtr,xts,ytr,yts = train_test_split(x,y,test_size=0.2,random_state=5)\n",
        "print(xtr.shape,xts.shape,ytr.shape,yts.shape)"
      ],
      "execution_count": 57,
      "outputs": [
        {
          "output_type": "stream",
          "name": "stdout",
          "text": [
            "(320, 2) (80, 2) (320, 5) (80, 5)\n"
          ]
        }
      ]
    },
    {
      "cell_type": "code",
      "metadata": {
        "colab": {
          "base_uri": "https://localhost:8080/"
        },
        "id": "WEs96liAK6_0",
        "outputId": "594c4ccd-1fa1-4b68-ac2b-5423199bab17"
      },
      "source": [
        "#loading the pretrained model\n",
        "premodel = models.load_model(\"model.h5\")\n",
        "premodel.summary()"
      ],
      "execution_count": 58,
      "outputs": [
        {
          "output_type": "stream",
          "name": "stdout",
          "text": [
            "Model: \"model_1\"\n",
            "_________________________________________________________________\n",
            "Layer (type)                 Output Shape              Param #   \n",
            "=================================================================\n",
            "input_4 (InputLayer)         [(None, 2)]               0         \n",
            "_________________________________________________________________\n",
            "dense_9 (Dense)              (None, 10)                30        \n",
            "_________________________________________________________________\n",
            "dense_10 (Dense)             (None, 8)                 88        \n",
            "_________________________________________________________________\n",
            "dense_11 (Dense)             (None, 3)                 27        \n",
            "=================================================================\n",
            "Total params: 145\n",
            "Trainable params: 145\n",
            "Non-trainable params: 0\n",
            "_________________________________________________________________\n"
          ]
        }
      ]
    },
    {
      "cell_type": "code",
      "metadata": {
        "colab": {
          "base_uri": "https://localhost:8080/"
        },
        "id": "jq6p8GffLX2j",
        "outputId": "28826cef-d513-4330-98ec-7392ff377319"
      },
      "source": [
        "last_layer = model.layers[-2].output\n",
        "last_layer"
      ],
      "execution_count": 59,
      "outputs": [
        {
          "output_type": "execute_result",
          "data": {
            "text/plain": [
              "<KerasTensor: shape=(None, 8) dtype=float32 (created by layer 'dense_10')>"
            ]
          },
          "metadata": {},
          "execution_count": 59
        }
      ]
    },
    {
      "cell_type": "code",
      "metadata": {
        "id": "llUIJJfZP5ja"
      },
      "source": [
        "op = layers.Dense(5,activation='softmax')(last_layer)"
      ],
      "execution_count": 60,
      "outputs": []
    },
    {
      "cell_type": "code",
      "metadata": {
        "colab": {
          "base_uri": "https://localhost:8080/",
          "height": 346
        },
        "id": "5RzhxdEaLoUK",
        "outputId": "416847dd-9f84-40be-e78e-eacbfee2371a"
      },
      "source": [
        ""
      ],
      "execution_count": 61,
      "outputs": [
        {
          "output_type": "error",
          "ename": "ValueError",
          "evalue": "ignored",
          "traceback": [
            "\u001b[0;31m---------------------------------------------------------------------------\u001b[0m",
            "\u001b[0;31mValueError\u001b[0m                                Traceback (most recent call last)",
            "\u001b[0;32m<ipython-input-61-878fab35cbee>\u001b[0m in \u001b[0;36m<module>\u001b[0;34m()\u001b[0m\n\u001b[0;32m----> 1\u001b[0;31m \u001b[0mmodel\u001b[0m \u001b[0;34m=\u001b[0m \u001b[0mmodels\u001b[0m\u001b[0;34m.\u001b[0m\u001b[0mModel\u001b[0m\u001b[0;34m(\u001b[0m\u001b[0minputs\u001b[0m \u001b[0;34m=\u001b[0m \u001b[0mpremodel\u001b[0m\u001b[0;34m.\u001b[0m\u001b[0minput\u001b[0m\u001b[0;34m,\u001b[0m \u001b[0moutputs\u001b[0m\u001b[0;34m=\u001b[0m\u001b[0mop\u001b[0m\u001b[0;34m)\u001b[0m\u001b[0;34m\u001b[0m\u001b[0;34m\u001b[0m\u001b[0m\n\u001b[0m\u001b[1;32m      2\u001b[0m \u001b[0mmodel\u001b[0m\u001b[0;34m.\u001b[0m\u001b[0msummary\u001b[0m\u001b[0;34m(\u001b[0m\u001b[0;34m)\u001b[0m\u001b[0;34m\u001b[0m\u001b[0;34m\u001b[0m\u001b[0m\n",
            "\u001b[0;32m/usr/local/lib/python3.7/dist-packages/tensorflow/python/training/tracking/base.py\u001b[0m in \u001b[0;36m_method_wrapper\u001b[0;34m(self, *args, **kwargs)\u001b[0m\n\u001b[1;32m    528\u001b[0m     \u001b[0mself\u001b[0m\u001b[0;34m.\u001b[0m\u001b[0m_self_setattr_tracking\u001b[0m \u001b[0;34m=\u001b[0m \u001b[0;32mFalse\u001b[0m  \u001b[0;31m# pylint: disable=protected-access\u001b[0m\u001b[0;34m\u001b[0m\u001b[0;34m\u001b[0m\u001b[0m\n\u001b[1;32m    529\u001b[0m     \u001b[0;32mtry\u001b[0m\u001b[0;34m:\u001b[0m\u001b[0;34m\u001b[0m\u001b[0;34m\u001b[0m\u001b[0m\n\u001b[0;32m--> 530\u001b[0;31m       \u001b[0mresult\u001b[0m \u001b[0;34m=\u001b[0m \u001b[0mmethod\u001b[0m\u001b[0;34m(\u001b[0m\u001b[0mself\u001b[0m\u001b[0;34m,\u001b[0m \u001b[0;34m*\u001b[0m\u001b[0margs\u001b[0m\u001b[0;34m,\u001b[0m \u001b[0;34m**\u001b[0m\u001b[0mkwargs\u001b[0m\u001b[0;34m)\u001b[0m\u001b[0;34m\u001b[0m\u001b[0;34m\u001b[0m\u001b[0m\n\u001b[0m\u001b[1;32m    531\u001b[0m     \u001b[0;32mfinally\u001b[0m\u001b[0;34m:\u001b[0m\u001b[0;34m\u001b[0m\u001b[0;34m\u001b[0m\u001b[0m\n\u001b[1;32m    532\u001b[0m       \u001b[0mself\u001b[0m\u001b[0;34m.\u001b[0m\u001b[0m_self_setattr_tracking\u001b[0m \u001b[0;34m=\u001b[0m \u001b[0mprevious_value\u001b[0m  \u001b[0;31m# pylint: disable=protected-access\u001b[0m\u001b[0;34m\u001b[0m\u001b[0;34m\u001b[0m\u001b[0m\n",
            "\u001b[0;32m/usr/local/lib/python3.7/dist-packages/keras/engine/functional.py\u001b[0m in \u001b[0;36m__init__\u001b[0;34m(self, inputs, outputs, name, trainable, **kwargs)\u001b[0m\n\u001b[1;32m    107\u001b[0m     \u001b[0mgeneric_utils\u001b[0m\u001b[0;34m.\u001b[0m\u001b[0mvalidate_kwargs\u001b[0m\u001b[0;34m(\u001b[0m\u001b[0mkwargs\u001b[0m\u001b[0;34m,\u001b[0m \u001b[0;34m{\u001b[0m\u001b[0;34m}\u001b[0m\u001b[0;34m)\u001b[0m\u001b[0;34m\u001b[0m\u001b[0;34m\u001b[0m\u001b[0m\n\u001b[1;32m    108\u001b[0m     \u001b[0msuper\u001b[0m\u001b[0;34m(\u001b[0m\u001b[0mFunctional\u001b[0m\u001b[0;34m,\u001b[0m \u001b[0mself\u001b[0m\u001b[0;34m)\u001b[0m\u001b[0;34m.\u001b[0m\u001b[0m__init__\u001b[0m\u001b[0;34m(\u001b[0m\u001b[0mname\u001b[0m\u001b[0;34m=\u001b[0m\u001b[0mname\u001b[0m\u001b[0;34m,\u001b[0m \u001b[0mtrainable\u001b[0m\u001b[0;34m=\u001b[0m\u001b[0mtrainable\u001b[0m\u001b[0;34m)\u001b[0m\u001b[0;34m\u001b[0m\u001b[0;34m\u001b[0m\u001b[0m\n\u001b[0;32m--> 109\u001b[0;31m     \u001b[0mself\u001b[0m\u001b[0;34m.\u001b[0m\u001b[0m_init_graph_network\u001b[0m\u001b[0;34m(\u001b[0m\u001b[0minputs\u001b[0m\u001b[0;34m,\u001b[0m \u001b[0moutputs\u001b[0m\u001b[0;34m)\u001b[0m\u001b[0;34m\u001b[0m\u001b[0;34m\u001b[0m\u001b[0m\n\u001b[0m\u001b[1;32m    110\u001b[0m \u001b[0;34m\u001b[0m\u001b[0m\n\u001b[1;32m    111\u001b[0m   \u001b[0;34m@\u001b[0m\u001b[0mtf\u001b[0m\u001b[0;34m.\u001b[0m\u001b[0m__internal__\u001b[0m\u001b[0;34m.\u001b[0m\u001b[0mtracking\u001b[0m\u001b[0;34m.\u001b[0m\u001b[0mno_automatic_dependency_tracking\u001b[0m\u001b[0;34m\u001b[0m\u001b[0;34m\u001b[0m\u001b[0m\n",
            "\u001b[0;32m/usr/local/lib/python3.7/dist-packages/tensorflow/python/training/tracking/base.py\u001b[0m in \u001b[0;36m_method_wrapper\u001b[0;34m(self, *args, **kwargs)\u001b[0m\n\u001b[1;32m    528\u001b[0m     \u001b[0mself\u001b[0m\u001b[0;34m.\u001b[0m\u001b[0m_self_setattr_tracking\u001b[0m \u001b[0;34m=\u001b[0m \u001b[0;32mFalse\u001b[0m  \u001b[0;31m# pylint: disable=protected-access\u001b[0m\u001b[0;34m\u001b[0m\u001b[0;34m\u001b[0m\u001b[0m\n\u001b[1;32m    529\u001b[0m     \u001b[0;32mtry\u001b[0m\u001b[0;34m:\u001b[0m\u001b[0;34m\u001b[0m\u001b[0;34m\u001b[0m\u001b[0m\n\u001b[0;32m--> 530\u001b[0;31m       \u001b[0mresult\u001b[0m \u001b[0;34m=\u001b[0m \u001b[0mmethod\u001b[0m\u001b[0;34m(\u001b[0m\u001b[0mself\u001b[0m\u001b[0;34m,\u001b[0m \u001b[0;34m*\u001b[0m\u001b[0margs\u001b[0m\u001b[0;34m,\u001b[0m \u001b[0;34m**\u001b[0m\u001b[0mkwargs\u001b[0m\u001b[0;34m)\u001b[0m\u001b[0;34m\u001b[0m\u001b[0;34m\u001b[0m\u001b[0m\n\u001b[0m\u001b[1;32m    531\u001b[0m     \u001b[0;32mfinally\u001b[0m\u001b[0;34m:\u001b[0m\u001b[0;34m\u001b[0m\u001b[0;34m\u001b[0m\u001b[0m\n\u001b[1;32m    532\u001b[0m       \u001b[0mself\u001b[0m\u001b[0;34m.\u001b[0m\u001b[0m_self_setattr_tracking\u001b[0m \u001b[0;34m=\u001b[0m \u001b[0mprevious_value\u001b[0m  \u001b[0;31m# pylint: disable=protected-access\u001b[0m\u001b[0;34m\u001b[0m\u001b[0;34m\u001b[0m\u001b[0m\n",
            "\u001b[0;32m/usr/local/lib/python3.7/dist-packages/keras/engine/functional.py\u001b[0m in \u001b[0;36m_init_graph_network\u001b[0;34m(self, inputs, outputs)\u001b[0m\n\u001b[1;32m    191\u001b[0m     \u001b[0;31m# Keep track of the network's nodes and layers.\u001b[0m\u001b[0;34m\u001b[0m\u001b[0;34m\u001b[0m\u001b[0;34m\u001b[0m\u001b[0m\n\u001b[1;32m    192\u001b[0m     nodes, nodes_by_depth, layers, _ = _map_graph_network(\n\u001b[0;32m--> 193\u001b[0;31m         self.inputs, self.outputs)\n\u001b[0m\u001b[1;32m    194\u001b[0m     \u001b[0mself\u001b[0m\u001b[0;34m.\u001b[0m\u001b[0m_network_nodes\u001b[0m \u001b[0;34m=\u001b[0m \u001b[0mnodes\u001b[0m\u001b[0;34m\u001b[0m\u001b[0;34m\u001b[0m\u001b[0m\n\u001b[1;32m    195\u001b[0m     \u001b[0mself\u001b[0m\u001b[0;34m.\u001b[0m\u001b[0m_nodes_by_depth\u001b[0m \u001b[0;34m=\u001b[0m \u001b[0mnodes_by_depth\u001b[0m\u001b[0;34m\u001b[0m\u001b[0;34m\u001b[0m\u001b[0m\n",
            "\u001b[0;32m/usr/local/lib/python3.7/dist-packages/keras/engine/functional.py\u001b[0m in \u001b[0;36m_map_graph_network\u001b[0;34m(inputs, outputs)\u001b[0m\n\u001b[1;32m    982\u001b[0m                              \u001b[0;34m'The following previous layers '\u001b[0m\u001b[0;34m\u001b[0m\u001b[0;34m\u001b[0m\u001b[0m\n\u001b[1;32m    983\u001b[0m                              \u001b[0;34m'were accessed without issue: '\u001b[0m \u001b[0;34m+\u001b[0m\u001b[0;34m\u001b[0m\u001b[0;34m\u001b[0m\u001b[0m\n\u001b[0;32m--> 984\u001b[0;31m                              str(layers_with_complete_input))\n\u001b[0m\u001b[1;32m    985\u001b[0m         \u001b[0;32mfor\u001b[0m \u001b[0mx\u001b[0m \u001b[0;32min\u001b[0m \u001b[0mtf\u001b[0m\u001b[0;34m.\u001b[0m\u001b[0mnest\u001b[0m\u001b[0;34m.\u001b[0m\u001b[0mflatten\u001b[0m\u001b[0;34m(\u001b[0m\u001b[0mnode\u001b[0m\u001b[0;34m.\u001b[0m\u001b[0moutputs\u001b[0m\u001b[0;34m)\u001b[0m\u001b[0;34m:\u001b[0m\u001b[0;34m\u001b[0m\u001b[0;34m\u001b[0m\u001b[0m\n\u001b[1;32m    986\u001b[0m           \u001b[0mcomputable_tensors\u001b[0m\u001b[0;34m.\u001b[0m\u001b[0madd\u001b[0m\u001b[0;34m(\u001b[0m\u001b[0mid\u001b[0m\u001b[0;34m(\u001b[0m\u001b[0mx\u001b[0m\u001b[0;34m)\u001b[0m\u001b[0;34m)\u001b[0m\u001b[0;34m\u001b[0m\u001b[0;34m\u001b[0m\u001b[0m\n",
            "\u001b[0;31mValueError\u001b[0m: Graph disconnected: cannot obtain value for tensor KerasTensor(type_spec=TensorSpec(shape=(None, 2), dtype=tf.float32, name='input_4'), name='input_4', description=\"created by layer 'input_4'\") at layer \"dense_9\". The following previous layers were accessed without issue: []"
          ]
        }
      ]
    },
    {
      "cell_type": "code",
      "metadata": {
        "colab": {
          "base_uri": "https://localhost:8080/"
        },
        "id": "8gHCAkgBL75e",
        "outputId": "8db496d2-1ff8-4b6b-b104-a1b3348c3584"
      },
      "source": [
        "premodel.get_layer(\"input_4\").input"
      ],
      "execution_count": 42,
      "outputs": [
        {
          "output_type": "execute_result",
          "data": {
            "text/plain": [
              "<KerasTensor: shape=(None, 2) dtype=float32 (created by layer 'input_4')>"
            ]
          },
          "metadata": {},
          "execution_count": 42
        }
      ]
    },
    {
      "cell_type": "code",
      "metadata": {
        "colab": {
          "base_uri": "https://localhost:8080/"
        },
        "id": "29X4snbRMAlk",
        "outputId": "e26e1d5f-3d93-4904-dcda-17d6c4c3c5bc"
      },
      "source": [
        "premodel.layers[0].input"
      ],
      "execution_count": 44,
      "outputs": [
        {
          "output_type": "execute_result",
          "data": {
            "text/plain": [
              "<KerasTensor: shape=(None, 2) dtype=float32 (created by layer 'input_4')>"
            ]
          },
          "metadata": {},
          "execution_count": 44
        }
      ]
    },
    {
      "cell_type": "code",
      "metadata": {
        "colab": {
          "base_uri": "https://localhost:8080/"
        },
        "id": "IlzbmbVgN1Wt",
        "outputId": "4edc3887-1a5b-4f93-e521-fbb1a8ca3984"
      },
      "source": [
        "premodel.input"
      ],
      "execution_count": 45,
      "outputs": [
        {
          "output_type": "execute_result",
          "data": {
            "text/plain": [
              "<KerasTensor: shape=(None, 2) dtype=float32 (created by layer 'input_4')>"
            ]
          },
          "metadata": {},
          "execution_count": 45
        }
      ]
    },
    {
      "cell_type": "code",
      "metadata": {
        "id": "wCSwj1daOfOL"
      },
      "source": [
        "ip = premodel.get_layer(\"input_4\").input"
      ],
      "execution_count": 63,
      "outputs": []
    },
    {
      "cell_type": "code",
      "metadata": {
        "colab": {
          "base_uri": "https://localhost:8080/",
          "height": 346
        },
        "id": "QTMq0vfjPQM3",
        "outputId": "804fbadb-d9c1-420d-8fe3-010527c28c43"
      },
      "source": [
        "model = models.Model(inputs = ip, outputs=op)\n",
        "model.summary()"
      ],
      "execution_count": 64,
      "outputs": [
        {
          "output_type": "error",
          "ename": "ValueError",
          "evalue": "ignored",
          "traceback": [
            "\u001b[0;31m---------------------------------------------------------------------------\u001b[0m",
            "\u001b[0;31mValueError\u001b[0m                                Traceback (most recent call last)",
            "\u001b[0;32m<ipython-input-64-48e0051fde4c>\u001b[0m in \u001b[0;36m<module>\u001b[0;34m()\u001b[0m\n\u001b[0;32m----> 1\u001b[0;31m \u001b[0mmodel\u001b[0m \u001b[0;34m=\u001b[0m \u001b[0mmodels\u001b[0m\u001b[0;34m.\u001b[0m\u001b[0mModel\u001b[0m\u001b[0;34m(\u001b[0m\u001b[0minputs\u001b[0m \u001b[0;34m=\u001b[0m \u001b[0mip\u001b[0m\u001b[0;34m,\u001b[0m \u001b[0moutputs\u001b[0m\u001b[0;34m=\u001b[0m\u001b[0mop\u001b[0m\u001b[0;34m)\u001b[0m\u001b[0;34m\u001b[0m\u001b[0;34m\u001b[0m\u001b[0m\n\u001b[0m\u001b[1;32m      2\u001b[0m \u001b[0mmodel\u001b[0m\u001b[0;34m.\u001b[0m\u001b[0msummary\u001b[0m\u001b[0;34m(\u001b[0m\u001b[0;34m)\u001b[0m\u001b[0;34m\u001b[0m\u001b[0;34m\u001b[0m\u001b[0m\n",
            "\u001b[0;32m/usr/local/lib/python3.7/dist-packages/tensorflow/python/training/tracking/base.py\u001b[0m in \u001b[0;36m_method_wrapper\u001b[0;34m(self, *args, **kwargs)\u001b[0m\n\u001b[1;32m    528\u001b[0m     \u001b[0mself\u001b[0m\u001b[0;34m.\u001b[0m\u001b[0m_self_setattr_tracking\u001b[0m \u001b[0;34m=\u001b[0m \u001b[0;32mFalse\u001b[0m  \u001b[0;31m# pylint: disable=protected-access\u001b[0m\u001b[0;34m\u001b[0m\u001b[0;34m\u001b[0m\u001b[0m\n\u001b[1;32m    529\u001b[0m     \u001b[0;32mtry\u001b[0m\u001b[0;34m:\u001b[0m\u001b[0;34m\u001b[0m\u001b[0;34m\u001b[0m\u001b[0m\n\u001b[0;32m--> 530\u001b[0;31m       \u001b[0mresult\u001b[0m \u001b[0;34m=\u001b[0m \u001b[0mmethod\u001b[0m\u001b[0;34m(\u001b[0m\u001b[0mself\u001b[0m\u001b[0;34m,\u001b[0m \u001b[0;34m*\u001b[0m\u001b[0margs\u001b[0m\u001b[0;34m,\u001b[0m \u001b[0;34m**\u001b[0m\u001b[0mkwargs\u001b[0m\u001b[0;34m)\u001b[0m\u001b[0;34m\u001b[0m\u001b[0;34m\u001b[0m\u001b[0m\n\u001b[0m\u001b[1;32m    531\u001b[0m     \u001b[0;32mfinally\u001b[0m\u001b[0;34m:\u001b[0m\u001b[0;34m\u001b[0m\u001b[0;34m\u001b[0m\u001b[0m\n\u001b[1;32m    532\u001b[0m       \u001b[0mself\u001b[0m\u001b[0;34m.\u001b[0m\u001b[0m_self_setattr_tracking\u001b[0m \u001b[0;34m=\u001b[0m \u001b[0mprevious_value\u001b[0m  \u001b[0;31m# pylint: disable=protected-access\u001b[0m\u001b[0;34m\u001b[0m\u001b[0;34m\u001b[0m\u001b[0m\n",
            "\u001b[0;32m/usr/local/lib/python3.7/dist-packages/keras/engine/functional.py\u001b[0m in \u001b[0;36m__init__\u001b[0;34m(self, inputs, outputs, name, trainable, **kwargs)\u001b[0m\n\u001b[1;32m    107\u001b[0m     \u001b[0mgeneric_utils\u001b[0m\u001b[0;34m.\u001b[0m\u001b[0mvalidate_kwargs\u001b[0m\u001b[0;34m(\u001b[0m\u001b[0mkwargs\u001b[0m\u001b[0;34m,\u001b[0m \u001b[0;34m{\u001b[0m\u001b[0;34m}\u001b[0m\u001b[0;34m)\u001b[0m\u001b[0;34m\u001b[0m\u001b[0;34m\u001b[0m\u001b[0m\n\u001b[1;32m    108\u001b[0m     \u001b[0msuper\u001b[0m\u001b[0;34m(\u001b[0m\u001b[0mFunctional\u001b[0m\u001b[0;34m,\u001b[0m \u001b[0mself\u001b[0m\u001b[0;34m)\u001b[0m\u001b[0;34m.\u001b[0m\u001b[0m__init__\u001b[0m\u001b[0;34m(\u001b[0m\u001b[0mname\u001b[0m\u001b[0;34m=\u001b[0m\u001b[0mname\u001b[0m\u001b[0;34m,\u001b[0m \u001b[0mtrainable\u001b[0m\u001b[0;34m=\u001b[0m\u001b[0mtrainable\u001b[0m\u001b[0;34m)\u001b[0m\u001b[0;34m\u001b[0m\u001b[0;34m\u001b[0m\u001b[0m\n\u001b[0;32m--> 109\u001b[0;31m     \u001b[0mself\u001b[0m\u001b[0;34m.\u001b[0m\u001b[0m_init_graph_network\u001b[0m\u001b[0;34m(\u001b[0m\u001b[0minputs\u001b[0m\u001b[0;34m,\u001b[0m \u001b[0moutputs\u001b[0m\u001b[0;34m)\u001b[0m\u001b[0;34m\u001b[0m\u001b[0;34m\u001b[0m\u001b[0m\n\u001b[0m\u001b[1;32m    110\u001b[0m \u001b[0;34m\u001b[0m\u001b[0m\n\u001b[1;32m    111\u001b[0m   \u001b[0;34m@\u001b[0m\u001b[0mtf\u001b[0m\u001b[0;34m.\u001b[0m\u001b[0m__internal__\u001b[0m\u001b[0;34m.\u001b[0m\u001b[0mtracking\u001b[0m\u001b[0;34m.\u001b[0m\u001b[0mno_automatic_dependency_tracking\u001b[0m\u001b[0;34m\u001b[0m\u001b[0;34m\u001b[0m\u001b[0m\n",
            "\u001b[0;32m/usr/local/lib/python3.7/dist-packages/tensorflow/python/training/tracking/base.py\u001b[0m in \u001b[0;36m_method_wrapper\u001b[0;34m(self, *args, **kwargs)\u001b[0m\n\u001b[1;32m    528\u001b[0m     \u001b[0mself\u001b[0m\u001b[0;34m.\u001b[0m\u001b[0m_self_setattr_tracking\u001b[0m \u001b[0;34m=\u001b[0m \u001b[0;32mFalse\u001b[0m  \u001b[0;31m# pylint: disable=protected-access\u001b[0m\u001b[0;34m\u001b[0m\u001b[0;34m\u001b[0m\u001b[0m\n\u001b[1;32m    529\u001b[0m     \u001b[0;32mtry\u001b[0m\u001b[0;34m:\u001b[0m\u001b[0;34m\u001b[0m\u001b[0;34m\u001b[0m\u001b[0m\n\u001b[0;32m--> 530\u001b[0;31m       \u001b[0mresult\u001b[0m \u001b[0;34m=\u001b[0m \u001b[0mmethod\u001b[0m\u001b[0;34m(\u001b[0m\u001b[0mself\u001b[0m\u001b[0;34m,\u001b[0m \u001b[0;34m*\u001b[0m\u001b[0margs\u001b[0m\u001b[0;34m,\u001b[0m \u001b[0;34m**\u001b[0m\u001b[0mkwargs\u001b[0m\u001b[0;34m)\u001b[0m\u001b[0;34m\u001b[0m\u001b[0;34m\u001b[0m\u001b[0m\n\u001b[0m\u001b[1;32m    531\u001b[0m     \u001b[0;32mfinally\u001b[0m\u001b[0;34m:\u001b[0m\u001b[0;34m\u001b[0m\u001b[0;34m\u001b[0m\u001b[0m\n\u001b[1;32m    532\u001b[0m       \u001b[0mself\u001b[0m\u001b[0;34m.\u001b[0m\u001b[0m_self_setattr_tracking\u001b[0m \u001b[0;34m=\u001b[0m \u001b[0mprevious_value\u001b[0m  \u001b[0;31m# pylint: disable=protected-access\u001b[0m\u001b[0;34m\u001b[0m\u001b[0;34m\u001b[0m\u001b[0m\n",
            "\u001b[0;32m/usr/local/lib/python3.7/dist-packages/keras/engine/functional.py\u001b[0m in \u001b[0;36m_init_graph_network\u001b[0;34m(self, inputs, outputs)\u001b[0m\n\u001b[1;32m    191\u001b[0m     \u001b[0;31m# Keep track of the network's nodes and layers.\u001b[0m\u001b[0;34m\u001b[0m\u001b[0;34m\u001b[0m\u001b[0;34m\u001b[0m\u001b[0m\n\u001b[1;32m    192\u001b[0m     nodes, nodes_by_depth, layers, _ = _map_graph_network(\n\u001b[0;32m--> 193\u001b[0;31m         self.inputs, self.outputs)\n\u001b[0m\u001b[1;32m    194\u001b[0m     \u001b[0mself\u001b[0m\u001b[0;34m.\u001b[0m\u001b[0m_network_nodes\u001b[0m \u001b[0;34m=\u001b[0m \u001b[0mnodes\u001b[0m\u001b[0;34m\u001b[0m\u001b[0;34m\u001b[0m\u001b[0m\n\u001b[1;32m    195\u001b[0m     \u001b[0mself\u001b[0m\u001b[0;34m.\u001b[0m\u001b[0m_nodes_by_depth\u001b[0m \u001b[0;34m=\u001b[0m \u001b[0mnodes_by_depth\u001b[0m\u001b[0;34m\u001b[0m\u001b[0;34m\u001b[0m\u001b[0m\n",
            "\u001b[0;32m/usr/local/lib/python3.7/dist-packages/keras/engine/functional.py\u001b[0m in \u001b[0;36m_map_graph_network\u001b[0;34m(inputs, outputs)\u001b[0m\n\u001b[1;32m    982\u001b[0m                              \u001b[0;34m'The following previous layers '\u001b[0m\u001b[0;34m\u001b[0m\u001b[0;34m\u001b[0m\u001b[0m\n\u001b[1;32m    983\u001b[0m                              \u001b[0;34m'were accessed without issue: '\u001b[0m \u001b[0;34m+\u001b[0m\u001b[0;34m\u001b[0m\u001b[0;34m\u001b[0m\u001b[0m\n\u001b[0;32m--> 984\u001b[0;31m                              str(layers_with_complete_input))\n\u001b[0m\u001b[1;32m    985\u001b[0m         \u001b[0;32mfor\u001b[0m \u001b[0mx\u001b[0m \u001b[0;32min\u001b[0m \u001b[0mtf\u001b[0m\u001b[0;34m.\u001b[0m\u001b[0mnest\u001b[0m\u001b[0;34m.\u001b[0m\u001b[0mflatten\u001b[0m\u001b[0;34m(\u001b[0m\u001b[0mnode\u001b[0m\u001b[0;34m.\u001b[0m\u001b[0moutputs\u001b[0m\u001b[0;34m)\u001b[0m\u001b[0;34m:\u001b[0m\u001b[0;34m\u001b[0m\u001b[0;34m\u001b[0m\u001b[0m\n\u001b[1;32m    986\u001b[0m           \u001b[0mcomputable_tensors\u001b[0m\u001b[0;34m.\u001b[0m\u001b[0madd\u001b[0m\u001b[0;34m(\u001b[0m\u001b[0mid\u001b[0m\u001b[0;34m(\u001b[0m\u001b[0mx\u001b[0m\u001b[0;34m)\u001b[0m\u001b[0;34m)\u001b[0m\u001b[0;34m\u001b[0m\u001b[0;34m\u001b[0m\u001b[0m\n",
            "\u001b[0;31mValueError\u001b[0m: Graph disconnected: cannot obtain value for tensor KerasTensor(type_spec=TensorSpec(shape=(None, 2), dtype=tf.float32, name='input_4'), name='input_4', description=\"created by layer 'input_4'\") at layer \"dense_9\". The following previous layers were accessed without issue: []"
          ]
        }
      ]
    },
    {
      "cell_type": "markdown",
      "metadata": {
        "id": "mY9DcCUZQdvP"
      },
      "source": [
        ""
      ]
    },
    {
      "cell_type": "code",
      "metadata": {
        "id": "-hyLQa4zQI4j"
      },
      "source": [
        ""
      ],
      "execution_count": null,
      "outputs": []
    }
  ]
}