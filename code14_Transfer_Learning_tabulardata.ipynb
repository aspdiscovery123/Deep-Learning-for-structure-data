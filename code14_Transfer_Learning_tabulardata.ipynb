{
  "nbformat": 4,
  "nbformat_minor": 0,
  "metadata": {
    "colab": {
      "name": "code14_Transfer_Learning_tabulardata.ipynb",
      "provenance": [],
      "collapsed_sections": []
    },
    "kernelspec": {
      "name": "python3",
      "display_name": "Python 3"
    },
    "language_info": {
      "name": "python"
    }
  },
  "cells": [
    {
      "cell_type": "markdown",
      "metadata": {
        "id": "WbVvnDn8HMlL"
      },
      "source": [
        "# Transfer Learning for tabular Data"
      ]
    },
    {
      "cell_type": "code",
      "metadata": {
        "id": "s_sF4lofHGNk"
      },
      "source": [
        "import matplotlib.pyplot as plt\n",
        "import tensorflow as tf\n",
        "import numpy as np\n",
        "import pandas as pd\n",
        "from sklearn.datasets import make_blobs"
      ],
      "execution_count": 1,
      "outputs": []
    },
    {
      "cell_type": "markdown",
      "metadata": {
        "id": "IZEAvks2HlXs"
      },
      "source": [
        "### Data Preparation"
      ]
    },
    {
      "cell_type": "code",
      "metadata": {
        "colab": {
          "base_uri": "https://localhost:8080/"
        },
        "id": "QRfcasxlHc1z",
        "outputId": "5037943e-2f64-4345-b701-a91120ad52b5"
      },
      "source": [
        "x,y = make_blobs(n_samples=8000,n_features=2,random_state=5,centers=3,cluster_std=2)\n",
        "x.shape,y.shape"
      ],
      "execution_count": 2,
      "outputs": [
        {
          "output_type": "execute_result",
          "data": {
            "text/plain": [
              "((8000, 2), (8000,))"
            ]
          },
          "metadata": {},
          "execution_count": 2
        }
      ]
    },
    {
      "cell_type": "code",
      "metadata": {
        "colab": {
          "base_uri": "https://localhost:8080/",
          "height": 423
        },
        "id": "vMIrRaNRIBKz",
        "outputId": "1cd023a1-7a9d-4d7e-e100-b77af2653429"
      },
      "source": [
        "pd.DataFrame(x)"
      ],
      "execution_count": 3,
      "outputs": [
        {
          "output_type": "execute_result",
          "data": {
            "text/html": [
              "<div>\n",
              "<style scoped>\n",
              "    .dataframe tbody tr th:only-of-type {\n",
              "        vertical-align: middle;\n",
              "    }\n",
              "\n",
              "    .dataframe tbody tr th {\n",
              "        vertical-align: top;\n",
              "    }\n",
              "\n",
              "    .dataframe thead th {\n",
              "        text-align: right;\n",
              "    }\n",
              "</style>\n",
              "<table border=\"1\" class=\"dataframe\">\n",
              "  <thead>\n",
              "    <tr style=\"text-align: right;\">\n",
              "      <th></th>\n",
              "      <th>0</th>\n",
              "      <th>1</th>\n",
              "    </tr>\n",
              "  </thead>\n",
              "  <tbody>\n",
              "    <tr>\n",
              "      <th>0</th>\n",
              "      <td>-5.155103</td>\n",
              "      <td>11.671184</td>\n",
              "    </tr>\n",
              "    <tr>\n",
              "      <th>1</th>\n",
              "      <td>-7.474192</td>\n",
              "      <td>7.641312</td>\n",
              "    </tr>\n",
              "    <tr>\n",
              "      <th>2</th>\n",
              "      <td>-4.919851</td>\n",
              "      <td>7.465616</td>\n",
              "    </tr>\n",
              "    <tr>\n",
              "      <th>3</th>\n",
              "      <td>-5.795091</td>\n",
              "      <td>6.014681</td>\n",
              "    </tr>\n",
              "    <tr>\n",
              "      <th>4</th>\n",
              "      <td>-2.433272</td>\n",
              "      <td>10.665887</td>\n",
              "    </tr>\n",
              "    <tr>\n",
              "      <th>...</th>\n",
              "      <td>...</td>\n",
              "      <td>...</td>\n",
              "    </tr>\n",
              "    <tr>\n",
              "      <th>7995</th>\n",
              "      <td>-7.260874</td>\n",
              "      <td>11.656437</td>\n",
              "    </tr>\n",
              "    <tr>\n",
              "      <th>7996</th>\n",
              "      <td>-0.484286</td>\n",
              "      <td>3.444093</td>\n",
              "    </tr>\n",
              "    <tr>\n",
              "      <th>7997</th>\n",
              "      <td>-3.492756</td>\n",
              "      <td>7.648294</td>\n",
              "    </tr>\n",
              "    <tr>\n",
              "      <th>7998</th>\n",
              "      <td>-7.706737</td>\n",
              "      <td>7.379782</td>\n",
              "    </tr>\n",
              "    <tr>\n",
              "      <th>7999</th>\n",
              "      <td>-5.036178</td>\n",
              "      <td>8.401518</td>\n",
              "    </tr>\n",
              "  </tbody>\n",
              "</table>\n",
              "<p>8000 rows × 2 columns</p>\n",
              "</div>"
            ],
            "text/plain": [
              "             0          1\n",
              "0    -5.155103  11.671184\n",
              "1    -7.474192   7.641312\n",
              "2    -4.919851   7.465616\n",
              "3    -5.795091   6.014681\n",
              "4    -2.433272  10.665887\n",
              "...        ...        ...\n",
              "7995 -7.260874  11.656437\n",
              "7996 -0.484286   3.444093\n",
              "7997 -3.492756   7.648294\n",
              "7998 -7.706737   7.379782\n",
              "7999 -5.036178   8.401518\n",
              "\n",
              "[8000 rows x 2 columns]"
            ]
          },
          "metadata": {},
          "execution_count": 3
        }
      ]
    },
    {
      "cell_type": "code",
      "metadata": {
        "colab": {
          "base_uri": "https://localhost:8080/"
        },
        "id": "Wd-vH1VuIUV8",
        "outputId": "2332b3fa-8a40-41c2-e4e6-ad38a0727f6f"
      },
      "source": [
        "from tensorflow.keras.utils import to_categorical\n",
        "y = to_categorical(y)\n",
        "y.shape"
      ],
      "execution_count": 4,
      "outputs": [
        {
          "output_type": "execute_result",
          "data": {
            "text/plain": [
              "(8000, 3)"
            ]
          },
          "metadata": {},
          "execution_count": 4
        }
      ]
    },
    {
      "cell_type": "code",
      "metadata": {
        "colab": {
          "base_uri": "https://localhost:8080/"
        },
        "id": "sEf2G7L6IduN",
        "outputId": "f0bf2a42-4252-44ca-da98-9daace2506e7"
      },
      "source": [
        "from sklearn.model_selection import train_test_split\n",
        "xtr,xts,ytr,yts = train_test_split(x,y,test_size=0.2,random_state=5)\n",
        "print(xtr.shape,xts.shape,ytr.shape,yts.shape)"
      ],
      "execution_count": 5,
      "outputs": [
        {
          "output_type": "stream",
          "name": "stdout",
          "text": [
            "(6400, 2) (1600, 2) (6400, 3) (1600, 3)\n"
          ]
        }
      ]
    },
    {
      "cell_type": "markdown",
      "metadata": {
        "id": "iStl48wVI27l"
      },
      "source": [
        "## Modelling the network"
      ]
    },
    {
      "cell_type": "code",
      "metadata": {
        "id": "E2tQJGw5ItKr"
      },
      "source": [
        "from tensorflow.keras import models,layers"
      ],
      "execution_count": 7,
      "outputs": []
    },
    {
      "cell_type": "code",
      "metadata": {
        "id": "MvFOAxIPI7Kn"
      },
      "source": [
        "ip = layers.Input(shape=(2,),name='model_input')\n",
        "d1 = layers.Dense(10,activation='relu',name='dense_1')(ip)\n",
        "d2 = layers.Dense(8,activation='relu',name='dense_2')(d1)\n",
        "\n",
        "op = layers.Dense(3,activation='softmax',name='model_output')(d2)\n",
        "\n",
        "model = models.Model(inputs=ip,outputs=op,name='3class_classifier')\n",
        "model.compile(loss='categorical_crossentropy',optimizer='adam',metrics=['accuracy'])\n",
        "model.fit(xtr,ytr,epochs=100,validation_data=(xts,yts))"
      ],
      "execution_count": null,
      "outputs": []
    },
    {
      "cell_type": "code",
      "metadata": {
        "id": "30VuiqjxJlTT"
      },
      "source": [
        "model.fit(xtr,ytr,epochs=100,validation_data=(xts,yts))"
      ],
      "execution_count": null,
      "outputs": []
    },
    {
      "cell_type": "code",
      "metadata": {
        "id": "u8shV5Q8J3Jt"
      },
      "source": [
        "model.save(\"model.h5\",save_format='tf')"
      ],
      "execution_count": 10,
      "outputs": []
    },
    {
      "cell_type": "code",
      "metadata": {
        "id": "zLwY6aJvK0co"
      },
      "source": [
        ""
      ],
      "execution_count": 9,
      "outputs": []
    },
    {
      "cell_type": "markdown",
      "metadata": {
        "id": "5Nj2vghLK5LS"
      },
      "source": [
        "# Transfer Learning"
      ]
    },
    {
      "cell_type": "markdown",
      "metadata": {
        "id": "w7R33OLLnfBI"
      },
      "source": [
        "Refrence - https://www.tensorflow.org/guide/keras/save_and_serialize#hdf5_format"
      ]
    },
    {
      "cell_type": "code",
      "metadata": {
        "colab": {
          "base_uri": "https://localhost:8080/"
        },
        "id": "Q7Dp_mjwLBAy",
        "outputId": "52292aa2-9af3-4c5b-9611-f889f44f21a0"
      },
      "source": [
        "x,y = make_blobs(n_samples=500,n_features=2,random_state=5,centers=5,cluster_std=2)\n",
        "x.shape,y.shape"
      ],
      "execution_count": 27,
      "outputs": [
        {
          "output_type": "execute_result",
          "data": {
            "text/plain": [
              "((500, 2), (500,))"
            ]
          },
          "metadata": {},
          "execution_count": 27
        }
      ]
    },
    {
      "cell_type": "code",
      "metadata": {
        "id": "nA-6XBUNLBAz"
      },
      "source": [
        "pd.DataFrame(x)"
      ],
      "execution_count": null,
      "outputs": []
    },
    {
      "cell_type": "code",
      "metadata": {
        "colab": {
          "base_uri": "https://localhost:8080/"
        },
        "id": "cX1U3GLJLBA1",
        "outputId": "1d356aff-7313-447a-9049-23ccd359a786"
      },
      "source": [
        "from tensorflow.keras.utils import to_categorical\n",
        "y = to_categorical(y)\n",
        "y.shape"
      ],
      "execution_count": 28,
      "outputs": [
        {
          "output_type": "execute_result",
          "data": {
            "text/plain": [
              "(500, 5)"
            ]
          },
          "metadata": {},
          "execution_count": 28
        }
      ]
    },
    {
      "cell_type": "code",
      "metadata": {
        "colab": {
          "base_uri": "https://localhost:8080/"
        },
        "id": "PO93xyhALBA1",
        "outputId": "d22747f0-2424-4a0a-cfcf-2095ab02537c"
      },
      "source": [
        "from sklearn.model_selection import train_test_split\n",
        "xtr,xts,ytr,yts = train_test_split(x,y,test_size=0.2,random_state=5)\n",
        "print(xtr.shape,xts.shape,ytr.shape,yts.shape)"
      ],
      "execution_count": 14,
      "outputs": [
        {
          "output_type": "stream",
          "name": "stdout",
          "text": [
            "(400, 2) (100, 2) (400, 5) (100, 5)\n"
          ]
        }
      ]
    },
    {
      "cell_type": "code",
      "metadata": {
        "colab": {
          "base_uri": "https://localhost:8080/"
        },
        "id": "WEs96liAK6_0",
        "outputId": "330e6d43-3861-4050-da00-014ba0c9717c"
      },
      "source": [
        "#loading the pretrained model\n",
        "premodel = models.load_model(\"model.h5\")\n",
        "premodel.summary()"
      ],
      "execution_count": 15,
      "outputs": [
        {
          "output_type": "stream",
          "name": "stdout",
          "text": [
            "Model: \"3class_classifier\"\n",
            "_________________________________________________________________\n",
            "Layer (type)                 Output Shape              Param #   \n",
            "=================================================================\n",
            "model_input (InputLayer)     [(None, 2)]               0         \n",
            "_________________________________________________________________\n",
            "dense_1 (Dense)              (None, 10)                30        \n",
            "_________________________________________________________________\n",
            "dense_2 (Dense)              (None, 8)                 88        \n",
            "_________________________________________________________________\n",
            "model_output (Dense)         (None, 3)                 27        \n",
            "=================================================================\n",
            "Total params: 145\n",
            "Trainable params: 145\n",
            "Non-trainable params: 0\n",
            "_________________________________________________________________\n"
          ]
        }
      ]
    },
    {
      "cell_type": "code",
      "metadata": {
        "colab": {
          "base_uri": "https://localhost:8080/"
        },
        "id": "QT0mnKROlXL2",
        "outputId": "c7860559-7781-4529-a824-835b96dd6fbf"
      },
      "source": [
        "premodel.layers"
      ],
      "execution_count": 16,
      "outputs": [
        {
          "output_type": "execute_result",
          "data": {
            "text/plain": [
              "[<keras.engine.input_layer.InputLayer at 0x7fa727cc7ed0>,\n",
              " <keras.layers.core.Dense at 0x7fa727cf7dd0>,\n",
              " <keras.layers.core.Dense at 0x7fa72c847f50>,\n",
              " <keras.layers.core.Dense at 0x7fa7294556d0>]"
            ]
          },
          "metadata": {},
          "execution_count": 16
        }
      ]
    },
    {
      "cell_type": "code",
      "metadata": {
        "colab": {
          "base_uri": "https://localhost:8080/"
        },
        "id": "V4R5AMyZlevY",
        "outputId": "86e47759-7f6f-40ca-b4f6-d6c6052ee51a"
      },
      "source": [
        "premodel.summary()"
      ],
      "execution_count": 17,
      "outputs": [
        {
          "output_type": "stream",
          "name": "stdout",
          "text": [
            "Model: \"3class_classifier\"\n",
            "_________________________________________________________________\n",
            "Layer (type)                 Output Shape              Param #   \n",
            "=================================================================\n",
            "model_input (InputLayer)     [(None, 2)]               0         \n",
            "_________________________________________________________________\n",
            "dense_1 (Dense)              (None, 10)                30        \n",
            "_________________________________________________________________\n",
            "dense_2 (Dense)              (None, 8)                 88        \n",
            "_________________________________________________________________\n",
            "model_output (Dense)         (None, 3)                 27        \n",
            "=================================================================\n",
            "Total params: 145\n",
            "Trainable params: 145\n",
            "Non-trainable params: 0\n",
            "_________________________________________________________________\n"
          ]
        }
      ]
    },
    {
      "cell_type": "markdown",
      "metadata": {
        "id": "1VuLim4U0jLO"
      },
      "source": [
        "#### Drop the Last layer of the model - which has 3 neurons and softmax activation"
      ]
    },
    {
      "cell_type": "code",
      "metadata": {
        "colab": {
          "base_uri": "https://localhost:8080/"
        },
        "id": "WN-cyGvrmpYh",
        "outputId": "06a778e1-0b93-49a8-9c94-ea136361683c"
      },
      "source": [
        "newmodel = models.Model(premodel.input,premodel.get_layer(\"dense_2\").output)\n",
        "newmodel.summary()"
      ],
      "execution_count": 29,
      "outputs": [
        {
          "output_type": "stream",
          "name": "stdout",
          "text": [
            "Model: \"model_4\"\n",
            "_________________________________________________________________\n",
            "Layer (type)                 Output Shape              Param #   \n",
            "=================================================================\n",
            "model_input (InputLayer)     [(None, 2)]               0         \n",
            "_________________________________________________________________\n",
            "dense_1 (Dense)              (None, 10)                30        \n",
            "_________________________________________________________________\n",
            "dense_2 (Dense)              (None, 8)                 88        \n",
            "=================================================================\n",
            "Total params: 118\n",
            "Trainable params: 0\n",
            "Non-trainable params: 118\n",
            "_________________________________________________________________\n"
          ]
        }
      ]
    },
    {
      "cell_type": "markdown",
      "metadata": {
        "id": "AB-gIbi70yEn"
      },
      "source": [
        "### Approach 1"
      ]
    },
    {
      "cell_type": "markdown",
      "metadata": {
        "id": "ofSJ4N6C0xpE"
      },
      "source": [
        "#"
      ]
    },
    {
      "cell_type": "code",
      "metadata": {
        "colab": {
          "base_uri": "https://localhost:8080/"
        },
        "id": "_Jm8I27jk8hy",
        "outputId": "8ebd2cbb-2360-42be-8123-7998e6496f5a"
      },
      "source": [
        "ip = layers.Input(shape=(2,))\n",
        "last_layer = newmodel(ip)\n",
        "last_layer"
      ],
      "execution_count": 19,
      "outputs": [
        {
          "output_type": "execute_result",
          "data": {
            "text/plain": [
              "<KerasTensor: shape=(None, 8) dtype=float32 (created by layer 'model')>"
            ]
          },
          "metadata": {},
          "execution_count": 19
        }
      ]
    },
    {
      "cell_type": "code",
      "metadata": {
        "id": "llUIJJfZP5ja"
      },
      "source": [
        "op = layers.Dense(5,activation='softmax')(last_layer)"
      ],
      "execution_count": 20,
      "outputs": []
    },
    {
      "cell_type": "code",
      "metadata": {
        "colab": {
          "base_uri": "https://localhost:8080/"
        },
        "id": "5RzhxdEaLoUK",
        "outputId": "e58eef74-6cf2-4756-980c-a39c9aa0c15b"
      },
      "source": [
        "final_model = models.Model(ip,op)\n",
        "final_model.summary()"
      ],
      "execution_count": 21,
      "outputs": [
        {
          "output_type": "stream",
          "name": "stdout",
          "text": [
            "Model: \"model_1\"\n",
            "_________________________________________________________________\n",
            "Layer (type)                 Output Shape              Param #   \n",
            "=================================================================\n",
            "input_1 (InputLayer)         [(None, 2)]               0         \n",
            "_________________________________________________________________\n",
            "model (Functional)           (None, 8)                 118       \n",
            "_________________________________________________________________\n",
            "dense (Dense)                (None, 5)                 45        \n",
            "=================================================================\n",
            "Total params: 163\n",
            "Trainable params: 163\n",
            "Non-trainable params: 0\n",
            "_________________________________________________________________\n"
          ]
        }
      ]
    },
    {
      "cell_type": "markdown",
      "metadata": {
        "id": "wewpAZi-2iPM"
      },
      "source": [
        "### Approach 2"
      ]
    },
    {
      "cell_type": "code",
      "metadata": {
        "id": "sTzONOKY2rIQ"
      },
      "source": [
        "premodel = models.load_model(\"model.h5\")\n",
        "# remove the last layer of the pretrained network\n",
        "newmodel = models.Model(premodel.input,premodel.get_layer(\"dense_2\").output)"
      ],
      "execution_count": 30,
      "outputs": []
    },
    {
      "cell_type": "code",
      "metadata": {
        "colab": {
          "base_uri": "https://localhost:8080/"
        },
        "id": "8gHCAkgBL75e",
        "outputId": "ed9762cd-e7d4-483d-c246-8f872af1a4ed"
      },
      "source": [
        "cl = newmodel.layers[-1].output\n",
        "op = layers.Dense(5,activation='softmax',name='new_output')(cl)\n",
        "final_model = models.Model(newmodel.input,op)\n",
        "final_model.summary()"
      ],
      "execution_count": 31,
      "outputs": [
        {
          "output_type": "stream",
          "name": "stdout",
          "text": [
            "Model: \"model_6\"\n",
            "_________________________________________________________________\n",
            "Layer (type)                 Output Shape              Param #   \n",
            "=================================================================\n",
            "model_input (InputLayer)     [(None, 2)]               0         \n",
            "_________________________________________________________________\n",
            "dense_1 (Dense)              (None, 10)                30        \n",
            "_________________________________________________________________\n",
            "dense_2 (Dense)              (None, 8)                 88        \n",
            "_________________________________________________________________\n",
            "new_output (Dense)           (None, 5)                 45        \n",
            "=================================================================\n",
            "Total params: 163\n",
            "Trainable params: 163\n",
            "Non-trainable params: 0\n",
            "_________________________________________________________________\n"
          ]
        }
      ]
    },
    {
      "cell_type": "code",
      "metadata": {
        "colab": {
          "base_uri": "https://localhost:8080/"
        },
        "id": "kOq_1p2Uw1Qb",
        "outputId": "22501947-7bd1-4543-da6f-81b99cb39dd5"
      },
      "source": [
        "for layer in final_model.layers[:-1]:\n",
        "  layer.trainable=False\n",
        "final_model.summary()"
      ],
      "execution_count": 24,
      "outputs": [
        {
          "output_type": "stream",
          "name": "stdout",
          "text": [
            "Model: \"model_3\"\n",
            "_________________________________________________________________\n",
            "Layer (type)                 Output Shape              Param #   \n",
            "=================================================================\n",
            "model_input (InputLayer)     [(None, 2)]               0         \n",
            "_________________________________________________________________\n",
            "dense_1 (Dense)              (None, 10)                30        \n",
            "_________________________________________________________________\n",
            "dense_2 (Dense)              (None, 8)                 88        \n",
            "_________________________________________________________________\n",
            "new_output (Dense)           (None, 5)                 45        \n",
            "=================================================================\n",
            "Total params: 163\n",
            "Trainable params: 45\n",
            "Non-trainable params: 118\n",
            "_________________________________________________________________\n"
          ]
        }
      ]
    },
    {
      "cell_type": "code",
      "metadata": {
        "id": "-hyLQa4zQI4j",
        "colab": {
          "base_uri": "https://localhost:8080/"
        },
        "outputId": "d4519bdd-b58c-4506-c941-cfd825c281f5"
      },
      "source": [
        "final_model.compile(loss='categorical_crossentropy',optimizer='adam',metrics=['accuracy'])\n",
        "final_model.fit(xtr,ytr,epochs=50,validation_data=(xts,yts))"
      ],
      "execution_count": 25,
      "outputs": [
        {
          "output_type": "stream",
          "name": "stdout",
          "text": [
            "Epoch 1/50\n",
            "13/13 [==============================] - 0s 16ms/step - loss: 12.1074 - accuracy: 0.2000 - val_loss: 11.4658 - val_accuracy: 0.2000\n",
            "Epoch 2/50\n",
            "13/13 [==============================] - 0s 3ms/step - loss: 11.3170 - accuracy: 0.2000 - val_loss: 10.6732 - val_accuracy: 0.2000\n",
            "Epoch 3/50\n",
            "13/13 [==============================] - 0s 3ms/step - loss: 10.5397 - accuracy: 0.2025 - val_loss: 9.8789 - val_accuracy: 0.2000\n",
            "Epoch 4/50\n",
            "13/13 [==============================] - 0s 3ms/step - loss: 9.7690 - accuracy: 0.2050 - val_loss: 9.1238 - val_accuracy: 0.2000\n",
            "Epoch 5/50\n",
            "13/13 [==============================] - 0s 3ms/step - loss: 9.0298 - accuracy: 0.2200 - val_loss: 8.3973 - val_accuracy: 0.2300\n",
            "Epoch 6/50\n",
            "13/13 [==============================] - 0s 3ms/step - loss: 8.3653 - accuracy: 0.2500 - val_loss: 7.7025 - val_accuracy: 0.2800\n",
            "Epoch 7/50\n",
            "13/13 [==============================] - 0s 3ms/step - loss: 7.7280 - accuracy: 0.2575 - val_loss: 7.1060 - val_accuracy: 0.3200\n",
            "Epoch 8/50\n",
            "13/13 [==============================] - 0s 3ms/step - loss: 7.2025 - accuracy: 0.2775 - val_loss: 6.5786 - val_accuracy: 0.3200\n",
            "Epoch 9/50\n",
            "13/13 [==============================] - 0s 3ms/step - loss: 6.7420 - accuracy: 0.2925 - val_loss: 6.1168 - val_accuracy: 0.3200\n",
            "Epoch 10/50\n",
            "13/13 [==============================] - 0s 4ms/step - loss: 6.3026 - accuracy: 0.3000 - val_loss: 5.7157 - val_accuracy: 0.3300\n",
            "Epoch 11/50\n",
            "13/13 [==============================] - 0s 3ms/step - loss: 5.9031 - accuracy: 0.3075 - val_loss: 5.3172 - val_accuracy: 0.3200\n",
            "Epoch 12/50\n",
            "13/13 [==============================] - 0s 3ms/step - loss: 5.4995 - accuracy: 0.3050 - val_loss: 4.9338 - val_accuracy: 0.3200\n",
            "Epoch 13/50\n",
            "13/13 [==============================] - 0s 3ms/step - loss: 5.1080 - accuracy: 0.3075 - val_loss: 4.5721 - val_accuracy: 0.3200\n",
            "Epoch 14/50\n",
            "13/13 [==============================] - 0s 3ms/step - loss: 4.7432 - accuracy: 0.3100 - val_loss: 4.2476 - val_accuracy: 0.3000\n",
            "Epoch 15/50\n",
            "13/13 [==============================] - 0s 3ms/step - loss: 4.4337 - accuracy: 0.3100 - val_loss: 4.0068 - val_accuracy: 0.3200\n",
            "Epoch 16/50\n",
            "13/13 [==============================] - 0s 3ms/step - loss: 4.1902 - accuracy: 0.3125 - val_loss: 3.8321 - val_accuracy: 0.3400\n",
            "Epoch 17/50\n",
            "13/13 [==============================] - 0s 3ms/step - loss: 4.0111 - accuracy: 0.3150 - val_loss: 3.6824 - val_accuracy: 0.3400\n",
            "Epoch 18/50\n",
            "13/13 [==============================] - 0s 3ms/step - loss: 3.8455 - accuracy: 0.3075 - val_loss: 3.5577 - val_accuracy: 0.3400\n",
            "Epoch 19/50\n",
            "13/13 [==============================] - 0s 3ms/step - loss: 3.7003 - accuracy: 0.3050 - val_loss: 3.4479 - val_accuracy: 0.3100\n",
            "Epoch 20/50\n",
            "13/13 [==============================] - 0s 4ms/step - loss: 3.5917 - accuracy: 0.3000 - val_loss: 3.3433 - val_accuracy: 0.3100\n",
            "Epoch 21/50\n",
            "13/13 [==============================] - 0s 4ms/step - loss: 3.4445 - accuracy: 0.3125 - val_loss: 3.2522 - val_accuracy: 0.3200\n",
            "Epoch 22/50\n",
            "13/13 [==============================] - 0s 3ms/step - loss: 3.3299 - accuracy: 0.3200 - val_loss: 3.1695 - val_accuracy: 0.3400\n",
            "Epoch 23/50\n",
            "13/13 [==============================] - 0s 4ms/step - loss: 3.2304 - accuracy: 0.3225 - val_loss: 3.0923 - val_accuracy: 0.3400\n",
            "Epoch 24/50\n",
            "13/13 [==============================] - 0s 3ms/step - loss: 3.1308 - accuracy: 0.3175 - val_loss: 3.0189 - val_accuracy: 0.3200\n",
            "Epoch 25/50\n",
            "13/13 [==============================] - 0s 3ms/step - loss: 3.0470 - accuracy: 0.3225 - val_loss: 2.9564 - val_accuracy: 0.3300\n",
            "Epoch 26/50\n",
            "13/13 [==============================] - 0s 3ms/step - loss: 2.9721 - accuracy: 0.3400 - val_loss: 2.8934 - val_accuracy: 0.3400\n",
            "Epoch 27/50\n",
            "13/13 [==============================] - 0s 3ms/step - loss: 2.8888 - accuracy: 0.3475 - val_loss: 2.8217 - val_accuracy: 0.3300\n",
            "Epoch 28/50\n",
            "13/13 [==============================] - 0s 3ms/step - loss: 2.8225 - accuracy: 0.3475 - val_loss: 2.7594 - val_accuracy: 0.3500\n",
            "Epoch 29/50\n",
            "13/13 [==============================] - 0s 3ms/step - loss: 2.7481 - accuracy: 0.3550 - val_loss: 2.6963 - val_accuracy: 0.3700\n",
            "Epoch 30/50\n",
            "13/13 [==============================] - 0s 3ms/step - loss: 2.6804 - accuracy: 0.3650 - val_loss: 2.6332 - val_accuracy: 0.3700\n",
            "Epoch 31/50\n",
            "13/13 [==============================] - 0s 3ms/step - loss: 2.6145 - accuracy: 0.3650 - val_loss: 2.5730 - val_accuracy: 0.3800\n",
            "Epoch 32/50\n",
            "13/13 [==============================] - 0s 3ms/step - loss: 2.5536 - accuracy: 0.3650 - val_loss: 2.5111 - val_accuracy: 0.3800\n",
            "Epoch 33/50\n",
            "13/13 [==============================] - 0s 3ms/step - loss: 2.4861 - accuracy: 0.3625 - val_loss: 2.4492 - val_accuracy: 0.3800\n",
            "Epoch 34/50\n",
            "13/13 [==============================] - 0s 3ms/step - loss: 2.4239 - accuracy: 0.3675 - val_loss: 2.3836 - val_accuracy: 0.3700\n",
            "Epoch 35/50\n",
            "13/13 [==============================] - 0s 3ms/step - loss: 2.3653 - accuracy: 0.3650 - val_loss: 2.3185 - val_accuracy: 0.3700\n",
            "Epoch 36/50\n",
            "13/13 [==============================] - 0s 3ms/step - loss: 2.2988 - accuracy: 0.3675 - val_loss: 2.2624 - val_accuracy: 0.3700\n",
            "Epoch 37/50\n",
            "13/13 [==============================] - 0s 3ms/step - loss: 2.2395 - accuracy: 0.3675 - val_loss: 2.2059 - val_accuracy: 0.3700\n",
            "Epoch 38/50\n",
            "13/13 [==============================] - 0s 3ms/step - loss: 2.1792 - accuracy: 0.3725 - val_loss: 2.1411 - val_accuracy: 0.3700\n",
            "Epoch 39/50\n",
            "13/13 [==============================] - 0s 3ms/step - loss: 2.1205 - accuracy: 0.3725 - val_loss: 2.0770 - val_accuracy: 0.3700\n",
            "Epoch 40/50\n",
            "13/13 [==============================] - 0s 3ms/step - loss: 2.0602 - accuracy: 0.3675 - val_loss: 2.0225 - val_accuracy: 0.3700\n",
            "Epoch 41/50\n",
            "13/13 [==============================] - 0s 3ms/step - loss: 2.0024 - accuracy: 0.3725 - val_loss: 1.9665 - val_accuracy: 0.3700\n",
            "Epoch 42/50\n",
            "13/13 [==============================] - 0s 3ms/step - loss: 1.9476 - accuracy: 0.3725 - val_loss: 1.9085 - val_accuracy: 0.3700\n",
            "Epoch 43/50\n",
            "13/13 [==============================] - 0s 5ms/step - loss: 1.8882 - accuracy: 0.3800 - val_loss: 1.8560 - val_accuracy: 0.3700\n",
            "Epoch 44/50\n",
            "13/13 [==============================] - 0s 4ms/step - loss: 1.8335 - accuracy: 0.3850 - val_loss: 1.8031 - val_accuracy: 0.3700\n",
            "Epoch 45/50\n",
            "13/13 [==============================] - 0s 3ms/step - loss: 1.7815 - accuracy: 0.3875 - val_loss: 1.7491 - val_accuracy: 0.3800\n",
            "Epoch 46/50\n",
            "13/13 [==============================] - 0s 3ms/step - loss: 1.7264 - accuracy: 0.3875 - val_loss: 1.6986 - val_accuracy: 0.3800\n",
            "Epoch 47/50\n",
            "13/13 [==============================] - 0s 3ms/step - loss: 1.6739 - accuracy: 0.3875 - val_loss: 1.6435 - val_accuracy: 0.4200\n",
            "Epoch 48/50\n",
            "13/13 [==============================] - 0s 3ms/step - loss: 1.6201 - accuracy: 0.3900 - val_loss: 1.5937 - val_accuracy: 0.4200\n",
            "Epoch 49/50\n",
            "13/13 [==============================] - 0s 3ms/step - loss: 1.5689 - accuracy: 0.3850 - val_loss: 1.5368 - val_accuracy: 0.4100\n",
            "Epoch 50/50\n",
            "13/13 [==============================] - 0s 3ms/step - loss: 1.5184 - accuracy: 0.3875 - val_loss: 1.4893 - val_accuracy: 0.4200\n"
          ]
        },
        {
          "output_type": "execute_result",
          "data": {
            "text/plain": [
              "<keras.callbacks.History at 0x7fa72649c910>"
            ]
          },
          "metadata": {},
          "execution_count": 25
        }
      ]
    },
    {
      "cell_type": "code",
      "metadata": {
        "id": "rUlOLNwsxDoy"
      },
      "source": [
        ""
      ],
      "execution_count": null,
      "outputs": []
    }
  ]
}